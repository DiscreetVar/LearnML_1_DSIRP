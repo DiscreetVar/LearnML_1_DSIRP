{
 "cells": [
  {
   "cell_type": "markdown",
   "metadata": {},
   "source": [
    "# Algorithms"
   ]
  },
  {
   "cell_type": "markdown",
   "metadata": {},
   "source": [
    "[Click here to run this chapter on Colab](https://colab.research.google.com/github/AllenDowney/DSIRP/blob/main/notebooks/algorithms.ipynb)"
   ]
  },
  {
   "cell_type": "markdown",
   "metadata": {},
   "source": [
    "## Searching for anagrams\n",
    "\n",
    "In this notebook we'll implement algorithms for two tasks:\n",
    "\n",
    "* Testing a pair of words to see if they are anagrams of each other, that is, if you can rearrange the letters in one word to spell the other.\n",
    "\n",
    "* Searching a list of words for all pairs that are anagrams of each other.\n",
    "\n",
    "There is a point to these examples, which I will explain at the end."
   ]
  },
  {
   "cell_type": "markdown",
   "metadata": {},
   "source": [
    "**Exercise 1:** Write a function that takes two words and returns `True` if they are anagrams. Test your function with the examples below."
   ]
  },
  {
   "cell_type": "code",
   "execution_count": 1,
   "metadata": {},
   "outputs": [],
   "source": [
    "def is_anagram(word1, word2):\n",
    "    \n",
    "    # sort the letters in each word\n",
    "    word1 = sorted(word1)\n",
    "    word2 = sorted(word2)\n",
    "    \n",
    "    # compare the sorted words\n",
    "    return word1 == word2"
   ]
  },
  {
   "cell_type": "code",
   "execution_count": null,
   "metadata": {},
   "outputs": [],
   "source": []
  },
  {
   "cell_type": "code",
   "execution_count": 2,
   "metadata": {},
   "outputs": [
    {
     "data": {
      "text/plain": [
       "True"
      ]
     },
     "execution_count": 2,
     "metadata": {},
     "output_type": "execute_result"
    }
   ],
   "source": [
    "is_anagram('tachymetric', 'mccarthyite') # True"
   ]
  },
  {
   "cell_type": "code",
   "execution_count": 3,
   "metadata": {},
   "outputs": [
    {
     "data": {
      "text/plain": [
       "False"
      ]
     },
     "execution_count": 3,
     "metadata": {},
     "output_type": "execute_result"
    }
   ],
   "source": [
    "is_anagram('post', 'top') # False, letter not present"
   ]
  },
  {
   "cell_type": "code",
   "execution_count": 4,
   "metadata": {},
   "outputs": [
    {
     "data": {
      "text/plain": [
       "False"
      ]
     },
     "execution_count": 4,
     "metadata": {},
     "output_type": "execute_result"
    }
   ],
   "source": [
    "is_anagram('pott', 'top') # False, letter present but not enough copies"
   ]
  },
  {
   "cell_type": "code",
   "execution_count": 5,
   "metadata": {},
   "outputs": [
    {
     "data": {
      "text/plain": [
       "False"
      ]
     },
     "execution_count": 5,
     "metadata": {},
     "output_type": "execute_result"
    }
   ],
   "source": [
    "is_anagram('top', 'post') # False, letters left over at the end"
   ]
  },
  {
   "cell_type": "code",
   "execution_count": 6,
   "metadata": {},
   "outputs": [
    {
     "data": {
      "text/plain": [
       "False"
      ]
     },
     "execution_count": 6,
     "metadata": {},
     "output_type": "execute_result"
    }
   ],
   "source": [
    "is_anagram('topss', 'postt') # False"
   ]
  },
  {
   "cell_type": "markdown",
   "metadata": {},
   "source": [
    "**Exercise 2:** Use `timeit` to see how fast your function is for these examples:"
   ]
  },
  {
   "cell_type": "code",
   "execution_count": 7,
   "metadata": {},
   "outputs": [
    {
     "name": "stdout",
     "output_type": "stream",
     "text": [
      "726 ns ± 52.1 ns per loop (mean ± std. dev. of 7 runs, 1,000,000 loops each)\n"
     ]
    }
   ],
   "source": [
    "%timeit is_anagram('tops', 'spot')"
   ]
  },
  {
   "cell_type": "code",
   "execution_count": 8,
   "metadata": {},
   "outputs": [
    {
     "name": "stdout",
     "output_type": "stream",
     "text": [
      "1.17 µs ± 74.3 ns per loop (mean ± std. dev. of 7 runs, 1,000,000 loops each)\n"
     ]
    }
   ],
   "source": [
    "%timeit is_anagram('tachymetric', 'mccarthyite')"
   ]
  },
  {
   "cell_type": "markdown",
   "metadata": {},
   "source": [
    "How can we compare algorithms running on different computers?"
   ]
  },
  {
   "cell_type": "markdown",
   "metadata": {},
   "source": [
    "## Searching for anagram pairs"
   ]
  },
  {
   "cell_type": "markdown",
   "metadata": {},
   "source": [
    "**Exercise 3:** Write a function that takes a word list and returns a list of all anagram pairs."
   ]
  },
  {
   "cell_type": "code",
   "execution_count": 9,
   "metadata": {},
   "outputs": [],
   "source": [
    "short_word_list = ['proudest', 'stop', 'pots', 'tops', 'sprouted']"
   ]
  },
  {
   "cell_type": "code",
   "execution_count": 10,
   "metadata": {},
   "outputs": [],
   "source": [
    "#v0 basic function - does not check for identity or reverse pairs\n",
    "\n",
    "def all_anagram_pairs_v0(word_list):\n",
    "    \n",
    "    # initialize an empty list to hold the anagram pairs\n",
    "    anagram_pairs = []\n",
    "    \n",
    "    # loop over each word in the list\n",
    "    for word1 in word_list:\n",
    "        \n",
    "        # loop over each word in the list again\n",
    "        for word2 in word_list:\n",
    "            \n",
    "            # check if the two words are anagrams\n",
    "            if is_anagram(word1, word2):\n",
    "                \n",
    "                # add the pair to the list\n",
    "                anagram_pairs.append((word1, word2))\n",
    "                \n",
    "    return anagram_pairs\n",
    "\n",
    "\n"
   ]
  },
  {
   "cell_type": "code",
   "execution_count": 11,
   "metadata": {},
   "outputs": [],
   "source": [
    "#v1 updated function - checks for duplicates and reverse pairs\n",
    "\n",
    "def all_anagram_pairs_v1(word_list):\n",
    "\n",
    "    # initialize an empty list to hold the anagram pairs\n",
    "    anagram_pairs = []\n",
    "    \n",
    "    # loop over each word in the list\n",
    "    for word1 in word_list:\n",
    "        \n",
    "        # loop over each word in the list again\n",
    "        for word2 in word_list:\n",
    "            \n",
    "            # check if the two words are anagrams\n",
    "            if is_anagram(word1, word2):\n",
    "                \n",
    "                # check if the pair is already in the list\n",
    "                if (word2, word1) not in anagram_pairs:\n",
    "                    \n",
    "                    # add the pair to the list\n",
    "                    anagram_pairs.append((word1, word2))\n",
    "                \n",
    "    return anagram_pairs\n",
    "\n",
    "\n",
    "    \n",
    "\n"
   ]
  },
  {
   "cell_type": "code",
   "execution_count": 12,
   "metadata": {},
   "outputs": [],
   "source": [
    "#v updated function - using enumerate. otherwise unnecessary comparisons are made \n",
    "def all_anagram_pairs_v2(word_list):\n",
    "    # initialize an empty list to hold the anagram pairs\n",
    "    anagram_pairs = []\n",
    "    \n",
    "    for index, word1 in enumerate(word_list):\n",
    "        for word2 in word_list[index+1:]:\n",
    "            if is_anagram(word1, word2):\n",
    "                anagram_pairs.append((word1, word2))\n",
    "\n",
    "    return anagram_pairs"
   ]
  },
  {
   "cell_type": "code",
   "execution_count": 13,
   "metadata": {},
   "outputs": [],
   "source": [
    "#v updated function - using itertools. otherwise unnecessary comparisons are made \n",
    "\n",
    "import itertools\n",
    "\n",
    "def all_anagram_pairs_v3(word_list):\n",
    "    # initialize an empty list to hold the anagram pairs\n",
    "    anagram_pairs = []\n",
    "    \n",
    "    for word1,word2 in itertools.combinations(word_list, 2):\n",
    "            if is_anagram(word1, word2):\n",
    "                anagram_pairs.append((word1, word2))\n",
    "\n",
    "    return anagram_pairs"
   ]
  },
  {
   "cell_type": "code",
   "execution_count": 14,
   "metadata": {},
   "outputs": [
    {
     "data": {
      "text/plain": [
       "[('proudest', 'sprouted'),\n",
       " ('stop', 'pots'),\n",
       " ('stop', 'tops'),\n",
       " ('pots', 'tops')]"
      ]
     },
     "execution_count": 14,
     "metadata": {},
     "output_type": "execute_result"
    }
   ],
   "source": [
    "# choose the version of the function to use\n",
    "\n",
    "all_anagram_pairs = all_anagram_pairs_v3\n",
    "all_anagram_pairs(short_word_list)\n"
   ]
  },
  {
   "cell_type": "markdown",
   "metadata": {},
   "source": [
    "The following cell downloads a file containing a list of English words."
   ]
  },
  {
   "cell_type": "code",
   "execution_count": 15,
   "metadata": {},
   "outputs": [],
   "source": [
    "from os.path import basename, exists\n",
    "\n",
    "def download(url):\n",
    "    filename = basename(url)\n",
    "    if not exists(filename):\n",
    "        from urllib.request import urlretrieve\n",
    "        local, _ = urlretrieve(url, filename)\n",
    "        print('Downloaded ' + local)\n",
    "    \n",
    "download('https://github.com/AllenDowney/DSIRP/raw/main/american-english')"
   ]
  },
  {
   "cell_type": "markdown",
   "metadata": {},
   "source": [
    "The following function reads a file and returns a set of words (I used a set because after we convert words to lower case, there are some repeats.)"
   ]
  },
  {
   "cell_type": "code",
   "execution_count": 16,
   "metadata": {},
   "outputs": [],
   "source": [
    "def read_words(filename):\n",
    "    \"\"\"Read lines from a file and split them into words.\"\"\"\n",
    "    res = set()\n",
    "    for line in open(filename):\n",
    "        for word in line.split():\n",
    "            res.add(word.strip().lower())\n",
    "    return res"
   ]
  },
  {
   "cell_type": "code",
   "execution_count": 17,
   "metadata": {},
   "outputs": [
    {
     "data": {
      "text/plain": [
       "100781"
      ]
     },
     "execution_count": 17,
     "metadata": {},
     "output_type": "execute_result"
    }
   ],
   "source": [
    "word_list = read_words('american-english')\n",
    "len(word_list)"
   ]
  },
  {
   "cell_type": "markdown",
   "metadata": {},
   "source": [
    "**Exercise 4:** Loop through the word list and print all words that are anagrams of `stop`."
   ]
  },
  {
   "cell_type": "code",
   "execution_count": 18,
   "metadata": {},
   "outputs": [
    {
     "name": "stdout",
     "output_type": "stream",
     "text": [
      "tops\n",
      "pots\n",
      "spot\n",
      "opts\n",
      "stop\n",
      "post\n"
     ]
    }
   ],
   "source": [
    "for word in word_list:\n",
    "    if is_anagram('stop', word):\n",
    "        print(word)"
   ]
  },
  {
   "cell_type": "markdown",
   "metadata": {},
   "source": [
    "Now run `all_anagram_pairs` with the full `word_list`:"
   ]
  },
  {
   "cell_type": "code",
   "execution_count": 19,
   "metadata": {},
   "outputs": [
    {
     "name": "stdout",
     "output_type": "stream",
     "text": [
      "[('sisal', 'sails'), ('sisal', 'silas'), ('deism', 'dimes'), ('sadie', 'ideas'), ('sadie', 'aides'), ('sadie', 'aside'), ('wrote', 'tower'), ('stain', 'saint'), ('stain', 'satin'), ('stain', 'antis'), ('riven', 'ervin'), ('comet', 'comte'), ('laces', 'scale'), ('plane', 'nepal'), ('plane', 'penal'), ('plane', 'panel'), ('erect', 'crete'), ('keels', 'leeks'), ('keels', 'sleek'), ('louse', 'seoul'), ('amgen', 'megan'), ('amgen', 'mange'), ('golfs', 'flogs'), ('ringo', 'groin'), ('lloyd', 'dolly'), ('aries', 'raise'), ('aries', 'arise'), ('aries', 'aires'), ('slily', 'silly'), ('grids', 'girds'), ('dying', 'dingy'), ('wanes', 'weans'), ('reich', 'cheri'), ('reich', 'erich'), ('walsh', 'shawl'), ('trash', 'harts'), ('tamps', 'stamp'), ('stink', 'knits'), ('relay', 'leary'), ('relay', 'early'), ('relay', 'layer'), ('astir', 'stair'), ('astir', 'sitar'), ('warps', 'wraps'), ('today', 'toady'), ('files', 'flies'), ('gates', 'stage'), (\"act's\", \"cat's\"), ('sacks', 'casks'), ('rouge', 'rogue'), ('deter', 'treed'), ('oiled', 'oldie'), ('using', 'suing'), ('using', 'ginsu'), ('cords', 'scrod'), ('iliad', 'lidia'), ('stews', 'wests'), ('aunts', 'tunas'), ('dunes', 'nudes'), ('neath', 'ethan'), ('colts', 'clots'), (\"ism's\", \"sim's\"), ('morns', 'norms'), ('blair', 'libra'), ('peels', 'sleep'), (\"gut's\", \"tug's\"), ('males', 'lames'), ('males', 'meals'), ('males', 'salem'), ('males', 'selma'), ('dales', 'lades'), ('dales', 'deals'), ('dales', 'leads'), ('spray', 'prays'), ('spray', 'raspy'), ('patel', 'pleat'), ('patel', 'leapt'), ('patel', 'petal'), ('patel', 'plate'), ('riots', 'torsi'), ('riots', 'tiros'), ('riots', 'trios'), ('ferry', 'fryer'), ('smear', 'mares'), ('smear', 'reams'), (\"nam's\", \"man's\"), ('maine', 'anime'), ('gnats', 'angst'), ('gnats', 'tangs'), ('scold', 'clods'), ('scold', 'colds'), ('tessa', 'sates'), ('tessa', 'asset'), ('tessa', 'seats'), ('tessa', 'easts'), ('pates', 'septa'), ('pates', 'tapes'), ('pates', 'spate'), ('pates', 'paste'), (\"nit's\", \"isn't\"), (\"nit's\", \"tin's\"), ('knees', 'keens'), (\"bun's\", \"nub's\"), ('scope', 'copse'), ('scope', 'pecos'), ('scope', 'copes'), ('carly', 'lycra'), ('speed', 'deeps'), ('satyr', 'trays'), ('satyr', 'artsy'), ('satyr', 'stray'), ('ascot', 'coast'), ('ascot', 'tacos'), ('ascot', 'tosca'), ('ascot', 'coats'), (\"tor's\", \"rot's\"), ('named', 'admen'), ('named', 'medan'), ('named', 'amend'), ('goner', 'goren'), ('goner', 'negro'), ('saint', 'satin'), ('saint', 'antis'), ('slack', 'calks'), ('slack', 'lacks'), ('marge', 'gamer'), ('lenny', 'lynne'), ('adder', 'dread'), ('adder', 'dared'), ('bella', 'label'), (\"gas's\", \"sag's\"), ('enrol', 'loren'), ('enrol', 'loner'), ('scats', 'casts'), ('pedal', 'paled'), ('pedal', 'plead'), ('sharp', 'harps'), ('worth', 'wroth'), ('worth', 'throw'), ('views', 'wives'), ('teens', 'tense'), ('pries', 'piers'), ('pries', 'spire'), ('tilde', 'tiled'), ('tarps', 'sprat'), ('tarps', 'traps'), ('tarps', 'parts'), ('tarps', 'strap'), ('cares', 'races'), ('cares', 'acres'), ('cares', 'cesar'), ('cares', 'scare'), ('pyres', 'preys'), ('pyres', 'ypres'), ('echos', 'chose'), ('loped', 'poled'), ('artie', 'irate'), (\"bus's\", \"ubs's\"), (\"bus's\", \"sub's\"), ('leaks', 'lakes'), ('leaks', 'slake'), ('aided', 'addie'), (\"nat's\", \"ant's\"), (\"nat's\", \"tan's\"), ('pends', 'spend'), ('shook', 'hooks'), ('shoot', 'hoots'), ('shoot', 'sooth'), ('lapse', 'pleas'), ('lapse', 'sepal'), ('lapse', 'pales'), ('lapse', 'peals'), ('lapse', 'leaps'), ('thing', 'night'), ('speck', 'pecks'), ('freak', 'faker'), ('wrest', 'strew'), ('prius', 'sirup'), ('roger', 'reorg'), ('roger', 'regor'), ('pedro', 'pored'), ('pedro', 'roped'), ('annam', 'manna'), ('pleas', 'sepal'), ('pleas', 'pales'), ('pleas', 'peals'), ('pleas', 'leaps'), (\"lag's\", \"gal's\"), ('debut', 'tubed'), ('sakha', 'shaka'), ('dears', 'dares'), ('dears', 'reads'), ('calks', 'lacks'), ('nimbi', 'mbini'), (\"neo's\", \"one's\"), (\"neo's\", \"noe's\"), (\"neo's\", \"eon's\"), ('acton', 'canto'), ('shoes', 'hoses'), ('wires', 'weirs'), ('wires', 'wiser'), ('toast', 'stoat'), ('darin', 'drain'), ('darin', 'randi'), ('darin', 'nadir'), ('darin', 'indra'), ('reaps', 'parse'), ('reaps', 'pears'), ('reaps', 'spare'), ('reaps', 'pares'), ('reaps', 'spear'), ('reaps', 'rapes'), ('cadre', 'cared'), ('cadre', 'raced'), ('cadre', 'arced'), ('cadre', 'cedar'), ('ninja', 'jinan'), ('sloth', 'holst'), ('verne', 'nerve'), ('verne', 'never'), ('beret', 'ebert'), ('shuck', 'kusch'), ('monte', 'monet'), ('tanks', 'stank'), ('sloan', 'loans'), ('sloan', 'salon'), ('regal', 'glare'), ('regal', 'alger'), ('regal', 'large'), ('regal', 'elgar'), ('regal', 'lager'), ('lions', 'loins'), ('strut', 'trust'), ('kills', 'skill'), ('bagel', 'gable'), ('horde', 'herod'), ('horde', 'rhode'), ('raise', 'arise'), ('raise', 'aires'), ('crape', 'caper'), ('crape', 'recap'), ('rebut', 'tuber'), ('rebut', 'brute'), (\"roe's\", \"ore's\"), ('olsen', 'noels'), ('lurch', 'churl'), ('caged', 'cadge'), ('sinks', 'skins'), ('tings', 'sting'), ('wroth', 'throw'), ('leroy', 'elroy'), ('grads', 'drags'), ('valid', 'advil'), ('valid', 'vidal'), ('emacs', 'acmes'), ('emacs', 'maces'), (\"yaw's\", \"way's\"), ('culls', 'scull'), ('aspic', 'spica'), ('marci', 'micra'), ('sugar', 'argus'), ('wylie', 'wiley'), ('elvin', 'liven'), ('amply', 'palmy'), ('forts', 'frost'), ('snore', 'norse'), (\"bin's\", \"nib's\"), ('lynda', 'dylan'), ('beaks', 'bakes'), ('charm', 'march'), ('gnash', 'hangs'), ('runts', 'turns'), ('crane', 'nacre'), ('bassi', 'basis'), ('index', 'nixed'), ('paged', 'gaped'), ('adept', 'taped'), ('ryder', 'dryer'), ('dimer', 'mired'), ('dimer', 'rimed'), ('egret', 'greet'), ('cigar', 'craig'), ('slump', 'lumps'), ('slump', 'plums'), ('diana', 'nadia'), ('diana', 'naiad'), ('spine', 'pines'), ('spine', 'penis'), ('spine', 'snipe'), ('liras', 'lairs'), ('liras', 'liars'), ('liras', 'rails'), ('hayed', 'heady'), ('metes', 'meets'), ('metes', 'teems'), ('goths', 'ghost'), ('credo', 'cored'), ('credo', 'decor'), ('slier', 'riles'), ('spiel', 'piles'), ('spiel', 'plies'), ('union', 'inonu'), ('vales', 'salve'), ('vales', 'slave'), ('swaps', 'wasps'), ('getup', 'puget'), ('flied', 'fidel'), ('flied', 'field'), ('flied', 'filed'), ('atoms', 'tomas'), ('atoms', 'moats'), ('alarm', 'marla'), ('alarm', 'lamar'), ('tutsi', 'titus'), ('sheol', 'holes'), ('weird', 'wired'), ('weird', 'wider'), ('nigga', 'aging'), ('unbar', 'urban'), ('sidle', 'idles'), ('sidle', 'slide'), ('sidle', 'delis'), ('halos', 'shoal'), ('verdi', 'diver'), ('verdi', 'drive'), ('leeks', 'sleek'), ('among', 'mango'), ('linen', 'lenin'), ('notes', 'stone'), ('notes', 'onset'), ('notes', 'seton'), ('notes', 'tones'), ('tared', 'tread'), ('tared', 'trade'), ('tared', 'rated'), ('splay', 'palsy'), ('splay', 'plays'), ('dyson', 'synod'), ('brake', 'baker'), ('brake', 'break'), ('nexis', 'nixes'), ('gazer', 'graze'), ('hoops', 'poohs'), ('noted', 'toned'), ('genre', 'green'), ('taxes', 'texas'), ('beats', 'betas'), ('beats', 'abets'), ('beats', 'beast'), ('beats', 'baste'), ('beats', 'bates'), ('blued', 'lubed'), ('pairs', 'parsi'), ('pairs', 'paris'), ('leila', 'lelia'), ('leila', 'allie'), ('harte', 'hater'), ('harte', 'earth'), ('harte', 'heart'), ('terns', 'ernst'), ('terns', 'rents'), ('terns', 'stern'), ('puree', 'rupee'), ('tares', 'aster'), ('tares', 'stare'), ('tares', 'tears'), ('tares', 'taser'), ('tares', 'rates'), ('saree', 'erase'), ('weeds', 'sewed'), ('weeds', 'swede'), ('fears', 'fares'), ('fears', 'safer'), ('hulas', 'hauls'), ('hulas', 'shula'), (\"pan's\", \"nap's\"), ('share', 'hares'), ('share', 'hears'), ('share', 'rheas'), ('share', 'shear'), ('incas', 'cains'), ('sabin', 'basin'), ('wheal', 'whale'), ('range', 'anger'), (\"tim's\", \"mit's\"), ('aster', 'stare'), ('aster', 'tears'), ('aster', 'taser'), ('aster', 'rates'), ('cared', 'raced'), ('cared', 'arced'), ('cared', 'cedar'), ('beans', 'banes'), ('talon', 'alton'), ('talon', 'tonal'), ('shank', 'khans'), ('shank', 'hanks'), ('shank', 'ankhs'), (\"arm's\", \"mar's\"), (\"arm's\", \"ram's\"), ('gamed', 'madge'), (\"law's\", \"awl's\"), ('elsie', 'elise'), ('redid', 'dried'), ('sperm', 'perms'), ('italy', 'laity'), ('claps', 'scalp'), ('claps', 'clasp'), ('tomas', 'moats'), (\"bur's\", \"rub's\"), ('drabs', 'bards'), ('drabs', 'brads'), ('spoke', 'pokes'), ('boost', 'boots'), ('alums', 'mauls'), ('laura', 'aural'), (\"oct's\", \"cot's\"), ('rehab', 'brahe'), ('rehab', 'haber'), ('lauri', 'luria'), ('writs', 'wrist'), ('sonic', 'coins'), ('sonic', 'scion'), ('sonic', 'icons'), (\"bat's\", \"tab's\"), (\"lin's\", \"nil's\"), ('hides', 'shied'), ('tonne', 'tenon'), ('pilau', 'pauli'), ('rhoda', 'hoard'), ('caned', 'dance'), ('noble', 'nobel'), ('tread', 'trade'), ('tread', 'rated'), ('marcy', 'camry'), ('crate', 'react'), ('crate', 'recta'), ('crate', 'caret'), ('crate', 'trace'), ('crate', 'cater'), ('nerve', 'never'), ('keith', 'kieth'), ('nancy', 'canny'), ('twist', 'twits'), ('snaps', 'spans'), ('yanks', 'snaky'), (\"car's\", \"rca's\"), (\"car's\", \"arc's\"), ('abler', 'blare'), ('swarm', 'warms'), ('dooms', 'sodom'), ('dooms', 'moods'), ('acmes', 'maces'), ('hinge', 'neigh'), ('rangy', 'angry'), ('lured', 'ruled'), ('lelia', 'allie'), ('waits', 'waist'), ('valor', 'orval'), ('sails', 'silas'), ('gimpy', 'pigmy'), ('nivea', 'evian'), ('nivea', 'naive'), ('navel', 'venal'), ('dirac', 'acrid'), ('copse', 'pecos'), ('copse', 'copes'), (\"bog's\", \"gob's\"), ('terry', 'retry'), ('idles', 'slide'), ('idles', 'delis'), ('sigma', 'agism'), ('lucas', 'claus'), ('ernst', 'rents'), ('ernst', 'stern'), ('dames', 'edams'), (\"ale's\", \"lea's\"), ('spawn', 'pawns'), ('hewer', 'where'), ('jamie', 'mejia'), ('jamie', 'jaime'), ('vader', 'raved'), ('rends', 'nerds'), ('ramon', 'manor'), ('ramon', 'roman'), ('ramon', 'moran'), ('ramon', 'norma'), ('reefs', 'frees'), ('sepal', 'pales'), ('sepal', 'peals'), ('sepal', 'leaps'), ('soles', 'loses'), ('soles', 'sloes'), ('addle', 'laded'), ('rhine', 'henri'), ('depot', 'opted'), ('roost', 'roots'), ('roost', 'torso'), ('toner', 'tenor'), ('viler', 'liver'), ('saxon', 'axons'), ('hater', 'earth'), ('hater', 'heart'), ('barer', 'berra'), ('dikes', 'skied'), ('peeks', 'keeps'), ('midas', 'maids'), ('alias', 'alisa'), ('smile', 'slime'), ('smile', 'limes'), ('smile', 'miles'), ('smile', 'selim'), ('paler', 'pearl'), ('pales', 'peals'), ('pales', 'leaps'), ('gaunt', 'gatun'), ('peaks', 'spake'), ('peaks', 'speak'), ('suing', 'ginsu'), ('kites', 'tikes'), ('golan', 'logan'), ('golan', 'anglo'), ('golan', 'along'), (\"bud's\", \"dub's\"), ('amass', 'assam'), (\"san's\", \"nsa's\"), ('wader', 'dewar'), ('raced', 'arced'), ('raced', 'cedar'), ('santa', 'satan'), ('arced', 'cedar'), ('sties', 'sites'), ('reins', 'rinse'), ('reins', 'resin'), ('reins', 'siren'), ('reins', 'risen'), ('serge', 'segre'), ('caper', 'recap'), ('hares', 'hears'), ('hares', 'rheas'), ('hares', 'shear'), ('sumac', 'camus'), ('medal', 'lamed'), ('blake', 'bleak'), ('pared', 'drape'), ('pared', 'raped'), ('pared', 'padre'), (\"use's\", \"sue's\"), ('stein', 'inset'), ('stein', 'nites'), ('stein', 'tines'), ('stein', 'stine'), ('dykes', 'skyed'), (\"dis's\", \"sid's\"), ('peach', 'cheap'), ('damon', 'nomad'), ('abeam', 'ameba'), ('poles', 'lopes'), ('poles', 'slope'), ('ample', 'maple'), ('stent', 'tents'), ('lasts', 'slats'), ('lasts', 'salts'), ('scone', 'cones'), ('tiers', 'tries'), ('tiers', 'rites'), ('tiers', 'tires'), (\"won's\", \"now's\"), ('betsy', 'bytes'), ('posts', 'spots'), ('posts', 'stops'), ('burma', 'rumba'), ('dirge', 'ridge'), ('drain', 'randi'), ('drain', 'nadir'), ('drain', 'indra'), ('burgs', 'grubs'), ('rents', 'stern'), ('havel', 'halve'), ('stick', 'ticks'), ('meats', 'steam'), ('meats', 'mates'), ('meats', 'tames'), ('meats', 'teams'), ('snare', 'earns'), ('snare', 'nears'), ('snare', 'saner'), ('diver', 'drive'), ('shape', 'phase'), ('shape', 'heaps'), ('boney', 'ebony'), ('trial', 'trail'), ('avila', 'avail'), ('memos', 'somme'), ('berle', 'rebel'), ('dante', 'anted'), ('fates', 'feast'), ('fates', 'feats'), ('shrub', 'brush'), ('adzes', 'dazes'), ('seams', 'sames'), ('seams', 'mesas'), ('creon', 'crone'), ('bugle', 'bulge'), ('quote', 'toque'), ('login', 'lingo'), ('react', 'recta'), ('react', 'caret'), ('react', 'trace'), ('react', 'cater'), ('teach', 'cheat'), ('feels', 'flees'), ('purse', 'super'), ('evans', 'vanes'), ('evans', 'naves'), ('argue', 'auger'), ('akron', 'koran'), (\"nut's\", \"tun's\"), (\"pea's\", \"ape's\"), (\"one's\", \"noe's\"), (\"one's\", \"eon's\"), ('whist', 'whits'), ('bleat', 'table'), ('tamra', 'marat'), ('tamra', 'marta'), ('poser', 'pores'), ('poser', 'spore'), ('poser', 'prose'), ('poser', 'ropes'), ('roods', 'odors'), ('roods', 'doors'), ('busts', 'stubs'), ('steps', 'pests'), ('pines', 'penis'), ('pines', 'snipe'), ('seals', 'sales'), ('earns', 'nears'), ('earns', 'saner'), ('roles', 'loser'), ('angle', 'glean'), ('angle', 'angel'), ('angle', 'galen'), ('mires', 'emirs'), ('mires', 'miser'), ('mires', 'rimes'), ('carbs', 'crabs'), ('pages', 'gapes'), ('dario', 'radio'), ('dobro', 'brood'), ('randi', 'nadir'), ('randi', 'indra'), ('edgar', 'grade'), ('edgar', 'raged'), ('dopes', 'posed'), ('jonas', 'sonja'), ('jonas', 'jason'), ('girts', 'grits'), ('girts', 'grist'), ('farts', 'frats'), ('farts', 'rafts'), ('lotus', 'louts'), ('peron', 'prone'), ('paths', 'staph'), ('sleet', 'steel'), ('piled', 'plied'), ('roans', 'arson'), ('roans', 'sonar'), ('users', 'ruses'), (\"mir's\", \"rim's\"), ('bards', 'brads'), ('hikes', 'sheik'), ('torsi', 'tiros'), ('torsi', 'trios'), ('virgo', 'vigor'), ('gores', 'gorse'), ('gores', 'ogres'), ('spats', 'pasts'), ('advil', 'vidal'), (\"low's\", \"owl's\"), ('media', 'aimed'), ('lathe', 'letha'), ('pager', 'grape'), ('solve', 'voles'), ('solve', 'loves'), ('later', 'alert'), ('later', 'alter'), (\"ubs's\", \"sub's\"), ('vases', 'saves'), ('abuts', 'tabus'), ('abuts', 'tubas'), ('merak', 'maker'), ('boles', 'lobes'), ('piers', 'spire'), ('quoit', 'quito'), ('ernie', 'irene'), ('slyer', 'lyres'), (\"eel's\", \"lee's\"), ('horns', 'shorn'), ('yeahs', 'hayes'), (\"leg's\", \"gel's\"), (\"rca's\", \"arc's\"), ('pleat', 'leapt'), ('pleat', 'petal'), ('pleat', 'plate'), (\"meg's\", \"gem's\"), ('motes', 'smote'), ('motes', 'tomes'), ('shone', 'hones'), ('three', 'there'), ('three', 'ether'), ('goals', 'lagos'), ('rides', 'dries'), ('rides', 'redis'), ('rides', 'sired'), ('mares', 'reams'), ('celia', 'alice'), ('frier', 'rifer'), ('paula', 'palau'), ('nepal', 'penal'), ('nepal', 'panel'), ('edits', 'diets'), ('edits', 'tides'), ('edits', 'sited'), ('marat', 'marta'), ('diary', 'dairy'), ('cured', 'crude'), ('emirs', 'miser'), ('emirs', 'rimes'), ('shari', 'hairs'), ('tango', 'tonga'), ('adobe', 'abode'), ('canon', 'conan'), ('bails', 'basil'), ('veils', 'evils'), ('veils', 'elvis'), ('veils', 'lives'), ('edwin', 'widen'), ('edwin', 'wendi'), ('edwin', 'wined'), ('thais', 'tisha'), ('thais', 'saith'), (\"tam's\", \"mat's\"), ('prate', 'apter'), ('prate', 'taper'), ('prate', 'petra'), ('mopes', 'epsom'), ('mopes', 'poems'), (\"amp's\", \"pam's\"), (\"amp's\", \"map's\"), ('wield', 'wiled'), ('wield', 'wilde'), ('years', 'ayers'), ('slime', 'limes'), ('slime', 'miles'), ('slime', 'selim'), ('mabel', 'mable'), ('mabel', 'blame'), ('mabel', 'amble'), ('mabel', 'melba'), ('cyril', 'lyric'), ('lewis', 'wiles'), ('dvina', 'viand'), ('dvina', 'divan'), ('pores', 'spore'), ('pores', 'prose'), ('pores', 'ropes'), ('evils', 'elvis'), ('evils', 'lives'), ('soled', 'doles'), ('soled', 'lodes'), ('meyer', 'emery'), ('lower', 'rowel'), ('calms', 'clams'), ('spots', 'stops'), ('roots', 'torso'), ('scent', 'cents'), ('elbow', 'below'), ('elbow', 'bowel'), ('typos', 'topsy'), ('bonus', 'bosun'), ('ethel', 'lethe'), ('plugs', 'gulps'), ('salas', 'lassa'), ('salas', 'salsa'), ('elvis', 'lives'), ('newer', 'renew'), ('sings', 'signs'), ('inset', 'nites'), ('inset', 'tines'), ('inset', 'stine'), ('vanes', 'naves'), (\"lab's\", \"alb's\"), ('lopes', 'slope'), ('saved', 'vedas'), ('races', 'acres'), ('races', 'cesar'), ('races', 'scare'), ('tesla', 'slate'), ('tesla', 'stale'), ('tesla', 'tales'), ('tesla', 'least'), ('tesla', 'teals'), ('tesla', 'stael'), ('tesla', 'steal'), ('grade', 'raged'), ('spunk', 'punks'), (\"pat's\", \"tap's\"), ('leers', 'reels'), ('point', 'piton'), ('point', 'pinto'), ('bread', 'beard'), ('bread', 'debar'), ('bread', 'debra'), ('bread', 'bared'), ('tutor', 'trout'), ('smuts', 'musts'), ('tansy', 'nasty'), ('silos', 'soils'), ('silos', 'solis'), ('susie', 'issue'), ('slung', 'lungs'), ('dares', 'reads'), ('slurp', 'purls'), (\"doe's\", \"ode's\"), ('minks', 'minsk'), (\"era's\", \"ear's\"), (\"era's\", \"are's\"), (\"era's\", \"rae's\"), ('films', 'milfs'), ('lacey', 'alyce'), ('epsom', 'poems'), ('adler', 'alder'), ('piles', 'plies'), ('drape', 'raped'), ('drape', 'padre'), (\"deb's\", \"bed's\"), ('seder', 'deers'), ('seder', 'reeds'), ('mable', 'blame'), ('mable', 'amble'), ('mable', 'melba'), ('ochoa', 'achoo'), ('baird', 'braid'), ('baird', 'rabid'), ('clods', 'colds'), (\"don's\", \"nod's\"), ('della', 'ladle'), ('dowel', 'lowed'), (\"ten's\", \"net's\"), ('slats', 'salts'), ('fifes', 'fiefs'), (\"mai's\", \"aim's\"), (\"mai's\", \"mia's\"), ('beard', 'debar'), ('beard', 'debra'), ('beard', 'bared'), ('eager', 'agree'), ('there', 'ether'), ('glare', 'alger'), ('glare', 'large'), ('glare', 'elgar'), ('glare', 'lager'), ('gusty', 'gutsy'), ('lades', 'deals'), ('lades', 'leads'), ('doyle', 'yodel'), ('limbo', 'mobil'), ('shaft', 'hafts'), ('grits', 'grist'), ('torte', 'otter'), ('earls', 'reals'), ('earls', 'laser'), ('nazca', 'anzac'), ('exist', 'exits'), ('slits', 'lists'), ('slits', 'silts'), ('yates', 'yeast'), ('yates', 'yeats'), ('ikons', 'oinks'), ('amino', 'naomi'), ('fowls', 'wolfs'), ('fowls', 'flows'), ('yearn', 'reyna'), ('sodom', 'moods'), ('stone', 'onset'), ('stone', 'seton'), ('stone', 'tones'), ('shade', 'ashed'), ('shade', 'heads'), ('shade', 'hades'), ('parsi', 'paris'), ('sneak', 'snake'), ('scoop', 'coops'), ('cohen', 'enoch'), ('yemen', 'enemy'), ('ovals', 'salvo'), ('moira', 'maori'), ('moira', 'mario'), ('sarto', 'sorta'), ('sarto', 'roast'), ('sarto', 'taros'), ('sarto', 'astor'), ('infer', 'finer'), ('stair', 'sitar'), ('lakes', 'slake'), ('below', 'bowel'), ('stalk', 'talks'), ('maori', 'mario'), ('elisa', 'aisle'), ('elisa', 'elias'), ('aline', 'alien'), ('alloy', 'loyal'), ('coyer', 'royce'), ('coyer', 'corey'), ('names', 'mensa'), ('names', 'means'), ('names', 'manse'), ('names', 'manes'), ('luger', 'gruel'), ('brunt', 'burnt'), ('betas', 'abets'), ('betas', 'beast'), ('betas', 'baste'), ('betas', 'bates'), ('first', 'rifts'), ('lassa', 'salsa'), ('khans', 'hanks'), ('khans', 'ankhs'), ('split', 'spilt'), ('medea', 'meade'), ('medea', 'edema'), ('crews', 'screw'), ('fiend', 'fined'), ('corny', 'crony'), ('trays', 'artsy'), ('trays', 'stray'), ('rider', 'drier'), ('rider', 'direr'), ('quite', 'quiet'), ('coral', 'carol'), ('coral', 'carlo'), ('weirs', 'wiser'), ('nites', 'tines'), ('nites', 'stine'), ('mated', 'tamed'), ('licks', 'slick'), ('scalp', 'clasp'), ('torus', 'routs'), ('torus', 'tours'), ('mensa', 'means'), ('mensa', 'manse'), ('mensa', 'manes'), ('other', 'throe'), ('idols', 'solid'), ('paced', 'caped'), ('ideal', 'ailed'), ('ideal', 'delia'), ('slate', 'stale'), ('slate', 'tales'), ('slate', 'least'), ('slate', 'teals'), ('slate', 'stael'), ('slate', 'steal'), ('loath', 'altho'), ('dover', 'drove'), ('dover', 'roved'), ('lines', 'liens'), ('tokyo', 'kyoto'), ('hared', 'heard'), ('poesy', 'sepoy'), ('odors', 'doors'), ('those', 'ethos'), ('swing', 'wings'), ('diets', 'tides'), ('diets', 'sited'), ('score', 'cores'), ('equip', 'pique'), ('denim', 'mined'), (\"who's\", \"how's\"), ('weest', 'sweet'), ('adorn', 'ronda'), ('adorn', 'drano'), ('adorn', 'norad'), ('adorn', 'radon'), ('bosom', 'booms'), ('laths', 'halts'), ('laths', 'shalt'), (\"sap's\", \"asp's\"), (\"sap's\", \"spa's\"), ('inter', 'inert'), ('inter', 'niter'), ('stale', 'tales'), ('stale', 'least'), ('stale', 'teals'), ('stale', 'stael'), ('stale', 'steal'), (\"ego's\", \"geo's\"), ('irons', 'rosin'), ('smote', 'tomes'), ('tries', 'rites'), ('tries', 'tires'), ('sword', 'words'), ('loire', 'lorie'), ('gofer', 'forge'), ('mines', 'miens'), (\"end's\", \"den's\"), (\"end's\", \"ned's\"), ('boast', 'boats'), (\"yea's\", \"aye's\"), ('ronda', 'drano'), ('ronda', 'norad'), ('ronda', 'radon'), ('exalt', 'latex'), ('sates', 'asset'), ('sates', 'seats'), ('sates', 'easts'), ('feast', 'feats'), ('abets', 'beast'), ('abets', 'baste'), ('abets', 'bates'), ('sifts', 'fists'), ('brady', 'darby'), ('squad', 'quads'), ('demos', 'domes'), ('demos', 'modes'), ('learn', 'renal'), ('alger', 'large'), ('alger', 'elgar'), ('alger', 'lager'), ('melon', 'lemon'), ('lames', 'meals'), ('lames', 'salem'), ('lames', 'selma'), ('smart', 'marts'), ('smart', 'trams'), ('pikes', 'spike'), ('grins', 'rings'), ('olive', 'voile'), ('blade', 'baled'), ('lumps', 'plums'), ('hocks', 'shock'), ('drays', 'yards'), ('lifer', 'rifle'), ('lifer', 'flier'), ('sprat', 'traps'), ('sprat', 'parts'), ('sprat', 'strap'), ('swipe', 'wipes'), ('ramos', 'roams'), ('sames', 'mesas'), ('lyman', 'manly'), ('organ', 'argon'), ('organ', 'groan'), ('voter', 'overt'), ('fondu', 'found'), ('roves', 'overs'), ('roves', 'servo'), ('wesak', 'wakes'), ('wesak', 'askew'), ('bores', 'sober'), ('bores', 'boers'), ('bores', 'robes'), ('leafs', 'fleas'), ('leafs', 'false'), ('dries', 'redis'), ('dries', 'sired'), ('scots', 'costs'), ('routs', 'tours'), ('voles', 'loves'), ('niger', 'reign'), ('expos', 'poxes'), ('fiber', 'brief'), ('garbs', 'grabs'), ('garbs', 'brags'), ('laxer', 'relax'), (\"tao's\", \"oat's\"), ('aches', 'chase'), ('thins', 'hints'), ('raves', 'avers'), ('raves', 'saver'), ('kasai', 'sakai'), ('means', 'manse'), ('means', 'manes'), ('bidet', 'debit'), ('banal', 'laban'), ('wolfs', 'flows'), ('rifle', 'flier'), ('artsy', 'stray'), ('story', 'troys'), ('story', 'tyros'), ('towel', 'owlet'), ('inert', 'niter'), ('reals', 'laser'), ('upset', 'setup'), ('vines', 'nevis'), ('vines', 'veins'), ('cadet', 'acted'), ('arson', 'sonar'), ('skype', 'pesky'), ('hauls', 'shula'), ('slept', 'pelts'), ('slept', 'spelt'), ('sonja', 'jason'), ('wales', 'weals'), ('large', 'elgar'), ('large', 'lager'), ('nahum', 'human'), ('haney', 'hyena'), ('lease', 'easel'), ('argon', 'groan'), ('sires', 'rises'), ('tried', 'tired'), ('slide', 'delis'), ('tarts', 'start'), ('atari', 'atria'), ('atari', 'tiara'), ('sewed', 'swede'), ('coast', 'tacos'), ('coast', 'tosca'), ('coast', 'coats'), ('chars', 'crash'), ('essen', 'sense'), ('cowls', 'scowl'), ('fleas', 'false'), ('votes', 'stove'), ('herod', 'rhode'), ('north', 'thorn'), ('domes', 'modes'), ('paved', 'vaped'), (\"ola's\", \"aol's\"), (\"ola's\", \"lao's\"), ('capes', 'paces'), ('capes', 'space'), ('marts', 'trams'), ('megan', 'mange'), ('sport', 'strop'), ('sport', 'ports'), ('hates', 'heats'), ('hates', 'haste'), ('steam', 'mates'), ('steam', 'tames'), ('steam', 'teams'), ('wades', 'sawed'), ('wades', 'dawes'), ('prays', 'raspy'), (\"hob's\", \"hbo's\"), ('hears', 'rheas'), ('hears', 'shear'), ('soils', 'solis'), ('scrip', 'crisp'), ('abner', 'arneb'), ('repay', 'payer'), ('repay', 'peary'), ('ideas', 'aides'), ('ideas', 'aside'), ('rival', 'viral'), ('hydra', 'hardy'), ('penis', 'snipe'), ('shane', 'ashen'), ('logan', 'anglo'), ('logan', 'along'), ('silva', 'vials'), ('togas', 'goats'), ('mocks', 'smock'), (\"wee's\", \"ewe's\"), ('hanks', 'ankhs'), ('apter', 'taper'), ('apter', 'petra'), ('phase', 'heaps'), ('thees', 'these'), ('thees', 'sheet'), ('balsa', 'basal'), ('paces', 'space'), ('debar', 'debra'), ('debar', 'bared'), ('steak', 'stake'), ('steak', 'teaks'), ('steak', 'keats'), ('steak', 'skate'), ('steak', 'takes'), ('scorn', 'corns'), ('coins', 'scion'), ('coins', 'icons'), ('pecos', 'copes'), ('snips', 'spins'), ('sable', 'basel'), ('sable', 'bales'), ('dewey', 'weedy'), ('putin', 'input'), ('slain', 'nails'), ('slain', 'snail'), (\"ila's\", \"ali's\"), ('dingo', 'doing'), ('blows', 'bowls'), ('icahn', 'chain'), ('icahn', 'china'), ('scars', 'crass'), ('ashed', 'heads'), ('ashed', 'hades'), ('remus', 'serum'), ('byron', 'robyn'), ('byron', 'bryon'), ('septa', 'tapes'), ('septa', 'spate'), ('septa', 'paste'), ('tuber', 'brute'), ('mejia', 'jaime'), ('pried', 'pride'), ('scant', 'cants'), ('tiros', 'trios'), ('alvin', 'anvil'), ('scram', 'crams'), ('hells', 'shell'), ('stint', 'tints'), ('fused', 'feuds'), ('sheri', 'shire'), ('sheri', 'heirs'), ('sheri', 'hires'), ('algol', 'gallo'), (\"bad's\", \"dab's\"), ('mates', 'tames'), ('mates', 'teams'), ('poses', 'pesos'), ('poses', 'posse'), ('aisle', 'elias'), ('laced', 'decal'), ('rinse', 'resin'), ('rinse', 'siren'), ('rinse', 'risen'), ('wired', 'wider'), ('pored', 'roped'), ('romes', 'mores'), ('romes', 'morse'), ('malls', 'small'), ('nails', 'snail'), ('heads', 'hades'), ('atoll', 'allot'), ('stake', 'teaks'), ('stake', 'keats'), ('stake', 'skate'), ('stake', 'takes'), ('tames', 'teams'), ('olden', 'eldon'), ('leapt', 'petal'), ('leapt', 'plate'), ('resin', 'siren'), ('resin', 'risen'), ('spake', 'speak'), ('magma', 'gamma'), ('aspen', 'panes'), ('aspen', 'napes'), ('tales', 'least'), ('tales', 'teals'), ('tales', 'stael'), ('tales', 'steal'), ('mauro', 'amour'), ('peons', 'opens'), ('peons', 'epson'), ('peons', 'pones'), ('sowed', 'dowse'), ('deers', 'reeds'), ('scoot', 'coots'), ('spain', 'pains'), (\"art's\", \"tar's\"), (\"art's\", \"rat's\"), ('sawed', 'dawes'), ('nosed', 'nodes'), ('bolts', 'blots'), ('peals', 'leaps'), ('eaton', 'atone'), ('eaton', 'oaten'), ('oneal', 'leona'), ('oneal', 'alone'), (\"mug's\", \"gum's\"), ('tides', 'sited'), ('deify', 'edify'), ('trots', 'torts'), ('daren', 'nader'), ('daren', 'andre'), ('daren', 'arden'), ('rouse', 'euros'), ('frail', 'flair'), (\"sup's\", \"pus's\"), (\"sup's\", \"ups's\"), ('freda', 'fared'), ('snead', 'sedan'), ('snead', 'andes'), ('snead', 'sedna'), ('snead', 'deans'), ('snead', 'danes'), ('rears', 'serra'), ('rears', 'rares'), ('essex', 'sexes'), ('osman', 'mason'), ('osman', 'moans'), ('widen', 'wendi'), ('widen', 'wined'), ('least', 'teals'), ('least', 'stael'), ('least', 'steal'), ('atria', 'tiara'), ('tiffs', 'stiff'), ('kline', 'liken'), ('kline', 'klein'), ('crust', 'curst'), ('mails', 'islam'), ('heros', 'shore'), ('heros', 'horse'), ('loafs', 'foals'), ('shelf', 'flesh'), ('drano', 'norad'), ('drano', 'radon'), ('norad', 'radon'), ('fauns', 'snafu'), ('loons', 'olson'), ('loons', 'solon'), ('aloft', 'float'), (\"rob's\", \"orb's\"), ('spore', 'prose'), ('spore', 'ropes'), (\"mar's\", \"ram's\"), ('stare', 'tears'), ('stare', 'taser'), ('stare', 'rates'), ('atone', 'oaten'), ('recta', 'caret'), ('recta', 'trace'), ('recta', 'cater'), ('clara', 'carla'), ('clean', 'lance'), ('emits', 'items'), ('emits', 'smite'), ('emits', 'mites'), ('emits', 'times'), ('helps', 'shlep'), ('bauds', 'daubs'), ('chain', 'china'), ('spock', 'pocks'), ('slips', 'lisps'), ('stave', 'vesta'), ('parse', 'pears'), ('parse', 'spare'), ('parse', 'pares'), ('parse', 'spear'), ('parse', 'rapes'), ('allay', 'layla'), ('manse', 'manes'), ('carve', 'crave'), ('yeast', 'yeats'), ('serra', 'rares'), ('nevis', 'veins'), ('onset', 'seton'), ('onset', 'tones'), (\"ian's\", \"ina's\"), ('thous', 'south'), ('thous', 'shout'), ('sorta', 'roast'), ('sorta', 'taros'), ('sorta', 'astor'), ('fidel', 'field'), ('fidel', 'filed'), ('corks', 'rocks'), ('brusk', 'burks'), ('peers', 'spree'), ('peers', 'speer'), (\"ant's\", \"tan's\"), ('perot', 'trope'), ('wiled', 'wilde'), ('spree', 'speer'), ('rebus', 'rubes'), ('units', 'tunis'), ('lilts', 'tills'), ('lilts', 'still'), ('royce', 'corey'), ('opens', 'epson'), ('opens', 'pones'), ('panes', 'napes'), ('macro', 'carom'), ('macro', 'marco'), ('lefts', 'felts'), ('carom', 'marco'), ('basel', 'bales'), ('tucks', 'stuck'), ('tapes', 'spate'), ('tapes', 'paste'), ('ailed', 'delia'), ('roast', 'taros'), ('roast', 'astor'), ('fares', 'safer'), ('teals', 'stael'), ('teals', 'steal'), ('spate', 'paste'), (\"lie's\", \"lei's\"), (\"lie's\", \"eli's\"), ('tunes', 'unset'), (\"moe's\", \"emo's\"), ('piton', 'pinto'), ('odets', 'dotes'), ('pears', 'spare'), ('pears', 'pares'), ('pears', 'spear'), ('pears', 'rapes'), ('scuff', 'cuffs'), ('nadir', 'indra'), ('roses', 'sores'), (\"aol's\", \"lao's\"), ('dates', 'sated'), ('dates', 'stead'), ('brain', 'rabin'), ('brain', 'brian'), ('haydn', 'handy'), ('satin', 'antis'), ('trina', 'train'), ('roach', 'rocha'), ('tacit', 'attic'), ('anglo', 'along'), ('lanes', 'leans'), ('paint', 'inapt'), ('ewers', 'sewer'), ('sherd', 'herds'), ('sherd', 'shred'), ('wells', 'swell'), ('dowry', 'wordy'), ('dowry', 'rowdy'), ('overs', 'servo'), ('erato', 'orate'), ('sedan', 'andes'), ('sedan', 'sedna'), ('sedan', 'deans'), ('sedan', 'danes'), ('frats', 'rafts'), ('cored', 'decor'), (\"ora's\", \"oar's\"), (\"pam's\", \"map's\"), ('idler', 'riled'), ('south', 'shout'), ('being', 'binge'), ('being', 'begin'), ('mores', 'morse'), ('taros', 'astor'), ('penal', 'panel'), (\"gab's\", \"bag's\"), ('romeo', 'moore'), (\"aim's\", \"mia's\"), (\"ann's\", \"nan's\"), ('olson', 'solon'), ('asoka', 'osaka'), ('drove', 'roved'), ('adore', 'oared'), (\"noe's\", \"eon's\"), ('cures', 'curse'), ('cures', 'sucre'), ('maris', 'amirs'), ('lamer', 'realm'), ('angst', 'tangs'), (\"yak's\", \"kay's\"), ('owned', 'endow'), ('tokes', 'stoke'), ('decaf', 'faced'), ('delay', 'daley'), ('wands', 'dawns'), ('snide', 'denis'), ('snide', 'dines'), ('zoned', 'dozen'), ('refer', 'freer'), ('leary', 'early'), ('leary', 'layer'), ('ought', 'tough'), (\"god's\", \"dog's\"), ('herds', 'shred'), ('spill', 'pills'), ('warts', 'straw'), ('stilt', 'tilts'), ('annie', 'inane'), ('coals', 'colas'), ('hunts', 'shunt'), ('blogs', 'globs'), ('slags', 'glass'), ('truce', 'cuter'), ('truce', 'cruet'), (\"kin's\", \"ink's\"), ('siren', 'risen'), ('fount', 'futon'), ('alert', 'alter'), ('ester', 'trees'), ('ester', 'steer'), ('ester', 'reset'), ('ester', 'terse'), ('pouts', 'spout'), ('errol', 'lorre'), (\"ear's\", \"are's\"), (\"ear's\", \"rae's\"), ('heats', 'haste'), ('marsh', 'harms'), ('loops', 'sloop'), ('loops', 'spool'), ('loops', 'pools'), ('alive', 'elvia'), ('studs', 'dusts'), ('blues', 'lubes'), ('preys', 'ypres'), ('cause', 'sauce'), ('prigs', 'grips'), ('prigs', 'sprig'), ('baker', 'break'), ('noyes', 'nosey'), ('morin', 'minor'), ('simon', 'minos'), ('wrong', 'grown'), ('pelts', 'spelt'), ('leash', 'hales'), ('leash', 'heals'), ('leash', 'sahel'), ('leash', 'shale'), ('manet', 'meant'), ('raked', 'drake'), ('braid', 'rabid'), ('dread', 'dared'), ('stout', 'touts'), (\"iso's\", \"ios's\"), ('troys', 'tyros'), ('halts', 'shalt'), ('shire', 'heirs'), ('shire', 'hires'), ('admen', 'medan'), ('admen', 'amend'), (\"air's\", \"ira's\"), ('tears', 'taser'), ('tears', 'rates'), ('wards', 'draws'), ('wards', 'sward'), ('sloop', 'spool'), ('sloop', 'pools'), ('marla', 'lamar'), ('psalm', 'palms'), ('psalm', 'lamps'), ('freed', 'defer'), ('pasty', 'patsy'), ('viand', 'divan'), ('attar', 'tatar'), ('lodge', 'ogled'), ('nelda', 'laden'), ('nelda', 'alden'), ('cathy', 'yacht'), ('avers', 'saver'), ('sated', 'stead'), ('swill', 'wills'), ('boner', 'borne'), ('carol', 'carlo'), (\"ing's\", \"gin's\"), ('sheba', 'hbase'), ('brahe', 'haber'), ('taper', 'petra'), ('salve', 'slave'), ('chest', 'techs'), ('abuse', 'beaus'), (\"saw's\", \"aws's\"), (\"tar's\", \"rat's\"), ('nader', 'andre'), ('nader', 'arden'), ('edger', 'greed'), ('forth', 'froth'), ('cloud', 'could'), ('pepsi', 'pipes'), ('loots', 'stool'), ('loots', 'tools'), ('trees', 'steer'), ('trees', 'reset'), ('trees', 'terse'), ('beast', 'baste'), ('beast', 'bates'), ('glide', 'gelid'), ('spoon', 'snoop'), ('gorse', 'ogres'), ('laden', 'alden'), ('spice', 'epics'), ('cited', 'edict'), ('throb', 'broth'), (\"yap's\", \"pay's\"), ('miser', 'rimes'), ('ochre', 'chore'), ('ochre', 'roche'), ('ochre', 'ocher'), ('imams', 'maims'), ('semen', 'menes'), ('camps', 'scamp'), (\"tod's\", \"dot's\"), ('parks', 'spark'), ('beady', 'bayed'), ('coeds', 'codes'), (\"apr's\", \"rap's\"), (\"apr's\", \"par's\"), ('blest', 'belts'), ('actor', 'croat'), ('elgar', 'lager'), (\"wen's\", \"new's\"), ('goren', 'negro'), ('dents', 'tends'), ('kiwis', 'wikis'), ('medan', 'amend'), ('hoots', 'sooth'), ('beads', 'based'), ('optic', 'topic'), ('sager', 'rages'), ('sager', 'gears'), ('mayor', 'moray'), ('denis', 'dines'), ('lifts', 'flits'), ('rices', 'cries'), ('swore', 'sower'), ('swore', 'worse'), ('seton', 'tones'), ('strop', 'ports'), (\"den's\", \"ned's\"), ('broad', 'board'), ('nadia', 'naiad'), ('hurts', 'hurst'), ('mason', 'moans'), ('sober', 'boers'), ('sober', 'robes'), ('divas', 'davis'), ('unite', 'untie'), ('sours', 'russo'), ('lisle', 'ellis'), ('ocean', 'canoe'), ('great', 'grate'), ('great', 'greta'), ('delta', 'dealt'), ('limes', 'miles'), ('limes', 'selim'), ('glean', 'angel'), ('glean', 'galen'), ('needs', 'edens'), ('needs', 'dense'), ('elmer', 'merle'), ('beset', 'beets'), ('orals', 'solar'), ('genoa', 'onega'), ('epson', 'pones'), (\"raw's\", \"war's\"), ('nuder', 'under'), ('minot', 'timon'), ('vised', 'dives'), ('tiles', 'stile'), ('tiles', 'islet'), ('hakes', 'shake'), ('cheri', 'erich'), ('squid', 'quids'), ('stael', 'steal'), ('romps', 'proms'), ('gloss', 'slogs'), (\"may's\", \"yam's\"), (\"may's\", \"amy's\"), ('rilke', 'liker'), ('rages', 'gears'), ('caret', 'trace'), ('caret', 'cater'), ('bluer', 'ruble'), ('hacks', 'shack'), ('spars', 'rasps'), ('opals', 'alsop'), ('liken', 'klein'), ('scrub', 'curbs'), ('reorg', 'regor'), (\"nip's\", \"pin's\"), ('wakes', 'askew'), ('hated', 'death'), ('carps', 'scrap'), ('carps', 'craps'), ('chore', 'roche'), ('chore', 'ocher'), ('teats', 'taste'), ('teats', 'state'), ('sluts', 'lusts'), (\"lap's\", \"pal's\"), ('andes', 'sedna'), ('andes', 'deans'), ('andes', 'danes'), ('purus', 'usurp'), ('pesos', 'posse'), ('recur', 'curer'), ('hales', 'heals'), ('hales', 'sahel'), ('hales', 'shale'), ('cried', 'riced'), ('cried', 'cider'), ('urges', 'surge'), ('dubai', 'baidu'), ('haves', 'shave'), ('shall', 'halls'), ('appal', 'papal'), ('boers', 'robes'), ('dogie', 'diego'), ('teaks', 'keats'), ('teaks', 'skate'), ('teaks', 'takes'), ('tiber', 'tribe'), ('baste', 'bates'), ('edsel', 'leeds'), (\"pie's\", \"pei's\"), ('swine', 'sinew'), ('swine', 'wines'), ('stile', 'islet'), ('tills', 'still'), (\"are's\", \"rae's\"), ('girth', 'right'), ('saber', 'baser'), ('saber', 'bares'), ('saber', 'sabre'), ('saber', 'bears'), ('grips', 'sprig'), ('spare', 'pares'), ('spare', 'spear'), ('spare', 'rapes'), ('civet', 'evict'), ('keats', 'skate'), ('keats', 'takes'), ('weeps', 'sweep'), ('heals', 'sahel'), ('heals', 'shale'), ('maura', 'amaru'), ('mired', 'rimed'), ('sweat', 'waste'), ('miles', 'selim'), ('truss', 'rusts'), ('rhone', 'heron'), ('rhone', 'horne'), (\"bar's\", \"bra's\"), ('sybil', 'sibyl'), ('binge', 'begin'), ('fried', 'fired'), (\"tow's\", \"two's\"), ('inure', 'urine'), ('study', 'dusty'), ('tabus', 'tubas'), ('omits', 'moist'), ('steer', 'reset'), ('steer', 'terse'), ('loses', 'sloes'), ('taste', 'state'), ('manor', 'roman'), ('manor', 'moran'), ('manor', 'norma'), ('maxes', 'exams'), ('wares', 'swear'), ('wares', 'wears'), ('anita', 'tania'), ('draws', 'sward'), ('usual', 'luaus'), ('ulcer', 'cruel'), ('ulcer', 'lucre'), ('palsy', 'plays'), (\"btu's\", \"tub's\"), ('shine', 'hines'), ('tacos', 'tosca'), ('tacos', 'coats'), ('blame', 'amble'), ('blame', 'melba'), ('skids', 'disks'), ('tines', 'stine'), ('chapt', 'patch'), ('drier', 'direr'), ('baser', 'bares'), ('baser', 'sabre'), ('baser', 'bears'), ('fiche', 'chief'), ('intel', 'inlet'), ('lairs', 'liars'), ('lairs', 'rails'), ('hosed', 'shoed'), ('rites', 'tires'), ('robyn', 'bryon'), ('sedna', 'deans'), ('sedna', 'danes'), ('melts', 'smelt'), ('knead', 'naked'), ('slink', 'links'), ('slink', 'kilns'), ('idyll', 'dilly'), ('rabin', 'brian'), (\"dam's\", \"mad's\"), (\"dam's\", \"amd's\"), ('taser', 'rates'), (\"cod's\", \"doc's\"), ('drops', 'prods'), ('items', 'smite'), ('items', 'mites'), ('items', 'times'), ('mocha', 'macho'), ('merit', 'remit'), ('merit', 'timer'), ('merit', 'miter'), ('balms', 'lambs'), ('edens', 'dense'), ('cuter', 'cruet'), ('scrap', 'craps'), ('nears', 'saner'), ('bares', 'sabre'), ('bares', 'bears'), ('deans', 'danes'), ('verna', 'raven'), ('angel', 'galen'), ('aides', 'aside'), ('palms', 'lamps'), ('devil', 'lived'), ('meade', 'edema'), ('stack', 'tacks'), ('riced', 'cider'), ('alton', 'tonal'), ('redis', 'sired'), (\"pus's\", \"ups's\"), ('roche', 'ocher'), ('horus', 'hours'), ('rosie', 'osier'), ('scion', 'icons'), ('sabre', 'bears'), ('wendi', 'wined'), ('lepus', 'pulse'), ('deals', 'leads'), ('rubin', 'bruin'), ('smite', 'mites'), ('smite', 'times'), ('grabs', 'brags'), ('prose', 'ropes'), ('luann', 'annul'), ('farsi', 'fairs'), ('shore', 'horse'), ('velma', 'melva'), ('lures', 'rules'), ('loans', 'salon'), ('petal', 'plate'), ('fuels', 'flues'), ('evian', 'naive'), ('reset', 'terse'), ('asset', 'seats'), ('asset', 'easts'), ('jaunt', 'junta'), ('wises', 'weiss'), ('runes', 'nurse'), ('ogles', 'loges'), ('helot', 'hotel'), ('tosca', 'coats'), ('meals', 'salem'), ('meals', 'selma'), ('links', 'kilns'), ('earth', 'heart'), ('bored', 'robed'), ('heron', 'horne'), ('salem', 'selma'), ('wordy', 'rowdy'), ('raped', 'padre'), ('daily', 'lydia'), ('paled', 'plead'), (\"tip's\", \"pit's\"), ('slued', 'duels'), ('acres', 'cesar'), ('acres', 'scare'), ('pares', 'spear'), ('pares', 'rapes'), ('traps', 'parts'), ('traps', 'strap'), ('carpi', 'capri'), ('shark', 'harks'), ('liars', 'rails'), ('leona', 'alone'), ('swear', 'wears'), ('curse', 'sucre'), ('lists', 'silts'), ('fries', 'fires'), ('trips', 'strip'), ('leper', 'repel'), ('route', 'outer'), ('heirs', 'hires'), (\"yam's\", \"amy's\"), ('corps', 'crops'), ('debra', 'bared'), ('remit', 'timer'), ('remit', 'miter'), (\"isn't\", \"tin's\"), ('cesar', 'scare'), ('gases', 'sages'), ('amble', 'melba'), ('debug', 'budge'), ('luisa', 'laius'), ('spasm', 'spams'), (\"lei's\", \"eli's\"), ('andre', 'arden'), (\"gun's\", \"gnu's\"), ('trade', 'rated'), ('timer', 'miter'), (\"asp's\", \"spa's\"), ('moors', 'rooms'), ('seats', 'easts'), ('evens', 'seven'), ('tisha', 'saith'), ('cruel', 'lucre'), ('spool', 'pools'), ('spear', 'rapes'), ('caleb', 'cable'), ('tsars', 'stars'), ('these', 'sheet'), ('edges', 'sedge'), ('sower', 'worse'), (\"run's\", \"urn's\"), ('roman', 'moran'), ('roman', 'norma'), ('narks', 'ranks'), ('loren', 'loner'), ('trace', 'cater'), ('meets', 'teems'), ('smash', 'shams'), ('early', 'layer'), (\"rap's\", \"par's\"), ('mourn', 'munro'), ('skate', 'takes'), ('armed', 'dream'), (\"pot's\", \"top's\"), ('sever', 'veers'), ('sever', 'serve'), ('sever', 'verse'), ('creep', 'crepe'), (\"elm's\", \"mel's\"), ('rheas', 'shear'), ('shill', 'hills'), ('vapes', 'paves'), ('moran', 'norma'), ('sinew', 'wines'), (\"mad's\", \"amd's\"), ('sahel', 'shale'), ('hosts', 'shots'), ('cohan', 'nacho'), ('tyson', 'stony'), ('mites', 'times'), ('grate', 'greta'), ('thaws', 'whats'), ('thaws', 'swath'), ('stool', 'tools'), ('veers', 'serve'), ('veers', 'verse'), ('field', 'filed'), ('serve', 'verse'), ('payer', 'peary'), ('rests', 'tress'), ('arise', 'aires'), ('titan', 'taint'), ('parts', 'strap'), ('lever', 'revel'), ('arabs', 'basra'), ('flare', 'feral'), ('clear', 'clare'), ('auden', 'duane'), ('whats', 'swath'), ('doles', 'lodes'), ('molar', 'moral')]\n"
     ]
    }
   ],
   "source": [
    "#pairs = all_anagram_pairs(word_list)\n",
    "#print(pairs)\n",
    "\n",
    "#runs for more than 45 minutes\n",
    "\n",
    "#reduced the word list - only words with 5 letters\n",
    "word_list_5 = [word for word in word_list if len(word) == 5]\n",
    "len(word_list_5)\n",
    "\n",
    "pairs = all_anagram_pairs(word_list_5)\n",
    "print(pairs)\n",
    "\n",
    "#runtime is 18.7s"
   ]
  },
  {
   "cell_type": "markdown",
   "metadata": {},
   "source": [
    "**Exercise 5:** While that's running, let's estimate how long it's going to take."
   ]
  },
  {
   "cell_type": "markdown",
   "metadata": {},
   "source": []
  },
  {
   "cell_type": "code",
   "execution_count": 21,
   "metadata": {},
   "outputs": [],
   "source": [
    "#rewrite the function to return a dictionary with the keys as the sorted words and the values as the list of words that\n",
    "# are anagrams of the key\n",
    "\n",
    "# \"\".join to concatenate list ['a', 'b', 'c', 'd', 'e', 'f'] into a string 'abcdef'\n",
    "#word_dict.setdefault(key, []) creates a new key with an empty list as the value\n",
    "#word_dict.setdefault(key, []).append(word) appends the word to the list\n",
    "\n",
    "def all_anagram_lists(word_list):\n",
    "    word_dict = {}\n",
    "    for word in word_list:\n",
    "        key = ''.join(sorted(word))\n",
    "        word_dict.setdefault(key, []).append(word)\n",
    "    return word_dict\n",
    "\n"
   ]
  },
  {
   "cell_type": "code",
   "execution_count": 22,
   "metadata": {},
   "outputs": [
    {
     "name": "stdout",
     "output_type": "stream",
     "text": [
      "ailss ['sisal', 'sails', 'silas']\n",
      "deims ['deism', 'dimes']\n",
      "adeis ['sadie', 'ideas', 'aides', 'aside']\n",
      "eortw ['wrote', 'tower']\n",
      "ainst ['stain', 'saint', 'satin', 'antis']\n",
      "einrv ['riven', 'ervin']\n",
      "cemot ['comet', 'comte']\n",
      "acels ['laces', 'scale']\n",
      "aelnp ['plane', 'nepal', 'penal', 'panel']\n",
      "ceert ['erect', 'crete']\n"
     ]
    }
   ],
   "source": [
    "dict = all_anagram_lists(word_list_5)\n",
    "#print(dict)\n",
    "\n",
    "len(dict)\n",
    "# 5173\n",
    "\n",
    "#remove the keys with only one value\n",
    "for key in list(dict.keys()):\n",
    "    if len(dict[key]) == 1:\n",
    "        del dict[key]\n",
    "\n",
    "len(dict)\n",
    "#1000\n",
    "\n",
    "#print(dict)\n",
    "\n",
    "#print first 10 keys and values\n",
    "for key in list(dict)[:10]:\n",
    "    print(key, dict[key])\n"
   ]
  },
  {
   "cell_type": "code",
   "execution_count": 23,
   "metadata": {},
   "outputs": [
    {
     "name": "stdout",
     "output_type": "stream",
     "text": [
      "ailss\n",
      "8 aelst ['tesla', 'slate', 'stale', 'tales', 'least', 'teals', 'stael', 'steal']\n",
      "8\n"
     ]
    }
   ],
   "source": [
    "print(max(dict, key=len))\n",
    "\n",
    "#find the longest list of anagrams\n",
    "max_len = 0\n",
    "for key in dict:\n",
    "    if len(dict[key]) > max_len:\n",
    "        max_len = len(dict[key])\n",
    "        max_key = key\n",
    "\n",
    "print(max_len, max_key, dict[max_key])\n",
    "\n",
    "print(max_len)\n"
   ]
  },
  {
   "cell_type": "code",
   "execution_count": 24,
   "metadata": {},
   "outputs": [
    {
     "name": "stdout",
     "output_type": "stream",
     "text": [
      "abcdef\n",
      "['a', 'b', 'c', 'd', 'e', 'f']\n"
     ]
    },
    {
     "data": {
      "text/plain": [
       "list"
      ]
     },
     "execution_count": 24,
     "metadata": {},
     "output_type": "execute_result"
    }
   ],
   "source": [
    "word =\"fedcba\"\n",
    "key = ''.join(sorted(word))\n",
    "print(key)\n",
    "\n",
    "key2 = sorted(word)\n",
    "print(key2)\n",
    "\n",
    "type(key2)"
   ]
  },
  {
   "cell_type": "code",
   "execution_count": 25,
   "metadata": {},
   "outputs": [
    {
     "ename": "NameError",
     "evalue": "name 'all_anagram_lists1' is not defined",
     "output_type": "error",
     "traceback": [
      "\u001b[0;31m---------------------------------------------------------------------------\u001b[0m",
      "\u001b[0;31mNameError\u001b[0m                                 Traceback (most recent call last)",
      "Cell \u001b[0;32mIn[25], line 3\u001b[0m\n\u001b[1;32m      1\u001b[0m \u001b[39m#explain all_anagram_lists\u001b[39;00m\n\u001b[0;32m----> 3\u001b[0m all_anagram_lists1(word_list_5)\n",
      "\u001b[0;31mNameError\u001b[0m: name 'all_anagram_lists1' is not defined"
     ]
    }
   ],
   "source": [
    "#explain all_anagram_lists\n",
    "\n",
    "all_anagram_lists1(word_list_5)"
   ]
  },
  {
   "cell_type": "code",
   "execution_count": null,
   "metadata": {},
   "outputs": [
    {
     "name": "stdout",
     "output_type": "stream",
     "text": [
      "CPU times: user 6 µs, sys: 0 ns, total: 6 µs\n",
      "Wall time: 11.9 µs\n"
     ]
    }
   ],
   "source": [
    "%time anagram_map = all_anagram_lists(word_list)"
   ]
  },
  {
   "cell_type": "code",
   "execution_count": null,
   "metadata": {},
   "outputs": [
    {
     "data": {
      "text/plain": [
       "0"
      ]
     },
     "execution_count": 23,
     "metadata": {},
     "output_type": "execute_result"
    }
   ],
   "source": [
    "len(anagram_map)"
   ]
  },
  {
   "cell_type": "code",
   "execution_count": null,
   "metadata": {},
   "outputs": [],
   "source": []
  },
  {
   "cell_type": "markdown",
   "metadata": {},
   "source": [
    "## Summary\n",
    "\n",
    "What is the point of the examples in this notebook?\n",
    "\n",
    "* The different versions of `is_anagram` show that, when inputs are small, it is hard to say which algorithm will be the fastest. It often depends on details of the implementation. Anyway, the differences tend to be small, so it might not matter much in practice.\n",
    "\n",
    "* The different algorithms we used to search for anagram pairs show that, when inputs are large, we can often tell which algorithm will be fastest. And the difference between a fast algorithm and a slow one can be huge!"
   ]
  },
  {
   "cell_type": "code",
   "execution_count": null,
   "metadata": {},
   "outputs": [],
   "source": []
  },
  {
   "cell_type": "markdown",
   "metadata": {},
   "source": [
    "## Exercises\n",
    "\n",
    "Before you work on these exercises, you might want to read the Python [Sorting How-To](https://docs.python.org/3/howto/sorting.html). It uses `lambda` to define an anonymous function, which [you can read about here](https://www.w3schools.com/python/python_lambda.asp).\n",
    "\n",
    "**Exercise 7:**\n",
    "Make a dictionary like `anagram_map` that contains only keys that map to a list with more than one element. You can use a `for` loop to make a new dictionary, or a [dictionary comprehension](https://www.freecodecamp.org/news/dictionary-comprehension-in-python-explained-with-examples/)."
   ]
  },
  {
   "cell_type": "code",
   "execution_count": null,
   "metadata": {},
   "outputs": [],
   "source": []
  },
  {
   "cell_type": "markdown",
   "metadata": {},
   "source": [
    "**Exercise 8:**\n",
    "Find the longest word with at least one anagram. Suggestion: use the `key` argument of `sort` or `sorted` ([see here](https://stackoverflow.com/questions/8966538/syntax-behind-sortedkey-lambda))."
   ]
  },
  {
   "cell_type": "code",
   "execution_count": null,
   "metadata": {},
   "outputs": [],
   "source": []
  },
  {
   "cell_type": "markdown",
   "metadata": {},
   "source": [
    "**Exercise 9:**\n",
    "Find the largest list of words that are anagrams of each other."
   ]
  },
  {
   "cell_type": "code",
   "execution_count": null,
   "metadata": {},
   "outputs": [],
   "source": []
  },
  {
   "cell_type": "markdown",
   "metadata": {},
   "source": [
    "**Exercise 10:**\n",
    "Write a function that takes an integer `word_length` and finds the longest list of words with the given length that are anagrams of each other."
   ]
  },
  {
   "cell_type": "code",
   "execution_count": null,
   "metadata": {},
   "outputs": [],
   "source": []
  },
  {
   "cell_type": "code",
   "execution_count": null,
   "metadata": {},
   "outputs": [],
   "source": []
  },
  {
   "cell_type": "markdown",
   "metadata": {},
   "source": [
    "**Exercise 11:**\n",
    "At this point we have a data structure that contains lists of words that are anagrams, but we have not actually enumerated all pairs.\n",
    "Write a function that takes `anagram_map` and returns a list of all anagram pairs.\n",
    "How many are there?"
   ]
  },
  {
   "cell_type": "code",
   "execution_count": null,
   "metadata": {},
   "outputs": [],
   "source": []
  },
  {
   "cell_type": "code",
   "execution_count": null,
   "metadata": {},
   "outputs": [],
   "source": []
  },
  {
   "cell_type": "code",
   "execution_count": null,
   "metadata": {},
   "outputs": [],
   "source": []
  },
  {
   "cell_type": "code",
   "execution_count": null,
   "metadata": {},
   "outputs": [],
   "source": []
  },
  {
   "cell_type": "markdown",
   "metadata": {},
   "source": [
    "*Data Structures and Information Retrieval in Python*\n",
    "\n",
    "Copyright 2021 Allen Downey\n",
    "\n",
    "License: [Creative Commons Attribution-NonCommercial-ShareAlike 4.0 International](https://creativecommons.org/licenses/by-nc-sa/4.0/)"
   ]
  }
 ],
 "metadata": {
  "kernelspec": {
   "display_name": "Python 3 (ipykernel)",
   "language": "python",
   "name": "python3"
  },
  "language_info": {
   "codemirror_mode": {
    "name": "ipython",
    "version": 3
   },
   "file_extension": ".py",
   "mimetype": "text/x-python",
   "name": "python",
   "nbconvert_exporter": "python",
   "pygments_lexer": "ipython3",
   "version": "3.10.4"
  }
 },
 "nbformat": 4,
 "nbformat_minor": 4
}
