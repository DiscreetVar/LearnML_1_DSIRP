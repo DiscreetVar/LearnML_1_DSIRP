{
 "cells": [
  {
   "cell_type": "markdown",
   "metadata": {},
   "source": [
    "# Algorithms"
   ]
  },
  {
   "cell_type": "markdown",
   "metadata": {},
   "source": [
    "[Click here to run this chapter on Colab](https://colab.research.google.com/github/AllenDowney/DSIRP/blob/main/notebooks/algorithms.ipynb)"
   ]
  },
  {
   "cell_type": "markdown",
   "metadata": {},
   "source": [
    "## Searching for anagrams\n",
    "\n",
    "In this notebook we'll implement algorithms for two tasks:\n",
    "\n",
    "* Testing a pair of words to see if they are anagrams of each other, that is, if you can rearrange the letters in one word to spell the other.\n",
    "\n",
    "* Searching a list of words for all pairs that are anagrams of each other.\n",
    "\n",
    "There is a point to these examples, which I will explain at the end."
   ]
  },
  {
   "cell_type": "markdown",
   "metadata": {},
   "source": [
    "**Exercise 1:** Write a function that takes two words and returns `True` if they are anagrams. Test your function with the examples below."
   ]
  },
  {
   "cell_type": "code",
   "execution_count": 6,
   "metadata": {},
   "outputs": [],
   "source": [
    "def is_anagram(word1, word2):\n",
    "    \n",
    "    # sort the letters in each word\n",
    "    word1 = sorted(word1)\n",
    "    word2 = sorted(word2)\n",
    "    \n",
    "    # compare the sorted words\n",
    "    return word1 == word2"
   ]
  },
  {
   "cell_type": "code",
   "execution_count": 7,
   "metadata": {},
   "outputs": [
    {
     "data": {
      "text/plain": [
       "True"
      ]
     },
     "execution_count": 7,
     "metadata": {},
     "output_type": "execute_result"
    }
   ],
   "source": [
    "is_anagram('tachymetric', 'mccarthyite') # True"
   ]
  },
  {
   "cell_type": "code",
   "execution_count": 8,
   "metadata": {},
   "outputs": [
    {
     "data": {
      "text/plain": [
       "False"
      ]
     },
     "execution_count": 8,
     "metadata": {},
     "output_type": "execute_result"
    }
   ],
   "source": [
    "is_anagram('post', 'top') # False, letter not present"
   ]
  },
  {
   "cell_type": "code",
   "execution_count": 9,
   "metadata": {},
   "outputs": [
    {
     "data": {
      "text/plain": [
       "False"
      ]
     },
     "execution_count": 9,
     "metadata": {},
     "output_type": "execute_result"
    }
   ],
   "source": [
    "is_anagram('pott', 'top') # False, letter present but not enough copies"
   ]
  },
  {
   "cell_type": "code",
   "execution_count": 10,
   "metadata": {},
   "outputs": [
    {
     "data": {
      "text/plain": [
       "False"
      ]
     },
     "execution_count": 10,
     "metadata": {},
     "output_type": "execute_result"
    }
   ],
   "source": [
    "is_anagram('top', 'post') # False, letters left over at the end"
   ]
  },
  {
   "cell_type": "code",
   "execution_count": 11,
   "metadata": {},
   "outputs": [
    {
     "data": {
      "text/plain": [
       "False"
      ]
     },
     "execution_count": 11,
     "metadata": {},
     "output_type": "execute_result"
    }
   ],
   "source": [
    "is_anagram('topss', 'postt') # False"
   ]
  },
  {
   "cell_type": "markdown",
   "metadata": {},
   "source": [
    "**Exercise 2:** Use `timeit` to see how fast your function is for these examples:"
   ]
  },
  {
   "cell_type": "code",
   "execution_count": 12,
   "metadata": {},
   "outputs": [
    {
     "name": "stdout",
     "output_type": "stream",
     "text": [
      "654 ns ± 5.42 ns per loop (mean ± std. dev. of 7 runs, 1,000,000 loops each)\n"
     ]
    }
   ],
   "source": [
    "%timeit is_anagram('tops', 'spot')"
   ]
  },
  {
   "cell_type": "code",
   "execution_count": 13,
   "metadata": {},
   "outputs": [
    {
     "name": "stdout",
     "output_type": "stream",
     "text": [
      "1.06 µs ± 11 ns per loop (mean ± std. dev. of 7 runs, 1,000,000 loops each)\n"
     ]
    }
   ],
   "source": [
    "%timeit is_anagram('tachymetric', 'mccarthyite')"
   ]
  },
  {
   "cell_type": "markdown",
   "metadata": {},
   "source": [
    "How can we compare algorithms running on different computers?"
   ]
  },
  {
   "cell_type": "markdown",
   "metadata": {},
   "source": [
    "## Searching for anagram pairs"
   ]
  },
  {
   "cell_type": "markdown",
   "metadata": {},
   "source": [
    "**Exercise 3:** Write a function that takes a word list and returns a list of all anagram pairs."
   ]
  },
  {
   "cell_type": "code",
   "execution_count": 14,
   "metadata": {},
   "outputs": [],
   "source": [
    "short_word_list = ['proudest', 'stop', 'pots', 'tops', 'sprouted']"
   ]
  },
  {
   "cell_type": "code",
   "execution_count": 15,
   "metadata": {},
   "outputs": [],
   "source": [
    "#v0 basic function - does not check for identity or reverse pairs\n",
    "\n",
    "def all_anagram_pairs_v0(word_list):\n",
    "    \n",
    "    # initialize an empty list to hold the anagram pairs\n",
    "    anagram_pairs = []\n",
    "    \n",
    "    # loop over each word in the list\n",
    "    for word1 in word_list:\n",
    "        \n",
    "        # loop over each word in the list again\n",
    "        for word2 in word_list:\n",
    "            \n",
    "            # check if the two words are anagrams\n",
    "            if is_anagram(word1, word2):\n",
    "                \n",
    "                # add the pair to the list\n",
    "                anagram_pairs.append((word1, word2))\n",
    "                \n",
    "    return anagram_pairs\n",
    "\n",
    "\n"
   ]
  },
  {
   "cell_type": "code",
   "execution_count": 16,
   "metadata": {},
   "outputs": [],
   "source": [
    "#v1 updated function - checks for duplicates and reverse pairs\n",
    "\n",
    "def all_anagram_pairs_v1(word_list):\n",
    "\n",
    "    # initialize an empty list to hold the anagram pairs\n",
    "    anagram_pairs = []\n",
    "    \n",
    "    # loop over each word in the list\n",
    "    for word1 in word_list:\n",
    "        \n",
    "        # loop over each word in the list again\n",
    "        for word2 in word_list:\n",
    "            \n",
    "            # check if the two words are anagrams\n",
    "            if is_anagram(word1, word2):\n",
    "                \n",
    "                # check if the pair is already in the list\n",
    "                if (word2, word1) not in anagram_pairs:\n",
    "                    \n",
    "                    # add the pair to the list\n",
    "                    anagram_pairs.append((word1, word2))\n",
    "                \n",
    "    return anagram_pairs\n",
    "\n",
    "\n",
    "    \n",
    "\n"
   ]
  },
  {
   "cell_type": "code",
   "execution_count": 17,
   "metadata": {},
   "outputs": [],
   "source": [
    "#v updated function - using enumerate. otherwise unnecessary comparisons are made \n",
    "def all_anagram_pairs_v2(word_list):\n",
    "    # initialize an empty list to hold the anagram pairs\n",
    "    anagram_pairs = []\n",
    "    \n",
    "    for index, word1 in enumerate(word_list):\n",
    "        for word2 in word_list[index+1:]:\n",
    "            if is_anagram(word1, word2):\n",
    "                anagram_pairs.append((word1, word2))\n",
    "\n",
    "    return anagram_pairs"
   ]
  },
  {
   "cell_type": "code",
   "execution_count": 18,
   "metadata": {},
   "outputs": [],
   "source": [
    "#v updated function - using itertools. otherwise unnecessary comparisons are made \n",
    "\n",
    "import itertools\n",
    "\n",
    "def all_anagram_pairs_v3(word_list):\n",
    "    # initialize an empty list to hold the anagram pairs\n",
    "    anagram_pairs = []\n",
    "    \n",
    "    for word1,word2 in itertools.combinations(word_list, 2):\n",
    "            if is_anagram(word1, word2):\n",
    "                anagram_pairs.append((word1, word2))\n",
    "\n",
    "    return anagram_pairs"
   ]
  },
  {
   "cell_type": "code",
   "execution_count": 19,
   "metadata": {},
   "outputs": [
    {
     "data": {
      "text/plain": [
       "[('proudest', 'sprouted'),\n",
       " ('stop', 'pots'),\n",
       " ('stop', 'tops'),\n",
       " ('pots', 'tops')]"
      ]
     },
     "execution_count": 19,
     "metadata": {},
     "output_type": "execute_result"
    }
   ],
   "source": [
    "# choose the version of the function to use\n",
    "\n",
    "all_anagram_pairs = all_anagram_pairs_v3\n",
    "all_anagram_pairs(short_word_list)\n"
   ]
  },
  {
   "cell_type": "markdown",
   "metadata": {},
   "source": [
    "The following cell downloads a file containing a list of English words."
   ]
  },
  {
   "cell_type": "code",
   "execution_count": 20,
   "metadata": {},
   "outputs": [],
   "source": [
    "from os.path import basename, exists\n",
    "\n",
    "def download(url):\n",
    "    filename = basename(url)\n",
    "    if not exists(filename):\n",
    "        from urllib.request import urlretrieve\n",
    "        local, _ = urlretrieve(url, filename)\n",
    "        print('Downloaded ' + local)\n",
    "    \n",
    "download('https://github.com/AllenDowney/DSIRP/raw/main/american-english')"
   ]
  },
  {
   "cell_type": "markdown",
   "metadata": {},
   "source": [
    "The following function reads a file and returns a set of words (I used a set because after we convert words to lower case, there are some repeats.)"
   ]
  },
  {
   "cell_type": "code",
   "execution_count": 21,
   "metadata": {},
   "outputs": [],
   "source": [
    "def read_words(filename):\n",
    "    \"\"\"Read lines from a file and split them into words.\"\"\"\n",
    "    res = set()\n",
    "    for line in open(filename):\n",
    "        for word in line.split():\n",
    "            res.add(word.strip().lower())\n",
    "    return res"
   ]
  },
  {
   "cell_type": "code",
   "execution_count": 22,
   "metadata": {},
   "outputs": [
    {
     "data": {
      "text/plain": [
       "100781"
      ]
     },
     "execution_count": 22,
     "metadata": {},
     "output_type": "execute_result"
    }
   ],
   "source": [
    "word_list = read_words('american-english')\n",
    "len(word_list)"
   ]
  },
  {
   "cell_type": "markdown",
   "metadata": {},
   "source": [
    "**Exercise 4:** Loop through the word list and print all words that are anagrams of `stop`."
   ]
  },
  {
   "cell_type": "code",
   "execution_count": 23,
   "metadata": {},
   "outputs": [
    {
     "name": "stdout",
     "output_type": "stream",
     "text": [
      "opts\n",
      "spot\n",
      "pots\n",
      "post\n",
      "tops\n",
      "stop\n"
     ]
    }
   ],
   "source": [
    "for word in word_list:\n",
    "    if is_anagram('stop', word):\n",
    "        print(word)"
   ]
  },
  {
   "cell_type": "markdown",
   "metadata": {},
   "source": [
    "Now run `all_anagram_pairs` with the full `word_list`:"
   ]
  },
  {
   "cell_type": "code",
   "execution_count": 24,
   "metadata": {},
   "outputs": [
    {
     "name": "stdout",
     "output_type": "stream",
     "text": [
      "[('doles', 'soled'), ('doles', 'lodes'), ('sense', 'essen'), ('heaps', 'shape'), ('heaps', 'phase'), ('wanes', 'weans'), ('minos', 'simon'), ('sever', 'serve'), ('sever', 'veers'), ('sever', 'verse'), ('there', 'ether'), ('there', 'three'), ('sages', 'gases'), ('deers', 'seder'), ('deers', 'reeds'), ('aches', 'chase'), ('alive', 'elvia'), ('burnt', 'brunt'), ('peary', 'payer'), ('peary', 'repay'), ('bolts', 'blots'), ('erich', 'reich'), ('erich', 'cheri'), ('colas', 'coals'), ('dingo', 'doing'), ('beret', 'ebert'), ('slogs', 'gloss'), ('spasm', 'spams'), ('exams', 'maxes'), ('pills', 'spill'), ('herds', 'sherd'), ('herds', 'shred'), ('septa', 'paste'), ('septa', 'tapes'), ('septa', 'spate'), ('septa', 'pates'), ('rimed', 'dimer'), ('rimed', 'mired'), ('arise', 'aries'), ('arise', 'raise'), ('arise', 'aires'), ('sheri', 'shire'), ('sheri', 'hires'), ('sheri', 'heirs'), ('races', 'cares'), ('races', 'cesar'), ('races', 'acres'), ('races', 'scare'), ('cruet', 'truce'), ('cruet', 'cuter'), (\"bed's\", \"deb's\"), ('stink', 'knits'), ('ninja', 'jinan'), ('handy', 'haydn'), ('roses', 'sores'), ('tacos', 'coats'), ('tacos', 'tosca'), ('tacos', 'ascot'), ('tacos', 'coast'), (\"leg's\", \"gel's\"), ('shale', 'sahel'), ('shale', 'heals'), ('shale', 'leash'), ('shale', 'hales'), ('aided', 'addie'), ('sloop', 'pools'), ('sloop', 'spool'), ('sloop', 'loops'), ('licks', 'slick'), (\"lei's\", \"eli's\"), (\"lei's\", \"lie's\"), ('lewis', 'wiles'), ('debra', 'debar'), ('debra', 'bread'), ('debra', 'beard'), ('debra', 'bared'), ('curbs', 'scrub'), ('spear', 'pears'), ('spear', 'rapes'), ('spear', 'reaps'), ('spear', 'parse'), ('spear', 'spare'), ('spear', 'pares'), ('laced', 'decal'), ('tiffs', 'stiff'), ('vales', 'slave'), ('vales', 'salve'), ('peons', 'opens'), ('peons', 'epson'), ('peons', 'pones'), ('costs', 'scots'), ('auden', 'duane'), ('routs', 'tours'), ('routs', 'torus'), ('lions', 'loins'), ('haney', 'hyena'), ('slake', 'leaks'), ('slake', 'lakes'), ('maple', 'ample'), (\"mug's\", \"gum's\"), ('hairs', 'shari'), ('stuck', 'tucks'), ('auger', 'argue'), ('laius', 'luisa'), ('luaus', 'usual'), ('freak', 'faker'), ('lungs', 'slung'), ('sings', 'signs'), ('boats', 'boast'), ('olive', 'voile'), ('smote', 'motes'), ('smote', 'tomes'), (\"won's\", \"now's\"), ('horse', 'heros'), ('horse', 'shore'), ('angry', 'rangy'), ('keith', 'kieth'), ('vaped', 'paved'), ('hints', 'thins'), ('olden', 'eldon'), ('stews', 'wests'), ('lager', 'elgar'), ('lager', 'large'), ('lager', 'regal'), ('lager', 'glare'), ('lager', 'alger'), ('swill', 'wills'), (\"god's\", \"dog's\"), ('laden', 'nelda'), ('laden', 'alden'), ('shine', 'hines'), ('wings', 'swing'), ('silly', 'slily'), ('magma', 'gamma'), ('pauli', 'pilau'), ('copes', 'pecos'), ('copes', 'scope'), ('copes', 'copse'), ('tires', 'rites'), ('tires', 'tries'), ('tires', 'tiers'), ('dewar', 'wader'), ('farsi', 'fairs'), ('rifts', 'first'), ('dikes', 'skied'), ('bakes', 'beaks'), ('moats', 'atoms'), ('moats', 'tomas'), ('pasty', 'patsy'), ('loner', 'enrol'), ('loner', 'loren'), (\"wen's\", \"new's\"), ('rhone', 'heron'), ('rhone', 'horne'), ('gruel', 'luger'), ('greta', 'grate'), ('greta', 'great'), ('lisle', 'ellis'), ('lynda', 'dylan'), ('erase', 'saree'), (\"nip's\", \"pin's\"), ('notes', 'seton'), ('notes', 'stone'), ('notes', 'tones'), ('notes', 'onset'), ('steam', 'mates'), ('steam', 'teams'), ('steam', 'meats'), ('steam', 'tames'), ('traps', 'strap'), ('traps', 'sprat'), ('traps', 'tarps'), ('traps', 'parts'), (\"meg's\", \"gem's\"), ('talks', 'stalk'), ('inonu', 'union'), ('lades', 'leads'), ('lades', 'dales'), ('lades', 'deals'), ('rupee', 'puree'), ('lobes', 'boles'), ('cheat', 'teach'), ('spend', 'pends'), ('toady', 'today'), ('amend', 'admen'), ('amend', 'named'), ('amend', 'medan'), ('robes', 'sober'), ('robes', 'bores'), ('robes', 'boers'), ('hayes', 'yeahs'), ('learn', 'renal'), ('skyed', 'dykes'), (\"how's\", \"who's\"), ('globs', 'blogs'), ('wesak', 'wakes'), ('wesak', 'askew'), ('maces', 'emacs'), ('maces', 'acmes'), ('lasts', 'slats'), ('lasts', 'salts'), ('nerds', 'rends'), ('riles', 'slier'), ('heard', 'hared'), ('horde', 'rhode'), ('horde', 'herod'), ('leila', 'lelia'), ('leila', 'allie'), ('china', 'icahn'), ('china', 'chain'), ('basra', 'arabs'), ('scoop', 'coops'), ('basis', 'bassi'), ('alert', 'later'), ('alert', 'alter'), ('edger', 'greed'), ('recta', 'crate'), ('recta', 'trace'), ('recta', 'react'), ('recta', 'cater'), ('recta', 'caret'), ('swede', 'weeds'), ('swede', 'sewed'), ('stein', 'inset'), ('stein', 'tines'), ('stein', 'nites'), ('stein', 'stine'), ('stilt', 'tilts'), ('lepus', 'pulse'), ('inapt', 'paint'), ('delis', 'slide'), ('delis', 'sidle'), ('delis', 'idles'), ('jaunt', 'junta'), ('taser', 'tears'), ('taser', 'tares'), ('taser', 'stare'), ('taser', 'rates'), ('taser', 'aster'), ('plane', 'panel'), ('plane', 'penal'), ('plane', 'nepal'), ('taped', 'adept'), (\"ale's\", \"lea's\"), ('prays', 'spray'), ('prays', 'raspy'), ('warps', 'wraps'), ('leads', 'dales'), ('leads', 'deals'), ('aries', 'raise'), ('aries', 'aires'), ('gallo', 'algol'), ('odets', 'dotes'), ('lists', 'slits'), ('lists', 'silts'), ('domes', 'modes'), ('domes', 'demos'), ('gorse', 'ogres'), ('gorse', 'gores'), (\"sid's\", \"dis's\"), ('exits', 'exist'), ('smear', 'reams'), ('smear', 'mares'), ('artie', 'irate'), ('drags', 'grads'), ('niter', 'inter'), ('niter', 'inert'), (\"sim's\", \"ism's\"), ('seton', 'stone'), ('seton', 'tones'), ('seton', 'onset'), ('scram', 'crams'), ('doyle', 'yodel'), ('splay', 'plays'), ('splay', 'palsy'), ('fidel', 'flied'), ('fidel', 'field'), ('fidel', 'filed'), ('night', 'thing'), ('tutor', 'trout'), ('coats', 'tosca'), ('coats', 'ascot'), ('coats', 'coast'), ('sybil', 'sibyl'), ('minot', 'timon'), ('achoo', 'ochoa'), ('slain', 'nails'), ('slain', 'snail'), (\"aye's\", \"yea's\"), (\"bus's\", \"ubs's\"), (\"bus's\", \"sub's\"), ('chars', 'crash'), ('optic', 'topic'), ('urges', 'surge'), ('dames', 'edams'), ('stael', 'steal'), ('stael', 'tales'), ('stael', 'least'), ('stael', 'tesla'), ('stael', 'stale'), ('stael', 'slate'), ('stael', 'teals'), ('broad', 'board'), ('basil', 'bails'), ('steal', 'tales'), ('steal', 'least'), ('steal', 'tesla'), ('steal', 'stale'), ('steal', 'slate'), ('steal', 'teals'), ('rents', 'terns'), ('rents', 'ernst'), ('rents', 'stern'), ('icahn', 'chain'), ('dives', 'vised'), ('owned', 'endow'), ('harms', 'marsh'), ('lucre', 'ulcer'), ('lucre', 'cruel'), ('brian', 'brain'), ('brian', 'rabin'), ('meyer', 'emery'), ('ervin', 'riven'), ('sites', 'sties'), ('sours', 'russo'), ('pears', 'rapes'), ('pears', 'reaps'), ('pears', 'parse'), ('pears', 'spare'), ('pears', 'pares'), ('sinks', 'skins'), ('fifes', 'fiefs'), ('blued', 'lubed'), ('baidu', 'dubai'), ('snaps', 'spans'), ('camus', 'sumac'), ('rebut', 'tuber'), ('rebut', 'brute'), ('pared', 'raped'), ('pared', 'drape'), ('pared', 'padre'), ('hewer', 'where'), ('rooms', 'moors'), ('voter', 'overt'), ('dewey', 'weedy'), ('snaky', 'yanks'), ('seams', 'mesas'), ('seams', 'sames'), ('daubs', 'bauds'), ('tamra', 'marat'), ('tamra', 'marta'), ('alloy', 'loyal'), ('cadge', 'caged'), ('ladle', 'della'), ('lever', 'revel'), ('gimpy', 'pigmy'), ('maims', 'imams'), ('sahel', 'heals'), ('sahel', 'leash'), ('sahel', 'hales'), ('avila', 'avail'), (\"geo's\", \"ego's\"), ('raves', 'saver'), ('raves', 'avers'), ('golfs', 'flogs'), (\"sup's\", \"ups's\"), (\"sup's\", \"pus's\"), ('coots', 'scoot'), ('texas', 'taxes'), ('camps', 'scamp'), ('rafts', 'frats'), ('rafts', 'farts'), ('direr', 'drier'), ('direr', 'rider'), ('edgar', 'grade'), ('edgar', 'raged'), ('asoka', 'osaka'), (\"oct's\", \"cot's\"), ('papal', 'appal'), ('berra', 'barer'), ('sable', 'basel'), ('sable', 'bales'), ('loons', 'solon'), ('loons', 'olson'), (\"hob's\", \"hbo's\"), ('wipes', 'swipe'), ('needs', 'dense'), ('needs', 'edens'), ('sails', 'sisal'), ('sails', 'silas'), ('lassa', 'salas'), ('lassa', 'salsa'), (\"ten's\", \"net's\"), ('death', 'hated'), ('creon', 'crone'), (\"bin's\", \"nib's\"), ('kusch', 'shuck'), ('perms', 'sperm'), ('quiet', 'quite'), ('futon', 'fount'), ('dared', 'adder'), ('dared', 'dread'), ('laban', 'banal'), ('sward', 'draws'), ('sward', 'wards'), ('orals', 'solar'), ('untie', 'unite'), ('nexis', 'nixes'), ('artsy', 'satyr'), ('artsy', 'trays'), ('artsy', 'stray'), ('crony', 'corny'), ('stint', 'tints'), ('saith', 'thais'), ('saith', 'tisha'), ('greet', 'egret'), ('pleat', 'patel'), ('pleat', 'leapt'), ('pleat', 'petal'), ('pleat', 'plate'), ('annam', 'manna'), ('teens', 'tense'), ('brain', 'rabin'), ('comte', 'comet'), ('pairs', 'parsi'), ('pairs', 'paris'), ('times', 'items'), ('times', 'smite'), ('times', 'emits'), ('times', 'mites'), ('canny', 'nancy'), ('roast', 'sorta'), ('roast', 'astor'), ('roast', 'sarto'), ('roast', 'taros'), ('denis', 'snide'), ('denis', 'dines'), ('inane', 'annie'), ('lifts', 'flits'), ('abuts', 'tubas'), ('abuts', 'tabus'), ('rares', 'rears'), ('rares', 'serra'), ('pages', 'gapes'), ('parks', 'spark'), ('payer', 'repay'), ('assam', 'amass'), ('sweat', 'waste'), ('saxon', 'axons'), ('boots', 'boost'), ('naomi', 'amino'), ('rapes', 'reaps'), ('rapes', 'parse'), ('rapes', 'spare'), ('rapes', 'pares'), (\"saw's\", \"aws's\"), ('moira', 'maori'), ('moira', 'mario'), ('bryon', 'byron'), ('bryon', 'robyn'), ('marco', 'macro'), ('marco', 'carom'), ('thees', 'sheet'), ('thees', 'these'), ('attic', 'tacit'), ('ramon', 'moran'), ('ramon', 'roman'), ('ramon', 'manor'), ('ramon', 'norma'), ('leafs', 'fleas'), ('leafs', 'false'), ('depot', 'opted'), ('story', 'troys'), ('story', 'tyros'), ('dazes', 'adzes'), ('craig', 'cigar'), ('crete', 'erect'), ('rides', 'dries'), ('rides', 'sired'), ('rides', 'redis'), ('poses', 'posse'), ('poses', 'pesos'), ('moral', 'molar'), ('spilt', 'split'), ('wylie', 'wiley'), ('naked', 'knead'), ('cants', 'scant'), ('slurp', 'purls'), ('paste', 'tapes'), ('paste', 'spate'), ('paste', 'pates'), ('silva', 'vials'), ('lamed', 'medal'), ('sexes', 'essex'), ('wires', 'weirs'), ('wires', 'wiser'), ('pecos', 'scope'), ('pecos', 'copse'), ('tuber', 'brute'), ('wired', 'weird'), ('wired', 'wider'), ('range', 'anger'), ('adobe', 'abode'), ('towel', 'owlet'), ('corps', 'crops'), (\"pie's\", \"pei's\"), ('teems', 'metes'), ('teems', 'meets'), ('quote', 'toque'), ('feast', 'feats'), ('feast', 'fates'), ('float', 'aloft'), ('stool', 'loots'), ('stool', 'tools'), ('dunes', 'nudes'), ('terse', 'reset'), ('terse', 'trees'), ('terse', 'ester'), ('terse', 'steer'), ('hares', 'shear'), ('hares', 'rheas'), ('hares', 'hears'), ('hares', 'share'), ('leary', 'layer'), ('leary', 'early'), ('leary', 'relay'), ('medea', 'edema'), ('medea', 'meade'), ('feuds', 'fused'), ('darin', 'nadir'), ('darin', 'drain'), ('darin', 'randi'), ('darin', 'indra'), ('swine', 'sinew'), ('swine', 'wines'), ('conan', 'canon'), ('start', 'tarts'), ('parsi', 'paris'), ('actor', 'croat'), ('deism', 'dimes'), ('shied', 'hides'), ('carol', 'coral'), ('carol', 'carlo'), ('dying', 'dingy'), ('sober', 'bores'), ('sober', 'boers'), ('tides', 'diets'), ('tides', 'sited'), ('tides', 'edits'), ('limes', 'selim'), ('limes', 'smile'), ('limes', 'slime'), ('limes', 'miles'), ('divan', 'dvina'), ('divan', 'viand'), ('deeps', 'speed'), ('grits', 'girts'), ('grits', 'grist'), ('sauce', 'cause'), ('rocha', 'roach'), ('cheap', 'peach'), ('shoot', 'sooth'), ('shoot', 'hoots'), ('casks', 'sacks'), ('coral', 'carlo'), ('amgen', 'mange'), ('amgen', 'megan'), ('credo', 'decor'), ('credo', 'cored'), ('fleas', 'false'), ('hones', 'shone'), ('tenon', 'tonne'), ('omits', 'moist'), ('sneak', 'snake'), (\"tab's\", \"bat's\"), (\"owl's\", \"low's\"), ('cohan', 'nacho'), ('spars', 'rasps'), ('clear', 'clare'), ('gamed', 'madge'), ('nails', 'snail'), ('edict', 'cited'), ('elsie', 'elise'), ('liver', 'viler'), ('enrol', 'loren'), ('terns', 'ernst'), ('terns', 'stern'), ('never', 'verne'), ('never', 'nerve'), ('pearl', 'paler'), ('morse', 'romes'), ('morse', 'mores'), ('stone', 'tones'), ('stone', 'onset'), (\"lin's\", \"nil's\"), ('marts', 'trams'), ('marts', 'smart'), ('throe', 'other'), ('lives', 'elvis'), ('lives', 'evils'), ('lives', 'veils'), ('baker', 'break'), ('baker', 'brake'), ('stars', 'tsars'), ('maori', 'mario'), ('heart', 'earth'), ('heart', 'harte'), ('heart', 'hater'), ('vidal', 'advil'), ('vidal', 'valid'), ('dares', 'reads'), ('dares', 'dears'), ('celia', 'alice'), ('trial', 'trail'), ('getup', 'puget'), ('scrip', 'crisp'), ('tunas', 'aunts'), ('kline', 'liken'), ('kline', 'klein'), ('carly', 'lycra'), ('borne', 'boner'), ('dirac', 'acrid'), ('green', 'genre'), ('betas', 'baste'), ('betas', 'beats'), ('betas', 'abets'), ('betas', 'beast'), ('betas', 'bates'), ('sodom', 'dooms'), ('sodom', 'moods'), ('viral', 'rival'), ('beads', 'based'), ('linen', 'lenin'), ('hoses', 'shoes'), ('wears', 'wares'), ('wears', 'swear'), ('sedge', 'edges'), ('kiwis', 'wikis'), ('abler', 'blare'), (\"rap's\", \"par's\"), (\"rap's\", \"apr's\"), (\"air's\", \"ira's\"), (\"ups's\", \"pus's\"), ('sires', 'rises'), ('stent', 'tents'), ('urban', 'unbar'), ('hours', 'horus'), ('leona', 'oneal'), ('leona', 'alone'), ('vapes', 'paves'), ('reich', 'cheri'), ('poohs', 'hoops'), ('dowry', 'wordy'), ('dowry', 'rowdy'), ('scowl', 'cowls'), ('oneal', 'alone'), ('debar', 'bread'), ('debar', 'beard'), ('debar', 'bared'), ('twits', 'twist'), (\"ape's\", \"pea's\"), ('mayor', 'moray'), ('amour', 'mauro'), ('sowed', 'dowse'), (\"bra's\", \"bar's\"), ('stain', 'antis'), ('stain', 'saint'), ('stain', 'satin'), ('psalm', 'palms'), ('psalm', 'lamps'), ('islam', 'mails'), ('napes', 'panes'), ('napes', 'aspen'), (\"nit's\", \"isn't\"), (\"nit's\", \"tin's\"), ('baled', 'blade'), ('stick', 'ticks'), ('pawns', 'spawn'), ('among', 'mango'), (\"raw's\", \"war's\"), ('scull', 'culls'), ('boney', 'ebony'), ('perot', 'trope'), ('spree', 'speer'), ('spree', 'peers'), ('gaped', 'paged'), (\"doe's\", \"ode's\"), ('sorta', 'astor'), ('sorta', 'sarto'), ('sorta', 'taros'), ('scion', 'icons'), ('scion', 'coins'), ('scion', 'sonic'), ('stamp', 'tamps'), (\"gnu's\", \"gun's\"), (\"ina's\", \"ian's\"), ('treed', 'deter'), ('roans', 'sonar'), ('roans', 'arson'), ('snoop', 'spoon'), ('halts', 'shalt'), ('halts', 'laths'), ('arneb', 'abner'), ('fined', 'fiend'), ('amply', 'palmy'), ('gofer', 'forge'), ('malls', 'small'), ('frail', 'flair'), ('chest', 'techs'), ('icons', 'coins'), ('icons', 'sonic'), ('weird', 'wider'), ('rusts', 'truss'), ('panel', 'penal'), ('panel', 'nepal'), ('narks', 'ranks'), ('elisa', 'elias'), ('elisa', 'aisle'), ('label', 'bella'), ('soles', 'sloes'), ('soles', 'loses'), ('tiles', 'stile'), ('tiles', 'islet'), ('nurse', 'runes'), ('teats', 'state'), ('teats', 'taste'), ('shelf', 'flesh'), ('nader', 'daren'), ('nader', 'andre'), ('nader', 'arden'), ('weeds', 'sewed'), (\"law's\", \"awl's\"), ('sloes', 'loses'), ('fauns', 'snafu'), ('jason', 'sonja'), ('jason', 'jonas'), ('serve', 'veers'), ('serve', 'verse'), ('ramos', 'roams'), ('spray', 'raspy'), (\"ann's\", \"nan's\"), ('harts', 'trash'), ('ernie', 'irene'), ('laser', 'reals'), ('laser', 'earls'), ('poxes', 'expos'), ('melva', 'velma'), ('cured', 'crude'), ('moran', 'roman'), ('moran', 'manor'), ('moran', 'norma'), ('reset', 'trees'), ('reset', 'ester'), ('reset', 'steer'), ('teaks', 'skate'), ('teaks', 'steak'), ('teaks', 'keats'), ('teaks', 'stake'), ('teaks', 'takes'), ('glean', 'angel'), ('glean', 'angle'), ('glean', 'galen'), ('sting', 'tings'), ('wakes', 'askew'), ('riled', 'idler'), ('intel', 'inlet'), ('pains', 'spain'), ('tears', 'tares'), ('tears', 'stare'), ('tears', 'rates'), ('tears', 'aster'), ('lydia', 'daily'), ('shawl', 'walsh'), ('ryder', 'dryer'), ('aside', 'aides'), ('aside', 'ideas'), ('aside', 'sadie'), (\"den's\", \"ned's\"), (\"den's\", \"end's\"), ('laxer', 'relax'), ('posed', 'dopes'), ('metes', 'meets'), ('verne', 'nerve'), ('dales', 'deals'), ('index', 'nixed'), ('alien', 'aline'), ('cones', 'scone'), ('inset', 'tines'), ('inset', 'nites'), ('inset', 'stine'), ('nadir', 'drain'), ('nadir', 'randi'), ('nadir', 'indra'), ('north', 'thorn'), ('shout', 'south'), ('shout', 'thous'), ('human', 'nahum'), ('reams', 'mares'), ('shire', 'hires'), ('shire', 'heirs'), ('felts', 'lefts'), ('means', 'mensa'), ('means', 'manse'), ('means', 'manes'), ('means', 'names'), ('along', 'golan'), ('along', 'anglo'), ('along', 'logan'), ('venal', 'navel'), ('mejia', 'jaime'), ('mejia', 'jamie'), ('grate', 'great'), ('voles', 'solve'), ('voles', 'loves'), ('nodes', 'nosed'), ('sport', 'strop'), ('sport', 'ports'), ('rhoda', 'hoard'), ('heros', 'shore'), ('mires', 'rimes'), ('mires', 'emirs'), ('mires', 'miser'), ('daley', 'delay'), ('curst', 'crust'), ('romps', 'proms'), (\"one's\", \"neo's\"), (\"one's\", \"eon's\"), (\"one's\", \"noe's\"), ('slide', 'sidle'), ('slide', 'idles'), ('shape', 'phase'), (\"elm's\", \"mel's\"), ('shark', 'harks'), ('piton', 'point'), ('piton', 'pinto'), ('reaps', 'parse'), ('reaps', 'spare'), ('reaps', 'pares'), ('loges', 'ogles'), ('ruled', 'lured'), ('fondu', 'found'), ('peals', 'lapse'), ('peals', 'pleas'), ('peals', 'pales'), ('peals', 'leaps'), ('peals', 'sepal'), ('links', 'slink'), ('links', 'kilns'), ('tared', 'rated'), ('tared', 'tread'), ('tared', 'trade'), ('yates', 'yeast'), ('yates', 'yeats'), ('somme', 'memos'), ('swarm', 'warms'), (\"arm's\", \"ram's\"), (\"arm's\", \"mar's\"), ('bluer', 'ruble'), ('darby', 'brady'), (\"tap's\", \"pat's\"), ('basal', 'balsa'), ('milfs', 'films'), ('hardy', 'hydra'), ('harps', 'sharp'), ('renew', 'newer'), (\"sag's\", \"gas's\"), (\"rob's\", \"orb's\"), ('elgar', 'large'), ('elgar', 'regal'), ('elgar', 'glare'), ('elgar', 'alger'), (\"tun's\", \"nut's\"), ('dooms', 'moods'), ('pique', 'equip'), ('liken', 'klein'), ('creep', 'crepe'), ('issue', 'susie'), ('semen', 'menes'), ('wilde', 'wiled'), ('wilde', 'wield'), ('dirge', 'ridge'), ('warts', 'straw'), ('bosun', 'bonus'), ('minks', 'minsk'), ('valor', 'orval'), ('crave', 'carve'), ('satyr', 'trays'), ('satyr', 'stray'), ('frost', 'forts'), ('later', 'alter'), ('diary', 'dairy'), ('marcy', 'camry'), ('tangs', 'gnats'), ('tangs', 'angst'), ('shalt', 'laths'), ('cadre', 'arced'), ('cadre', 'cedar'), ('cadre', 'raced'), ('cadre', 'cared'), (\"lee's\", \"eel's\"), (\"mit's\", \"tim's\"), ('scold', 'colds'), ('scold', 'clods'), ('hinge', 'neigh'), (\"ink's\", \"kin's\"), (\"neo's\", \"eon's\"), (\"neo's\", \"noe's\"), ('spoke', 'pokes'), ('opens', 'epson'), ('opens', 'pones'), (\"nod's\", \"don's\"), ('nosey', 'noyes'), ('libra', 'blair'), ('peron', 'prone'), ('route', 'outer'), (\"lao's\", \"aol's\"), (\"lao's\", \"ola's\"), (\"par's\", \"apr's\"), (\"tip's\", \"pit's\"), ('lubes', 'blues'), ('lamar', 'alarm'), ('lamar', 'marla'), ('ameba', 'abeam'), ('sawed', 'dawes'), ('sawed', 'wades'), ('halls', 'shall'), ('romeo', 'moore'), ('large', 'regal'), ('large', 'glare'), ('large', 'alger'), ('pocks', 'spock'), ('carps', 'scrap'), ('carps', 'craps'), ('reals', 'earls'), ('wales', 'weals'), ('mated', 'tamed'), ('clara', 'carla'), ('laity', 'italy'), (\"sue's\", \"use's\"), ('break', 'brake'), ('roods', 'doors'), ('roods', 'odors'), (\"moe's\", \"emo's\"), ('vedas', 'saved'), ('blest', 'belts'), ('flare', 'feral'), ('alsop', 'opals'), ('rices', 'cries'), ('nacre', 'crane'), ('regal', 'glare'), ('regal', 'alger'), ('under', 'nuder'), (\"tor's\", \"rot's\"), ('dawns', 'wands'), ('dimer', 'mired'), ('ernst', 'stern'), ('brads', 'drabs'), ('brads', 'bards'), ('spike', 'pikes'), ('peeks', 'keeps'), ('royce', 'corey'), ('royce', 'coyer'), ('sheik', 'hikes'), ('seoul', 'louse'), ('solon', 'olson'), ('troys', 'tyros'), ('below', 'bowel'), ('below', 'elbow'), ('tutsi', 'titus'), ('patel', 'leapt'), ('patel', 'petal'), ('patel', 'plate'), ('letha', 'lathe'), ('ought', 'tough'), ('slink', 'kilns'), ('draws', 'wards'), ('oared', 'adore'), ('sheet', 'these'), ('bowls', 'blows'), ('berle', 'rebel'), ('pedal', 'paled'), ('pedal', 'plead'), (\"dam's\", \"amd's\"), (\"dam's\", \"mad's\"), ('carpi', 'capri'), ('saver', 'avers'), ('ayers', 'years'), ('noted', 'toned'), ('lifer', 'flier'), ('lifer', 'rifle'), ('loans', 'salon'), ('loans', 'sloan'), ('rages', 'sager'), ('rages', 'gears'), ('gutsy', 'gusty'), ('lapse', 'pleas'), ('lapse', 'pales'), ('lapse', 'leaps'), ('lapse', 'sepal'), (\"act's\", \"cat's\"), ('rhode', 'herod'), ('tales', 'least'), ('tales', 'tesla'), ('tales', 'stale'), ('tales', 'slate'), ('tales', 'teals'), ('rated', 'tread'), ('rated', 'trade'), ('leapt', 'petal'), ('leapt', 'plate'), ('soils', 'solis'), ('soils', 'silos'), ('salas', 'salsa'), ('pries', 'piers'), ('pries', 'spire'), ('terry', 'retry'), ('drops', 'prods'), ('skate', 'steak'), ('skate', 'keats'), ('skate', 'stake'), ('skate', 'takes'), ('pager', 'grape'), ('dyson', 'synod'), ('spout', 'pouts'), ('reign', 'niger'), ('sonar', 'arson'), ('sales', 'seals'), ('alvin', 'anvil'), ('evict', 'civet'), ('leaks', 'lakes'), (\"man's\", \"nam's\"), ('blake', 'bleak'), ('shaft', 'hafts'), ('trams', 'smart'), ('tansy', 'nasty'), ('table', 'bleat'), ('heals', 'leash'), ('heals', 'hales'), ('nigga', 'aging'), ('tread', 'trade'), ('cable', 'caleb'), (\"ora's\", \"oar's\"), ('truce', 'cuter'), ('point', 'pinto'), ('lance', 'clean'), ('paula', 'palau'), ('fiber', 'brief'), ('goner', 'goren'), ('goner', 'negro'), ('flows', 'wolfs'), ('flows', 'fowls'), ('reads', 'dears'), ('hurts', 'hurst'), ('fryer', 'ferry'), ('budge', 'debug'), ('sprig', 'prigs'), ('sprig', 'grips'), ('adler', 'alder'), ('codes', 'coeds'), ('cried', 'riced'), ('cried', 'cider'), ('heron', 'horne'), ('hanks', 'ankhs'), ('hanks', 'shank'), ('hanks', 'khans'), ('plies', 'piles'), ('plies', 'spiel'), ('quoit', 'quito'), (\"isn't\", \"tin's\"), ('torts', 'trots'), ('lambs', 'balms'), (\"cod's\", \"doc's\"), ('tares', 'stare'), ('tares', 'rates'), ('tares', 'aster'), ('diego', 'dogie'), ('redid', 'dried'), ('input', 'putin'), ('ronda', 'norad'), ('ronda', 'adorn'), ('ronda', 'drano'), ('ronda', 'radon'), ('forth', 'froth'), ('haber', 'brahe'), ('haber', 'rehab'), ('posts', 'spots'), ('posts', 'stops'), ('raped', 'drape'), ('raped', 'padre'), ('loped', 'poled'), ('adder', 'dread'), ('least', 'tesla'), ('least', 'stale'), ('least', 'slate'), ('least', 'teals'), ('scorn', 'corns'), ('lures', 'rules'), (\"tao's\", \"oat's\"), ('angel', 'angle'), ('angel', 'galen'), ('prose', 'ropes'), ('prose', 'spore'), ('prose', 'poser'), ('prose', 'pores'), ('yeast', 'yeats'), ('dobro', 'brood'), ('torte', 'otter'), ('nobel', 'noble'), ('swaps', 'wasps'), ('angle', 'galen'), ('vesta', 'stave'), ('fears', 'fares'), ('fears', 'safer'), ('serge', 'segre'), ('irons', 'rosin'), ('wined', 'wendi'), ('wined', 'edwin'), ('wined', 'widen'), ('hakes', 'shake'), ('sluts', 'lusts'), ('mensa', 'manse'), ('mensa', 'manes'), ('mensa', 'names'), ('holes', 'sheol'), ('elvis', 'evils'), ('elvis', 'veils'), ('liras', 'lairs'), ('liras', 'liars'), ('liras', 'rails'), ('rings', 'grins'), ('ginsu', 'suing'), ('ginsu', 'using'), ('flies', 'files'), ('timer', 'merit'), ('timer', 'miter'), ('timer', 'remit'), ('lairs', 'liars'), ('lairs', 'rails'), ('gaunt', 'gatun'), ('shots', 'hosts'), ('stare', 'rates'), ('stare', 'aster'), ('oaten', 'atone'), ('oaten', 'eaton'), ('emacs', 'acmes'), ('super', 'purse'), ('aides', 'ideas'), ('aides', 'sadie'), ('alias', 'alisa'), ('aspic', 'spica'), ('foals', 'loafs'), ('drabs', 'bards'), ('modes', 'demos'), ('slack', 'calks'), ('slack', 'lacks'), (\"aim's\", \"mia's\"), (\"aim's\", \"mai's\"), ('roles', 'loser'), ('plays', 'palsy'), ('selim', 'smile'), ('selim', 'slime'), ('selim', 'miles'), ('rumba', 'burma'), ('basel', 'bales'), ('doors', 'odors'), ('lived', 'devil'), ('lower', 'rowel'), ('sweep', 'weeps'), ('ochre', 'chore'), ('ochre', 'ocher'), ('ochre', 'roche'), ('hates', 'heats'), ('hates', 'haste'), ('reefs', 'frees'), (\"map's\", \"amp's\"), (\"map's\", \"pam's\"), ('oldie', 'oiled'), ('items', 'smite'), ('items', 'emits'), ('items', 'mites'), ('quads', 'squad'), ('seats', 'tessa'), ('seats', 'sates'), ('seats', 'easts'), ('seats', 'asset'), ('evils', 'veils'), ('spots', 'stops'), ('helps', 'shlep'), (\"ant's\", \"nat's\"), (\"ant's\", \"tan's\"), ('attar', 'tatar'), ('weest', 'sweet'), ('coins', 'sonic'), ('scrap', 'craps'), ('media', 'aimed'), ('rests', 'tress'), ('motes', 'tomes'), ('veers', 'verse'), ('roman', 'manor'), ('roman', 'norma'), ('incas', 'cains'), ('tunes', 'unset'), ('graze', 'gazer'), ('chore', 'ocher'), ('chore', 'roche'), (\"eon's\", \"noe's\"), ('recur', 'curer'), ('prigs', 'grips'), ('patch', 'chapt'), ('tours', 'torus'), ('riced', 'cider'), ('deify', 'edify'), ('liven', 'elvin'), ('rouge', 'rogue'), ('smelt', 'melts'), ('heady', 'hayed'), (\"eli's\", \"lie's\"), ('verna', 'raven'), ('dusty', 'study'), (\"ned's\", \"end's\"), ('reels', 'leers'), ('morns', 'norms'), ('sinew', 'wines'), ('dries', 'sired'), ('dries', 'redis'), ('rubes', 'rebus'), ('shill', 'hills'), ('stead', 'sated'), ('stead', 'dates'), ('tanks', 'stank'), ('swath', 'whats'), ('swath', 'thaws'), ('chief', 'fiche'), ('crate', 'trace'), ('crate', 'react'), ('crate', 'cater'), ('crate', 'caret'), ('holst', 'sloth'), (\"bud's\", \"dub's\"), ('bagel', 'gable'), ('rimes', 'emirs'), ('rimes', 'miser'), ('jaime', 'jamie'), ('salon', 'sloan'), ('munro', 'mourn'), ('rhine', 'henri'), ('finer', 'infer'), ('ideal', 'delia'), ('ideal', 'ailed'), ('grade', 'raged'), ('wares', 'swear'), ('preys', 'pyres'), ('preys', 'ypres'), ('drive', 'verdi'), ('drive', 'diver'), ('sherd', 'shred'), ('stony', 'tyson'), ('still', 'tills'), ('still', 'lilts'), ('edema', 'meade'), ('amirs', 'maris'), ('peels', 'sleep'), ('merit', 'miter'), ('merit', 'remit'), ('trees', 'ester'), ('trees', 'steer'), ('drays', 'yards'), ('saves', 'vases'), ('rates', 'aster'), ('baste', 'beats'), ('baste', 'abets'), ('baste', 'beast'), ('baste', 'bates'), ('anita', 'tania'), ('steak', 'keats'), ('steak', 'stake'), ('steak', 'takes'), ('tenor', 'toner'), ('fares', 'safer'), ('shell', 'hells'), ('kasai', 'sakai'), ('keels', 'leeks'), ('keels', 'sleek'), ('wroth', 'throw'), ('wroth', 'worth'), ('cuffs', 'scuff'), ('luria', 'lauri'), ('sisal', 'silas'), ('shoed', 'hosed'), ('enoch', 'cohen'), ('altho', 'loath'), ('elias', 'aisle'), (\"spa's\", \"asp's\"), (\"spa's\", \"sap's\"), ('meals', 'males'), ('meals', 'selma'), ('meals', 'lames'), ('meals', 'salem'), ('vanes', 'naves'), ('vanes', 'evans'), ('snead', 'sedna'), ('snead', 'deans'), ('snead', 'andes'), ('snead', 'sedan'), ('snead', 'danes'), ('bowel', 'elbow'), (\"lag's\", \"gal's\"), ('romes', 'mores'), ('spice', 'epics'), ('talon', 'tonal'), ('talon', 'alton'), ('girds', 'grids'), ('fuels', 'flues'), ('lelia', 'allie'), ('pleas', 'pales'), ('pleas', 'leaps'), ('pleas', 'sepal'), ('blame', 'amble'), ('blame', 'melba'), ('blame', 'mabel'), ('blame', 'mable'), ('brags', 'garbs'), ('brags', 'grabs'), ('delia', 'ailed'), ('tiros', 'trios'), ('tiros', 'riots'), ('tiros', 'torsi'), ('tubas', 'tabus'), ('rouse', 'euros'), (\"mir's\", \"rim's\"), ('stile', 'islet'), ('shear', 'rheas'), ('shear', 'hears'), ('shear', 'share'), ('fried', 'fired'), (\"ing's\", \"gin's\"), ('writs', 'wrist'), (\"lab's\", \"alb's\"), ('leper', 'repel'), ('paths', 'staph'), ('scope', 'copse'), ('skill', 'kills'), ('solis', 'silos'), ('words', 'sword'), ('atone', 'eaton'), ('beats', 'abets'), ('beats', 'beast'), ('beats', 'bates'), ('stoke', 'tokes'), ('pales', 'leaps'), ('pales', 'sepal'), ('urine', 'inure'), ('poesy', 'sepoy'), ('corey', 'coyer'), ('tapes', 'spate'), ('tapes', 'pates'), ('heats', 'haste'), (\"wee's\", \"ewe's\"), ('shula', 'hulas'), ('shula', 'hauls'), ('debit', 'bidet'), ('waits', 'waist'), ('strut', 'trust'), ('maura', 'amaru'), ('epson', 'pones'), ('smuts', 'musts'), ('seven', 'evens'), (\"gob's\", \"bog's\"), ('arced', 'cedar'), ('arced', 'raced'), ('arced', 'cared'), ('palms', 'lamps'), ('tesla', 'stale'), ('tesla', 'slate'), ('tesla', 'teals'), ('ruses', 'users'), ('decor', 'cored'), ('monet', 'monte'), ('sonja', 'jonas'), ('males', 'selma'), ('males', 'lames'), ('males', 'salem'), ('petal', 'plate'), ('snare', 'saner'), ('snare', 'earns'), ('snare', 'nears'), ('wolfs', 'fowls'), ('solve', 'loves'), ('bores', 'boers'), (\"iso's\", \"ios's\"), ('golan', 'anglo'), ('golan', 'logan'), ('wendi', 'edwin'), ('wendi', 'widen'), ('smile', 'slime'), ('smile', 'miles'), ('ikons', 'oinks'), (\"urn's\", \"run's\"), ('scent', 'cents'), ('admen', 'named'), ('admen', 'medan'), ('wrote', 'tower'), ('yemen', 'enemy'), ('caned', 'dance'), ('snide', 'dines'), ('stove', 'votes'), ('booms', 'bosom'), ('keats', 'stake'), ('keats', 'takes'), ('state', 'taste'), ('robed', 'bored'), (\"dot's\", \"tod's\"), ('ovals', 'salvo'), ('ewers', 'sewer'), ('wordy', 'rowdy'), ('calks', 'lacks'), ('sifts', 'fists'), ('poems', 'epsom'), ('poems', 'mopes'), ('pasts', 'spats'), ('liens', 'lines'), ('taper', 'petra'), ('taper', 'apter'), ('taper', 'prate'), ('moans', 'mason'), ('moans', 'osman'), (\"rae's\", \"are's\"), (\"rae's\", \"era's\"), (\"rae's\", \"ear's\"), ('freer', 'refer'), ('brusk', 'burks'), ('bread', 'beard'), ('bread', 'bared'), ('amble', 'melba'), ('amble', 'mabel'), ('amble', 'mable'), ('leeks', 'sleek'), ('tessa', 'sates'), ('tessa', 'easts'), ('tessa', 'asset'), ('cedar', 'raced'), ('cedar', 'cared'), ('anzac', 'nazca'), (\"car's\", \"rca's\"), (\"car's\", \"arc's\"), ('runts', 'turns'), ('hbase', 'sheba'), ('norse', 'snore'), ('mocha', 'macho'), ('thais', 'tisha'), ('petra', 'apter'), ('petra', 'prate'), ('snipe', 'pines'), ('snipe', 'spine'), ('snipe', 'penis'), ('limbo', 'mobil'), ('zoned', 'dozen'), ('slime', 'miles'), (\"asp's\", \"sap's\"), ('posse', 'pesos'), ('beets', 'beset'), ('ulcer', 'cruel'), ('lopes', 'slope'), ('lopes', 'poles'), ('atoms', 'tomas'), ('garbs', 'grabs'), ('beard', 'bared'), ('dawes', 'wades'), ('trace', 'react'), ('trace', 'cater'), ('trace', 'caret'), ('laded', 'addle'), ('right', 'girth'), ('tiara', 'atari'), ('tiara', 'atria'), ('goren', 'negro'), (\"tow's\", \"two's\"), ('pines', 'spine'), ('pines', 'penis'), ('agism', 'sigma'), ('gelid', 'glide'), ('bruin', 'rubin'), (\"pot's\", \"top's\"), ('scars', 'crass'), ('layer', 'early'), ('layer', 'relay'), ('slump', 'lumps'), ('slump', 'plums'), ('smite', 'emits'), ('smite', 'mites'), ('tones', 'onset'), ('dolly', 'lloyd'), ('casts', 'scats'), ('titan', 'taint'), ('inter', 'inert'), ('knees', 'keens'), ('rilke', 'liker'), ('tonal', 'alton'), ('tango', 'tonga'), ('tends', 'dents'), ('fires', 'fries'), (\"ali's\", \"ila's\"), ('shams', 'smash'), ('piled', 'plied'), ('laura', 'aural'), ('reins', 'rinse'), ('reins', 'risen'), ('reins', 'siren'), ('reins', 'resin'), ('ashed', 'shade'), ('ashed', 'heads'), ('ashed', 'hades'), ('hooks', 'shook'), ('virgo', 'vigor'), ('layla', 'allay'), ('idyll', 'dilly'), ('screw', 'crews'), ('melon', 'lemon'), ('cords', 'scrod'), ('shorn', 'horns'), ('louts', 'lotus'), ('pyres', 'ypres'), ('defer', 'freed'), ('typos', 'topsy'), ('naiad', 'nadia'), ('naiad', 'diana'), ('emirs', 'miser'), ('leroy', 'elroy'), ('mates', 'teams'), ('mates', 'meats'), ('mates', 'tames'), ('pests', 'steps'), ('alarm', 'marla'), ('drain', 'randi'), ('drain', 'indra'), ('meant', 'manet'), ('sager', 'gears'), ('lumps', 'plums'), ('atari', 'atria'), ('strop', 'ports'), ('lorre', 'errol'), ('punks', 'spunk'), ('throw', 'worth'), ('ocher', 'roche'), ('mined', 'denim'), ('rites', 'tries'), ('rites', 'tiers'), ('solid', 'idols'), (\"roe's\", \"ore's\"), ('tines', 'nites'), ('tines', 'stine'), ('sedna', 'deans'), ('sedna', 'andes'), ('sedna', 'sedan'), ('sedna', 'danes'), ('sabin', 'basin'), ('tunis', 'units'), ('regor', 'reorg'), ('regor', 'roger'), ('earth', 'harte'), ('earth', 'hater'), ('wheal', 'whale'), ('pools', 'spool'), ('pools', 'loops'), ('norad', 'adorn'), ('norad', 'drano'), ('norad', 'radon'), ('ogled', 'lodge'), (\"tub's\", \"btu's\"), ('selma', 'lames'), ('selma', 'salem'), ('react', 'cater'), ('react', 'caret'), ('tokyo', 'kyoto'), (\"bun's\", \"nub's\"), (\"are's\", \"era's\"), (\"are's\", \"ear's\"), ('elmer', 'merle'), ('annul', 'luann'), ('paled', 'plead'), ('quids', 'squid'), ('marge', 'gamer'), ('drape', 'padre'), ('gates', 'stage'), ('sitar', 'stair'), ('sitar', 'astir'), ('echos', 'chose'), ('named', 'medan'), ('raked', 'drake'), ('macro', 'carom'), ('abets', 'beast'), ('abets', 'bates'), ('edsel', 'leeds'), ('trios', 'riots'), ('trios', 'torsi'), ('anime', 'maine'), ('pesky', 'skype'), (\"yak's\", \"kay's\"), ('randi', 'indra'), ('ogres', 'gores'), ('mines', 'miens'), ('atoll', 'allot'), ('wiled', 'wield'), ('hires', 'heirs'), ('hulas', 'hauls'), ('mange', 'megan'), ('caped', 'paced'), ('dealt', 'delta'), ('calms', 'clams'), ('tosca', 'ascot'), ('tosca', 'coast'), ('leaps', 'sepal'), ('speer', 'peers'), ('ascot', 'coast'), ('lyman', 'manly'), ('emits', 'mites'), ('brahe', 'rehab'), ('stubs', 'busts'), ('sakha', 'shaka'), ('feats', 'fates'), ('trips', 'strip'), ('minor', 'morin'), ('tubed', 'debut'), ('brush', 'shrub'), ('bulge', 'bugle'), (\"amy's\", \"yam's\"), (\"amy's\", \"may's\"), ('sabre', 'bears'), ('sabre', 'baser'), ('sabre', 'saber'), ('sabre', 'bares'), ('slags', 'glass'), ('frier', 'rifer'), ('whats', 'thaws'), ('penal', 'nepal'), ('decaf', 'faced'), ('clasp', 'claps'), ('clasp', 'scalp'), ('alums', 'mauls'), ('grubs', 'burgs'), ('saner', 'earns'), ('saner', 'nears'), ('parse', 'spare'), ('parse', 'pares'), (\"yap's\", \"pay's\"), ('naves', 'evans'), ('skids', 'disks'), ('teams', 'meats'), ('teams', 'tames'), ('reyna', 'yearn'), ('goats', 'togas'), (\"bad's\", \"dab's\"), ('anglo', 'logan'), ('weirs', 'wiser'), ('verdi', 'diver'), ('clots', 'colts'), ('divas', 'davis'), ('trays', 'stray'), ('pipes', 'pepsi'), ('argus', 'sugar'), ('sired', 'redis'), ('hangs', 'gnash'), ('broth', 'throb'), ('slips', 'lisps'), ('flied', 'field'), ('flied', 'filed'), ('cloud', 'could'), ('mesas', 'sames'), ('overs', 'roves'), ('overs', 'servo'), ('maker', 'merak'), ('yacht', 'cathy'), (\"mia's\", \"mai's\"), ('stair', 'astir'), ('tries', 'tiers'), ('south', 'thous'), ('torso', 'roost'), ('torso', 'roots'), ('rocks', 'corks'), (\"ubs's\", \"sub's\"), ('manor', 'norma'), ('speck', 'pecks'), ('slope', 'poles'), ('maids', 'midas'), (\"nap's\", \"pan's\"), ('antis', 'saint'), ('antis', 'satin'), ('orate', 'erato'), ('roost', 'roots'), ('piers', 'spire'), ('pored', 'roped'), ('pored', 'pedro'), ('ethan', 'neath'), (\"aol's\", \"ola's\"), ('stale', 'slate'), ('stale', 'teals'), ('saint', 'satin'), ('spool', 'loops'), ('micra', 'marci'), ('nelda', 'alden'), ('space', 'paces'), ('space', 'capes'), ('acton', 'canto'), ('manse', 'manes'), ('manse', 'names'), ('cadet', 'acted'), ('stout', 'touts'), ('ethos', 'those'), ('gnats', 'angst'), ('banes', 'beans'), (\"art's\", \"tar's\"), (\"art's\", \"rat's\"), ('havel', 'halve'), ('raced', 'cared'), ('satan', 'santa'), (\"ram's\", \"mar's\"), ('lanes', 'leans'), ('sleet', 'steel'), ('naive', 'evian'), ('naive', 'nivea'), ('whist', 'whits'), ('dusts', 'studs'), ('tired', 'tried'), ('lacey', 'alyce'), ('bears', 'baser'), ('bears', 'saber'), ('bears', 'bares'), ('girts', 'grist'), ('ghost', 'goths'), (\"yam's\", \"may's\"), ('slept', 'spelt'), ('slept', 'pelts'), ('deans', 'andes'), ('deans', 'sedan'), ('deans', 'danes'), ('ocean', 'canoe'), ('slyer', 'lyres'), ('score', 'cores'), ('liars', 'rails'), ('melba', 'mabel'), ('melba', 'mable'), ('spelt', 'pelts'), ('nimbi', 'mbini'), ('speak', 'spake'), ('speak', 'peaks'), ('rheas', 'hears'), ('rheas', 'share'), ('raise', 'aires'), ('advil', 'valid'), (\"era's\", \"ear's\"), ('snips', 'spins'), ('feels', 'flees'), ('ropes', 'spore'), ('ropes', 'poser'), ('ropes', 'pores'), ('ester', 'steer'), ('shade', 'heads'), ('shade', 'hades'), ('akron', 'koran'), ('beast', 'bates'), ('spore', 'poser'), ('spore', 'pores'), ('suing', 'using'), ('daren', 'andre'), ('daren', 'arden'), ('being', 'begin'), ('being', 'binge'), (\"amd's\", \"mad's\"), (\"amp's\", \"pam's\"), ('harte', 'hater'), ('march', 'charm'), ('wives', 'views'), ('evian', 'nivea'), ('realm', 'lamer'), ('cares', 'cesar'), ('cares', 'acres'), ('cares', 'scare'), ('eager', 'agree'), ('adorn', 'drano'), ('adorn', 'radon'), ('cesar', 'acres'), ('cesar', 'scare'), ('lynne', 'lenny'), ('scale', 'laces'), ('dario', 'radio'), ('rabid', 'baird'), ('rabid', 'braid'), ('hears', 'share'), ('stake', 'takes'), ('veins', 'vines'), ('veins', 'nevis'), ('nites', 'stine'), ('login', 'lingo'), ('reorg', 'roger'), ('drove', 'roved'), ('drove', 'dover'), ('recap', 'caper'), ('recap', 'crape'), ('baser', 'saber'), ('baser', 'bares'), ('loots', 'tools'), ('tiber', 'tribe'), ('poser', 'pores'), ('vines', 'nevis'), (\"gab's\", \"bag's\"), ('olsen', 'noels'), ('smock', 'mocks'), ('hacks', 'shack'), ('dvina', 'viand'), ('acres', 'scare'), ('dowel', 'lowed'), ('sooth', 'hoots'), ('vader', 'raved'), ('setup', 'upset'), ('field', 'filed'), ('paces', 'capes'), ('wrong', 'grown'), ('sidle', 'idles'), ('strap', 'sprat'), ('strap', 'tarps'), ('strap', 'parts'), ('spare', 'pares'), ('epsom', 'mopes'), ('shock', 'hocks'), ('groin', 'ringo'), ('churl', 'lurch'), ('pride', 'pried'), ('spake', 'peaks'), ('manes', 'names'), ('serum', 'remus'), ('ether', 'three'), (\"rca's\", \"arc's\"), ('dense', 'edens'), (\"nat's\", \"tan's\"), ('wrest', 'strew'), ('helot', 'hotel'), ('begin', 'binge'), ('leash', 'hales'), ('curse', 'sucre'), ('curse', 'cures'), ('earns', 'nears'), ('riots', 'torsi'), (\"tar's\", \"rat's\"), ('diets', 'sited'), ('diets', 'edits'), ('halos', 'shoal'), ('astor', 'sarto'), ('astor', 'taros'), ('goals', 'lagos'), ('betsy', 'bytes'), ('claps', 'scalp'), ('easel', 'lease'), ('slats', 'salts'), ('swell', 'wells'), ('fared', 'freda'), ('shunt', 'hunts'), ('marat', 'marta'), ('crabs', 'carbs'), ('slave', 'salve'), ('swore', 'worse'), ('swore', 'sower'), ('dante', 'anted'), ('soled', 'lodes'), ('colds', 'clods'), ('roved', 'dover'), ('meats', 'tames'), ('glare', 'alger'), ('spate', 'pates'), ('ideas', 'sadie'), ('gulps', 'plugs'), ('spine', 'penis'), ('worse', 'sower'), ('rosie', 'osier'), ('rears', 'serra'), ('roped', 'pedro'), ('organ', 'argon'), ('organ', 'groan'), ('sprat', 'tarps'), ('sprat', 'parts'), ('sated', 'dates'), ('andes', 'sedan'), ('andes', 'danes'), ('iliad', 'lidia'), (\"bur's\", \"rub's\"), ('beady', 'bayed'), ('early', 'relay'), ('sited', 'edits'), ('apter', 'prate'), ('rinse', 'risen'), ('rinse', 'siren'), ('rinse', 'resin'), ('mabel', 'mable'), ('sucre', 'cures'), ('sates', 'easts'), ('sates', 'asset'), ('haves', 'shave'), ('easts', 'asset'), ('drano', 'radon'), ('risen', 'siren'), ('risen', 'resin'), ('genoa', 'onega'), ('claus', 'lucas'), ('tilde', 'tiled'), ('andre', 'arden'), ('shane', 'ashen'), ('sedan', 'danes'), ('heads', 'hades'), ('usurp', 'purus'), (\"mat's\", \"tam's\"), ('slate', 'teals'), ('armed', 'dream'), ('tarps', 'parts'), (\"pal's\", \"lap's\"), ('tills', 'lilts'), ('drier', 'rider'), ('saber', 'bares'), ('sarto', 'taros'), ('tikes', 'kites'), ('edwin', 'widen'), ('roves', 'servo'), ('seder', 'reeds'), ('piles', 'spiel'), ('flier', 'rifle'), ('duels', 'slued'), ('byron', 'robyn'), ('ankhs', 'shank'), ('ankhs', 'khans'), ('loire', 'lorie'), ('caper', 'crape'), ('frats', 'farts'), ('slits', 'silts'), ('beaus', 'abuse'), ('baird', 'braid'), ('lethe', 'ethel'), ('shank', 'khans'), ('miter', 'remit'), ('weiss', 'wises'), ('lyric', 'cyril'), ('argon', 'groan'), ('exalt', 'latex'), ('toast', 'stoat'), ('panes', 'aspen'), ('mason', 'osman'), ('lames', 'salem'), ('siren', 'resin'), ('cater', 'caret'), (\"nsa's\", \"san's\"), ('nadia', 'diana'), ('prius', 'sirup'), ('trina', 'train'), ('nomad', 'damon'), ('stack', 'tacks'), (\"way's\", \"yaw's\"), (\"gut's\", \"tug's\")]\n"
     ]
    }
   ],
   "source": [
    "#pairs = all_anagram_pairs(word_list)\n",
    "#print(pairs)\n",
    "\n",
    "#runs for more than 45 minutes\n",
    "\n",
    "#reduced the word list - only words with 5 letters\n",
    "word_list_5 = [word for word in word_list if len(word) == 5]\n",
    "len(word_list_5)\n",
    "\n",
    "pairs = all_anagram_pairs(word_list_5)\n",
    "print(pairs)\n",
    "\n",
    "#runtime is 18.7s"
   ]
  },
  {
   "cell_type": "markdown",
   "metadata": {},
   "source": [
    "**Exercise 5:** While that's running, let's estimate how long it's going to take."
   ]
  },
  {
   "cell_type": "markdown",
   "metadata": {},
   "source": []
  },
  {
   "cell_type": "code",
   "execution_count": 25,
   "metadata": {},
   "outputs": [],
   "source": [
    "#rewrite the function to return a dictionary with the keys as the sorted words and the values as the list of words that\n",
    "# are anagrams of the key\n",
    "\n",
    "# \"\".join to concatenate list ['a', 'b', 'c', 'd', 'e', 'f'] into a string 'abcdef'\n",
    "#word_dict.setdefault(key, []) creates a new key with an empty list as the value\n",
    "#word_dict.setdefault(key, []).append(word) appends the word to the list\n",
    "\n",
    "def all_anagram_lists(word_list):\n",
    "    word_dict = {}\n",
    "    for word in word_list:\n",
    "        key = ''.join(sorted(word))\n",
    "        word_dict.setdefault(key, []).append(word)\n",
    "    return word_dict\n",
    "\n"
   ]
  },
  {
   "cell_type": "code",
   "execution_count": 26,
   "metadata": {},
   "outputs": [
    {
     "name": "stdout",
     "output_type": "stream",
     "text": [
      "delos ['doles', 'soled', 'lodes']\n",
      "eenss ['sense', 'essen']\n",
      "aehps ['heaps', 'shape', 'phase']\n",
      "aensw ['wanes', 'weans']\n",
      "imnos ['minos', 'simon']\n",
      "eersv ['sever', 'serve', 'veers', 'verse']\n",
      "eehrt ['there', 'ether', 'three']\n",
      "aegss ['sages', 'gases']\n",
      "deers ['deers', 'seder', 'reeds']\n",
      "acehs ['aches', 'chase']\n"
     ]
    }
   ],
   "source": [
    "dict = all_anagram_lists(word_list_5)\n",
    "#print(dict)\n",
    "\n",
    "len(dict)\n",
    "# 5173\n",
    "\n",
    "#remove the keys with only one value\n",
    "for key in list(dict.keys()):\n",
    "    if len(dict[key]) == 1:\n",
    "        del dict[key]\n",
    "\n",
    "len(dict)\n",
    "#1000\n",
    "\n",
    "#print(dict)\n",
    "\n",
    "#print first 10 keys and values\n",
    "for key in list(dict)[:10]:\n",
    "    print(key, dict[key])\n"
   ]
  },
  {
   "cell_type": "code",
   "execution_count": null,
   "metadata": {},
   "outputs": [],
   "source": [
    "\n"
   ]
  },
  {
   "cell_type": "code",
   "execution_count": 27,
   "metadata": {},
   "outputs": [
    {
     "name": "stdout",
     "output_type": "stream",
     "text": [
      "CPU times: user 199 ms, sys: 12 ms, total: 211 ms\n",
      "Wall time: 210 ms\n"
     ]
    }
   ],
   "source": [
    "%time anagram_map = all_anagram_lists(word_list)"
   ]
  },
  {
   "cell_type": "code",
   "execution_count": 28,
   "metadata": {},
   "outputs": [
    {
     "data": {
      "text/plain": [
       "93406"
      ]
     },
     "execution_count": 28,
     "metadata": {},
     "output_type": "execute_result"
    }
   ],
   "source": [
    "len(anagram_map)"
   ]
  },
  {
   "cell_type": "code",
   "execution_count": 29,
   "metadata": {},
   "outputs": [
    {
     "data": {
      "text/plain": [
       "dict"
      ]
     },
     "execution_count": 29,
     "metadata": {},
     "output_type": "execute_result"
    }
   ],
   "source": [
    "type(anagram_map)"
   ]
  },
  {
   "cell_type": "markdown",
   "metadata": {},
   "source": [
    "## Summary\n",
    "\n",
    "What is the point of the examples in this notebook?\n",
    "\n",
    "* The different versions of `is_anagram` show that, when inputs are small, it is hard to say which algorithm will be the fastest. It often depends on details of the implementation. Anyway, the differences tend to be small, so it might not matter much in practice.\n",
    "\n",
    "* The different algorithms we used to search for anagram pairs show that, when inputs are large, we can often tell which algorithm will be fastest. And the difference between a fast algorithm and a slow one can be huge!"
   ]
  },
  {
   "cell_type": "code",
   "execution_count": null,
   "metadata": {},
   "outputs": [],
   "source": []
  },
  {
   "cell_type": "markdown",
   "metadata": {},
   "source": [
    "## Exercises\n",
    "\n",
    "Before you work on these exercises, you might want to read the Python [Sorting How-To](https://docs.python.org/3/howto/sorting.html). It uses `lambda` to define an anonymous function, which [you can read about here](https://www.w3schools.com/python/python_lambda.asp).\n",
    "\n",
    "**Exercise 7:**\n",
    "Make a dictionary like `anagram_map` that contains only keys that map to a list with more than one element. You can use a `for` loop to make a new dictionary, or a [dictionary comprehension](https://www.freecodecamp.org/news/dictionary-comprehension-in-python-explained-with-examples/)."
   ]
  },
  {
   "cell_type": "code",
   "execution_count": 30,
   "metadata": {},
   "outputs": [],
   "source": [
    "#reduce dictionary to only keys with more than 1 value\n",
    "# v1 for loop\n",
    "\n",
    "def filter_dict_v1(anagram_map):\n",
    "    for key in list(anagram_map.keys()):\n",
    "        if len(anagram_map[key]) == 1:\n",
    "            del anagram_map[key]\n",
    "    return anagram_map\n",
    "\n",
    "# v2 list comprehension\n",
    "\n",
    "def filter_dict_v2(anagram_map):\n",
    "    anagram_map = {key: value for key, value in anagram_map.items() if len(value) > 1}\n",
    "    return anagram_map\n",
    "\n",
    "test1 = anagram_map.copy()\n",
    "\n",
    "len(test1)\n",
    "#93406\n",
    "\n",
    "len(filter_dict_v1(test1))\n",
    "#5872\n",
    "len(filter_dict_v2(test1))\n",
    "#5872\n",
    "\n",
    "anagram_map_reduced = filter_dict_v2(anagram_map)"
   ]
  },
  {
   "cell_type": "markdown",
   "metadata": {},
   "source": [
    "**Exercise 8:**\n",
    "Find the longest word with at least one anagram. Suggestion: use the `key` argument of `sort` or `sorted` ([see here](https://stackoverflow.com/questions/8966538/syntax-behind-sortedkey-lambda))."
   ]
  },
  {
   "cell_type": "code",
   "execution_count": 31,
   "metadata": {},
   "outputs": [
    {
     "name": "stdout",
     "output_type": "stream",
     "text": [
      "[\"'eeeiimnprsssssv\", [\"permissiveness's\", \"impressiveness's\"]]\n"
     ]
    }
   ],
   "source": [
    "#anagram_map_reduced\n",
    "\"\"\"\n",
    "max_letter_len = 0\n",
    "for key in anagram_map_reduced:\n",
    "    if len(key) > max_letter_len:\n",
    "        max_letter_len = len(key)\n",
    "        max_key = key\n",
    "        max_value = anagram_map_reduced[key]\n",
    "print(max_letter_len, max_key, max_value)\n",
    "\n",
    "#16\n",
    "\"\"\"\n",
    "\n",
    "#sort the dictionary by the length of the keys\n",
    "sorted_anagrams = sorted(anagram_map_reduced, key=len, reverse=True)\n",
    "#print(sorted_anagrams)\n",
    "\n",
    "temp = [sorted_anagrams[0], anagram_map_reduced[sorted_anagrams[0]]]\n",
    "print(temp)"
   ]
  },
  {
   "cell_type": "markdown",
   "metadata": {},
   "source": [
    "**Exercise 9:**\n",
    "Find the largest list of words that are anagrams of each other."
   ]
  },
  {
   "cell_type": "code",
   "execution_count": 32,
   "metadata": {},
   "outputs": [
    {
     "name": "stdout",
     "output_type": "stream",
     "text": [
      "dfsdgsd\n"
     ]
    }
   ],
   "source": [
    "\n",
    "print(\"dfsdgsd\")"
   ]
  },
  {
   "cell_type": "code",
   "execution_count": 33,
   "metadata": {},
   "outputs": [
    {
     "name": "stdout",
     "output_type": "stream",
     "text": [
      "{'a': [1, 2, 3], 'b': [2, 3, 4], 'c': [3, 4, 5]}\n",
      "{'a': [1, 2, 3], 'b': [2, 3, 4], 'c': [3, 4, 5]}\n",
      "8 aelst ['stael', 'steal', 'tales', 'least', 'tesla', 'stale', 'slate', 'teals']\n"
     ]
    }
   ],
   "source": [
    "test_dict = {}\n",
    "test_dict['a'] = [1, 2, 3]\n",
    "test_dict['b'] = [2, 3, 4]\n",
    "test_dict['c'] = [3, 4, 5]\n",
    "print(test_dict)\n",
    "\n",
    "test_dict = {key: value for key, value in test_dict.items() if len(value) > 1}\n",
    "print(test_dict)\n",
    "\n",
    "\n",
    "\n",
    "dict = anagram_map_reduced\n",
    "#find the key with the most \n",
    "\n",
    "#find the longest list of anagrams\n",
    "max_len = 0\n",
    "for key in dict:\n",
    "    if len(dict[key]) > max_len:\n",
    "        max_len = len(dict[key])\n",
    "        max_key = key\n",
    "\n",
    "print(max_len, max_key, dict[max_key])\n",
    "\n"
   ]
  },
  {
   "cell_type": "markdown",
   "metadata": {},
   "source": [
    "**Exercise 10:**\n",
    "Write a function that takes an integer `word_length` and finds the longest list of words with the given length that are anagrams of each other."
   ]
  },
  {
   "cell_type": "code",
   "execution_count": 34,
   "metadata": {},
   "outputs": [
    {
     "name": "stdout",
     "output_type": "stream",
     "text": [
      "(8, 'aelst', ['stael', 'steal', 'tales', 'least', 'tesla', 'stale', 'slate', 'teals'])\n",
      "(5, 'adehrst', ['dearths', 'trashed', 'hardest', 'hatreds', 'threads'])\n"
     ]
    }
   ],
   "source": [
    "def most_anagrams_per_length(length, anagram_map):\n",
    "    #filter the dictionary to only keys with the specified length\n",
    "    anagram_map = {key: value for key, value in anagram_map.items() if len(key) == length}\n",
    "    #find the key with the most anagrams\n",
    "    max_len = 0\n",
    "    for key in anagram_map:\n",
    "        if len(anagram_map[key]) > max_len:\n",
    "            max_len = len(anagram_map[key])\n",
    "            max_key = key\n",
    "    return max_len, max_key, anagram_map[max_key]\n",
    "\n",
    "print(most_anagrams_per_length(5, anagram_map_reduced))\n",
    "print(most_anagrams_per_length(7, anagram_map_reduced))"
   ]
  },
  {
   "cell_type": "markdown",
   "metadata": {},
   "source": [
    "**Exercise 11:**\n",
    "At this point we have a data structure that contains lists of words that are anagrams, but we have not actually enumerated all pairs.\n",
    "Write a function that takes `anagram_map` and returns a list of all anagram pairs.\n",
    "How many are there?"
   ]
  },
  {
   "cell_type": "code",
   "execution_count": 37,
   "metadata": {},
   "outputs": [
    {
     "name": "stdout",
     "output_type": "stream",
     "text": [
      "{'a': [1, 2, 3], 'b': [12, 13, 14], 'c': [23, 24, 25, 26]}\n",
      "a [1, 2, 3]\n",
      "b [12, 13, 14]\n",
      "c [23, 24, 25, 26]\n",
      "test\n",
      "9396\n"
     ]
    }
   ],
   "source": [
    "#anagram_map\n",
    "\n",
    "test_dict = {}\n",
    "test_dict['a'] = [1, 2, 3]\n",
    "test_dict['b'] = [12, 13, 14]\n",
    "test_dict['c'] = [23, 24, 25,26]\n",
    "print(test_dict)\n",
    "\n",
    "for key in test_dict:\n",
    "    print(key, test_dict[key])\n",
    "\n",
    "#v updated function - using enumerate. otherwise unnecessary comparisons are made \n",
    "def anagram_pairs_list(dict):\n",
    "    # initialize an empty list to hold the anagram pairs\n",
    "    anagram_pairs = []\n",
    "    #get list of anagrams for each key\n",
    "    for key in dict:\n",
    "        word_list = dict[key]\n",
    "        #build pairs of each word with each other word in the list\n",
    "        for index, word1 in enumerate(word_list):\n",
    "            for word2 in word_list[index+1:]:\n",
    "                #append the pair to the list\n",
    "                anagram_pairs.append((word1, word2))\n",
    "\n",
    "    return anagram_pairs\n",
    "\n",
    "print(\"test\")\n",
    "anagram_pairs_list(test_dict)\n",
    "\n",
    "anagram_list = anagram_pairs_list(anagram_map)\n",
    "print(len(anagram_list))"
   ]
  },
  {
   "cell_type": "code",
   "execution_count": null,
   "metadata": {},
   "outputs": [],
   "source": [
    "#9396 anagram pairs"
   ]
  },
  {
   "cell_type": "code",
   "execution_count": null,
   "metadata": {},
   "outputs": [],
   "source": []
  },
  {
   "cell_type": "code",
   "execution_count": null,
   "metadata": {},
   "outputs": [],
   "source": []
  },
  {
   "cell_type": "markdown",
   "metadata": {},
   "source": [
    "*Data Structures and Information Retrieval in Python*\n",
    "\n",
    "Copyright 2021 Allen Downey\n",
    "\n",
    "License: [Creative Commons Attribution-NonCommercial-ShareAlike 4.0 International](https://creativecommons.org/licenses/by-nc-sa/4.0/)"
   ]
  }
 ],
 "metadata": {
  "kernelspec": {
   "display_name": "Python 3",
   "language": "python",
   "name": "python3"
  },
  "language_info": {
   "codemirror_mode": {
    "name": "ipython",
    "version": 3
   },
   "file_extension": ".py",
   "mimetype": "text/x-python",
   "name": "python",
   "nbconvert_exporter": "python",
   "pygments_lexer": "ipython3",
   "version": "3.10.4 (main, Nov 29 2022, 20:00:25) [GCC 9.4.0]"
  },
  "vscode": {
   "interpreter": {
    "hash": "3ad933181bd8a04b432d3370b9dc3b0662ad032c4dfaa4e4f1596c548f763858"
   }
  }
 },
 "nbformat": 4,
 "nbformat_minor": 4
}
