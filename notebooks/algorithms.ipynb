{
 "cells": [
  {
   "cell_type": "markdown",
   "metadata": {},
   "source": [
    "# Algorithms"
   ]
  },
  {
   "cell_type": "markdown",
   "metadata": {},
   "source": [
    "[Click here to run this chapter on Colab](https://colab.research.google.com/github/AllenDowney/DSIRP/blob/main/notebooks/algorithms.ipynb)"
   ]
  },
  {
   "cell_type": "markdown",
   "metadata": {},
   "source": [
    "## Searching for anagrams\n",
    "\n",
    "In this notebook we'll implement algorithms for two tasks:\n",
    "\n",
    "* Testing a pair of words to see if they are anagrams of each other, that is, if you can rearrange the letters in one word to spell the other.\n",
    "\n",
    "* Searching a list of words for all pairs that are anagrams of each other.\n",
    "\n",
    "There is a point to these examples, which I will explain at the end."
   ]
  },
  {
   "cell_type": "markdown",
   "metadata": {},
   "source": [
    "**Exercise 1:** Write a function that takes two words and returns `True` if they are anagrams. Test your function with the examples below."
   ]
  },
  {
   "cell_type": "code",
   "execution_count": 1,
   "metadata": {},
   "outputs": [],
   "source": [
    "def is_anagram(word1, word2):\n",
    "    \n",
    "    # sort the letters in each word\n",
    "    word1 = sorted(word1)\n",
    "    word2 = sorted(word2)\n",
    "    \n",
    "    # compare the sorted words\n",
    "    return word1 == word2"
   ]
  },
  {
   "cell_type": "code",
   "execution_count": null,
   "metadata": {},
   "outputs": [],
   "source": []
  },
  {
   "cell_type": "code",
   "execution_count": 2,
   "metadata": {},
   "outputs": [
    {
     "data": {
      "text/plain": [
       "True"
      ]
     },
     "execution_count": 2,
     "metadata": {},
     "output_type": "execute_result"
    }
   ],
   "source": [
    "is_anagram('tachymetric', 'mccarthyite') # True"
   ]
  },
  {
   "cell_type": "code",
   "execution_count": 3,
   "metadata": {},
   "outputs": [
    {
     "data": {
      "text/plain": [
       "False"
      ]
     },
     "execution_count": 3,
     "metadata": {},
     "output_type": "execute_result"
    }
   ],
   "source": [
    "is_anagram('post', 'top') # False, letter not present"
   ]
  },
  {
   "cell_type": "code",
   "execution_count": 4,
   "metadata": {},
   "outputs": [
    {
     "data": {
      "text/plain": [
       "False"
      ]
     },
     "execution_count": 4,
     "metadata": {},
     "output_type": "execute_result"
    }
   ],
   "source": [
    "is_anagram('pott', 'top') # False, letter present but not enough copies"
   ]
  },
  {
   "cell_type": "code",
   "execution_count": 5,
   "metadata": {},
   "outputs": [
    {
     "data": {
      "text/plain": [
       "False"
      ]
     },
     "execution_count": 5,
     "metadata": {},
     "output_type": "execute_result"
    }
   ],
   "source": [
    "is_anagram('top', 'post') # False, letters left over at the end"
   ]
  },
  {
   "cell_type": "code",
   "execution_count": 6,
   "metadata": {},
   "outputs": [
    {
     "data": {
      "text/plain": [
       "False"
      ]
     },
     "execution_count": 6,
     "metadata": {},
     "output_type": "execute_result"
    }
   ],
   "source": [
    "is_anagram('topss', 'postt') # False"
   ]
  },
  {
   "cell_type": "markdown",
   "metadata": {},
   "source": [
    "**Exercise 2:** Use `timeit` to see how fast your function is for these examples:"
   ]
  },
  {
   "cell_type": "code",
   "execution_count": 7,
   "metadata": {},
   "outputs": [
    {
     "name": "stdout",
     "output_type": "stream",
     "text": [
      "755 ns ± 107 ns per loop (mean ± std. dev. of 7 runs, 1,000,000 loops each)\n"
     ]
    }
   ],
   "source": [
    "%timeit is_anagram('tops', 'spot')"
   ]
  },
  {
   "cell_type": "code",
   "execution_count": 8,
   "metadata": {},
   "outputs": [
    {
     "name": "stdout",
     "output_type": "stream",
     "text": [
      "1.22 µs ± 98.4 ns per loop (mean ± std. dev. of 7 runs, 1,000,000 loops each)\n"
     ]
    }
   ],
   "source": [
    "%timeit is_anagram('tachymetric', 'mccarthyite')"
   ]
  },
  {
   "cell_type": "markdown",
   "metadata": {},
   "source": [
    "How can we compare algorithms running on different computers?"
   ]
  },
  {
   "cell_type": "markdown",
   "metadata": {},
   "source": [
    "## Searching for anagram pairs"
   ]
  },
  {
   "cell_type": "markdown",
   "metadata": {},
   "source": [
    "**Exercise 3:** Write a function that takes a word list and returns a list of all anagram pairs."
   ]
  },
  {
   "cell_type": "code",
   "execution_count": 9,
   "metadata": {},
   "outputs": [],
   "source": [
    "short_word_list = ['proudest', 'stop', 'pots', 'tops', 'sprouted']"
   ]
  },
  {
   "cell_type": "code",
   "execution_count": 10,
   "metadata": {},
   "outputs": [],
   "source": [
    "#v0 basic function - does not check for identity or reverse pairs\n",
    "\n",
    "def all_anagram_pairs_v0(word_list):\n",
    "    \n",
    "    # initialize an empty list to hold the anagram pairs\n",
    "    anagram_pairs = []\n",
    "    \n",
    "    # loop over each word in the list\n",
    "    for word1 in word_list:\n",
    "        \n",
    "        # loop over each word in the list again\n",
    "        for word2 in word_list:\n",
    "            \n",
    "            # check if the two words are anagrams\n",
    "            if is_anagram(word1, word2):\n",
    "                \n",
    "                # add the pair to the list\n",
    "                anagram_pairs.append((word1, word2))\n",
    "                \n",
    "    return anagram_pairs\n",
    "\n",
    "\n"
   ]
  },
  {
   "cell_type": "code",
   "execution_count": 11,
   "metadata": {},
   "outputs": [],
   "source": [
    "#v1 updated function - checks for duplicates and reverse pairs\n",
    "\n",
    "def all_anagram_pairs_v1(word_list):\n",
    "\n",
    "    # initialize an empty list to hold the anagram pairs\n",
    "    anagram_pairs = []\n",
    "    \n",
    "    # loop over each word in the list\n",
    "    for word1 in word_list:\n",
    "        \n",
    "        # loop over each word in the list again\n",
    "        for word2 in word_list:\n",
    "            \n",
    "            # check if the two words are anagrams\n",
    "            if is_anagram(word1, word2):\n",
    "                \n",
    "                # check if the pair is already in the list\n",
    "                if (word2, word1) not in anagram_pairs:\n",
    "                    \n",
    "                    # add the pair to the list\n",
    "                    anagram_pairs.append((word1, word2))\n",
    "                \n",
    "    return anagram_pairs\n",
    "\n",
    "\n",
    "    \n",
    "\n"
   ]
  },
  {
   "cell_type": "code",
   "execution_count": 12,
   "metadata": {},
   "outputs": [],
   "source": [
    "#v updated function - using enumerate. otherwise unnecessary comparisons are made \n",
    "def all_anagram_pairs_v2(word_list):\n",
    "    # initialize an empty list to hold the anagram pairs\n",
    "    anagram_pairs = []\n",
    "    \n",
    "    for index, word1 in enumerate(word_list):\n",
    "        for word2 in word_list[index+1:]:\n",
    "            if is_anagram(word1, word2):\n",
    "                anagram_pairs.append((word1, word2))\n",
    "\n",
    "    return anagram_pairs"
   ]
  },
  {
   "cell_type": "code",
   "execution_count": 13,
   "metadata": {},
   "outputs": [],
   "source": [
    "#v updated function - using itertools. otherwise unnecessary comparisons are made \n",
    "\n",
    "import itertools\n",
    "\n",
    "def all_anagram_pairs_v3(word_list):\n",
    "    # initialize an empty list to hold the anagram pairs\n",
    "    anagram_pairs = []\n",
    "    \n",
    "    for word1,word2 in itertools.combinations(word_list, 2):\n",
    "            if is_anagram(word1, word2):\n",
    "                anagram_pairs.append((word1, word2))\n",
    "\n",
    "    return anagram_pairs"
   ]
  },
  {
   "cell_type": "code",
   "execution_count": 14,
   "metadata": {},
   "outputs": [
    {
     "data": {
      "text/plain": [
       "[('proudest', 'sprouted'),\n",
       " ('stop', 'pots'),\n",
       " ('stop', 'tops'),\n",
       " ('pots', 'tops')]"
      ]
     },
     "execution_count": 14,
     "metadata": {},
     "output_type": "execute_result"
    }
   ],
   "source": [
    "# choose the version of the function to use\n",
    "\n",
    "all_anagram_pairs = all_anagram_pairs_v3\n",
    "all_anagram_pairs(short_word_list)\n"
   ]
  },
  {
   "cell_type": "markdown",
   "metadata": {},
   "source": [
    "The following cell downloads a file containing a list of English words."
   ]
  },
  {
   "cell_type": "code",
   "execution_count": 15,
   "metadata": {},
   "outputs": [],
   "source": [
    "from os.path import basename, exists\n",
    "\n",
    "def download(url):\n",
    "    filename = basename(url)\n",
    "    if not exists(filename):\n",
    "        from urllib.request import urlretrieve\n",
    "        local, _ = urlretrieve(url, filename)\n",
    "        print('Downloaded ' + local)\n",
    "    \n",
    "download('https://github.com/AllenDowney/DSIRP/raw/main/american-english')"
   ]
  },
  {
   "cell_type": "markdown",
   "metadata": {},
   "source": [
    "The following function reads a file and returns a set of words (I used a set because after we convert words to lower case, there are some repeats.)"
   ]
  },
  {
   "cell_type": "code",
   "execution_count": 16,
   "metadata": {},
   "outputs": [],
   "source": [
    "def read_words(filename):\n",
    "    \"\"\"Read lines from a file and split them into words.\"\"\"\n",
    "    res = set()\n",
    "    for line in open(filename):\n",
    "        for word in line.split():\n",
    "            res.add(word.strip().lower())\n",
    "    return res"
   ]
  },
  {
   "cell_type": "code",
   "execution_count": 17,
   "metadata": {},
   "outputs": [
    {
     "data": {
      "text/plain": [
       "100781"
      ]
     },
     "execution_count": 17,
     "metadata": {},
     "output_type": "execute_result"
    }
   ],
   "source": [
    "word_list = read_words('american-english')\n",
    "len(word_list)"
   ]
  },
  {
   "cell_type": "markdown",
   "metadata": {},
   "source": [
    "**Exercise 4:** Loop through the word list and print all words that are anagrams of `stop`."
   ]
  },
  {
   "cell_type": "code",
   "execution_count": 18,
   "metadata": {},
   "outputs": [
    {
     "name": "stdout",
     "output_type": "stream",
     "text": [
      "tops\n",
      "spot\n",
      "stop\n",
      "pots\n",
      "post\n",
      "opts\n"
     ]
    }
   ],
   "source": [
    "for word in word_list:\n",
    "    if is_anagram('stop', word):\n",
    "        print(word)"
   ]
  },
  {
   "cell_type": "markdown",
   "metadata": {},
   "source": [
    "Now run `all_anagram_pairs` with the full `word_list`:"
   ]
  },
  {
   "cell_type": "code",
   "execution_count": 19,
   "metadata": {},
   "outputs": [
    {
     "name": "stdout",
     "output_type": "stream",
     "text": [
      "[('valid', 'advil'), ('valid', 'vidal'), ('gnats', 'angst'), ('gnats', 'tangs'), ('cures', 'curse'), ('cures', 'sucre'), ('untie', 'unite'), ('purls', 'slurp'), ('barer', 'berra'), ('tills', 'still'), ('tills', 'lilts'), ('trust', 'strut'), ('ethan', 'neath'), ('algol', 'gallo'), ('smear', 'mares'), ('smear', 'reams'), ('dimes', 'deism'), ('tyros', 'troys'), ('tyros', 'story'), ('scull', 'culls'), ('anita', 'tania'), ('quiet', 'quite'), ('dates', 'sated'), ('dates', 'stead'), ('ghost', 'goths'), ('mario', 'maori'), ('mario', 'moira'), ('askew', 'wesak'), ('askew', 'wakes'), ('mable', 'mabel'), ('mable', 'amble'), ('mable', 'melba'), ('mable', 'blame'), ('valor', 'orval'), ('rares', 'rears'), ('rares', 'serra'), ('scuff', 'cuffs'), ('libra', 'blair'), ('aisle', 'elias'), ('aisle', 'elisa'), (\"nat's\", \"ant's\"), (\"nat's\", \"tan's\"), ('slake', 'lakes'), ('slake', 'leaks'), ('trope', 'perot'), ('taxes', 'texas'), (\"aol's\", \"lao's\"), (\"aol's\", \"ola's\"), ('acton', 'canto'), ('deers', 'reeds'), ('deers', 'seder'), ('toque', 'quote'), ('optic', 'topic'), ('items', 'smite'), ('items', 'emits'), ('items', 'times'), ('items', 'mites'), (\"dub's\", \"bud's\"), ('verne', 'never'), ('verne', 'nerve'), ('smite', 'emits'), ('smite', 'times'), ('smite', 'mites'), ('pauli', 'pilau'), ('sates', 'tessa'), ('sates', 'seats'), ('sates', 'asset'), ('sates', 'easts'), ('addle', 'laded'), ('luria', 'lauri'), ('cider', 'riced'), ('cider', 'cried'), ('sinks', 'skins'), ('bates', 'betas'), ('bates', 'beast'), ('bates', 'baste'), ('bates', 'beats'), ('bates', 'abets'), ('shale', 'sahel'), ('shale', 'leash'), ('shale', 'heals'), ('shale', 'hales'), ('blest', 'belts'), ('caped', 'paced'), ('getup', 'puget'), ('hells', 'shell'), ('brags', 'garbs'), ('brags', 'grabs'), (\"tar's\", \"rat's\"), (\"tar's\", \"art's\"), ('idols', 'solid'), ('davis', 'divas'), ('evian', 'naive'), ('evian', 'nivea'), ('tunas', 'aunts'), ('mensa', 'names'), ('mensa', 'means'), ('mensa', 'manes'), ('mensa', 'manse'), ('sires', 'rises'), ('edict', 'cited'), (\"tap's\", \"pat's\"), ('emery', 'meyer'), ('steps', 'pests'), ('somme', 'memos'), ('posed', 'dopes'), ('torsi', 'tiros'), ('torsi', 'trios'), ('torsi', 'riots'), ('rhode', 'horde'), ('rhode', 'herod'), ('paris', 'pairs'), ('paris', 'parsi'), ('rouge', 'rogue'), (\"tow's\", \"two's\"), ('magma', 'gamma'), ('islam', 'mails'), ('sonar', 'roans'), ('sonar', 'arson'), ('pains', 'spain'), ('epics', 'spice'), ('sewer', 'ewers'), ('vedas', 'saved'), ('slept', 'pelts'), ('slept', 'spelt'), ('leper', 'repel'), ('soles', 'sloes'), ('soles', 'loses'), ('forts', 'frost'), ('drags', 'grads'), ('salvo', 'ovals'), ('bowel', 'elbow'), ('bowel', 'below'), ('shine', 'hines'), ('roman', 'moran'), ('roman', 'manor'), ('roman', 'ramon'), ('roman', 'norma'), ('noted', 'toned'), ('nepal', 'panel'), ('nepal', 'plane'), ('nepal', 'penal'), ('atari', 'atria'), ('atari', 'tiara'), ('scats', 'casts'), ('veins', 'nevis'), ('veins', 'vines'), ('artsy', 'satyr'), ('artsy', 'stray'), ('artsy', 'trays'), ('calms', 'clams'), ('caleb', 'cable'), ('finer', 'infer'), ('raked', 'drake'), ('copse', 'pecos'), ('copse', 'scope'), ('copse', 'copes'), ('pinto', 'piton'), ('pinto', 'point'), ('saree', 'erase'), ('lisle', 'ellis'), ('yodel', 'doyle'), ('debar', 'bread'), ('debar', 'beard'), ('debar', 'debra'), ('debar', 'bared'), ('ocher', 'chore'), ('ocher', 'roche'), ('ocher', 'ochre'), ('akron', 'koran'), ('glass', 'slags'), ('merle', 'elmer'), ('leeks', 'keels'), ('leeks', 'sleek'), ('blots', 'bolts'), ('rapes', 'parse'), ('rapes', 'pears'), ('rapes', 'spare'), ('rapes', 'spear'), ('rapes', 'reaps'), ('rapes', 'pares'), ('steam', 'tames'), ('steam', 'teams'), ('steam', 'mates'), ('steam', 'meats'), (\"lao's\", \"ola's\"), ('poohs', 'hoops'), ('spars', 'rasps'), ('riled', 'idler'), ('spout', 'pouts'), ('lingo', 'login'), ('canon', 'conan'), ('cents', 'scent'), ('blues', 'lubes'), ('remit', 'timer'), ('remit', 'miter'), ('remit', 'merit'), ('sawed', 'dawes'), ('sawed', 'wades'), ('heart', 'harte'), ('heart', 'hater'), ('heart', 'earth'), ('saxon', 'axons'), ('tines', 'stein'), ('tines', 'nites'), ('tines', 'inset'), ('tines', 'stine'), ('least', 'teals'), ('least', 'tesla'), ('least', 'stale'), ('least', 'tales'), ('least', 'steal'), ('least', 'stael'), ('least', 'slate'), ('segre', 'serge'), (\"roe's\", \"ore's\"), ('sheet', 'thees'), ('sheet', 'these'), ('bosun', 'bonus'), ('field', 'flied'), ('field', 'filed'), ('field', 'fidel'), ('teaks', 'skate'), ('teaks', 'takes'), ('teaks', 'keats'), ('teaks', 'stake'), ('teaks', 'steak'), ('hears', 'shear'), ('hears', 'rheas'), ('hears', 'hares'), ('hears', 'share'), ('weiss', 'wises'), (\"mug's\", \"gum's\"), ('spats', 'pasts'), ('idyll', 'dilly'), ('wills', 'swill'), ('alsop', 'opals'), ('reeds', 'seder'), ('brake', 'baker'), ('brake', 'break'), ('maids', 'midas'), ('fiche', 'chief'), ('blade', 'baled'), ('under', 'nuder'), ('slung', 'lungs'), ('vanes', 'evans'), ('vanes', 'naves'), ('stops', 'spots'), ('stops', 'posts'), ('cesar', 'races'), ('cesar', 'acres'), ('cesar', 'cares'), ('cesar', 'scare'), ('prone', 'peron'), (\"tin's\", \"nit's\"), (\"tin's\", \"isn't\"), ('casks', 'sacks'), ('tomas', 'atoms'), ('tomas', 'moats'), ('orals', 'solar'), ('osier', 'rosie'), ('regal', 'lager'), ('regal', 'alger'), ('regal', 'large'), ('regal', 'glare'), ('regal', 'elgar'), ('names', 'means'), ('names', 'manes'), ('names', 'manse'), ('amply', 'palmy'), ('steel', 'sleet'), ('betas', 'beast'), ('betas', 'baste'), ('betas', 'beats'), ('betas', 'abets'), ('rilke', 'liker'), (\"tub's\", \"btu's\"), ('slips', 'lisps'), ('poled', 'loped'), ('faker', 'freak'), ('lames', 'selma'), ('lames', 'salem'), ('lames', 'meals'), ('lames', 'males'), (\"neo's\", \"one's\"), (\"neo's\", \"noe's\"), (\"neo's\", \"eon's\"), (\"meg's\", \"gem's\"), ('route', 'outer'), ('paces', 'capes'), ('paces', 'space'), ('girth', 'right'), ('divan', 'dvina'), ('divan', 'viand'), ('overs', 'roves'), ('overs', 'servo'), ('baser', 'sabre'), ('baser', 'bears'), ('baser', 'saber'), ('baser', 'bares'), ('leapt', 'patel'), ('leapt', 'plate'), ('leapt', 'petal'), ('leapt', 'pleat'), ('truce', 'cuter'), ('truce', 'cruet'), ('nigga', 'aging'), ('baker', 'break'), ('tiros', 'trios'), ('tiros', 'riots'), ('lyres', 'slyer'), ('sabre', 'bears'), ('sabre', 'saber'), ('sabre', 'bares'), ('brief', 'fiber'), ('clean', 'lance'), ('input', 'putin'), ('jason', 'sonja'), ('jason', 'jonas'), ('ernie', 'irene'), ('rebus', 'rubes'), ('stern', 'terns'), ('stern', 'rents'), ('stern', 'ernst'), ('drier', 'rider'), ('drier', 'direr'), ('enoch', 'cohen'), ('anger', 'range'), ('spasm', 'spams'), ('vigor', 'virgo'), ('swarm', 'warms'), ('renal', 'learn'), ('alter', 'alert'), ('alter', 'later'), ('damon', 'nomad'), ('byron', 'bryon'), ('byron', 'robyn'), ('nadir', 'darin'), ('nadir', 'indra'), ('nadir', 'randi'), ('nadir', 'drain'), (\"nap's\", \"pan's\"), ('pyres', 'ypres'), ('pyres', 'preys'), ('ebony', 'boney'), ('sherd', 'shred'), ('sherd', 'herds'), ('tires', 'tiers'), ('tires', 'tries'), ('tires', 'rites'), ('wrong', 'grown'), ('rider', 'direr'), ('hairs', 'shari'), ('peers', 'spree'), ('peers', 'speer'), ('calks', 'slack'), ('calks', 'lacks'), ('stank', 'tanks'), ('sable', 'basel'), ('sable', 'bales'), ('twits', 'twist'), ('exist', 'exits'), (\"rat's\", \"art's\"), ('setup', 'upset'), ('shank', 'hanks'), ('shank', 'ankhs'), ('shank', 'khans'), ('marts', 'trams'), ('marts', 'smart'), ('loath', 'altho'), ('alden', 'nelda'), ('alden', 'laden'), ('tomes', 'smote'), ('tomes', 'motes'), ('rifle', 'flier'), ('rifle', 'lifer'), (\"war's\", \"raw's\"), ('satin', 'stain'), ('satin', 'saint'), ('satin', 'antis'), ('bugle', 'bulge'), ('beaks', 'bakes'), ('clasp', 'scalp'), ('clasp', 'claps'), ('alive', 'elvia'), ('reels', 'leers'), ('selma', 'salem'), ('selma', 'meals'), ('selma', 'males'), ('acmes', 'maces'), ('acmes', 'emacs'), ('sirup', 'prius'), ('haves', 'shave'), (\"gun's\", \"gnu's\"), ('ruses', 'users'), ('alvin', 'anvil'), ('deeps', 'speed'), ('tough', 'ought'), ('lions', 'loins'), ('shape', 'heaps'), ('shape', 'phase'), ('debut', 'tubed'), ('tessa', 'seats'), ('tessa', 'asset'), ('tessa', 'easts'), ('shots', 'hosts'), ('garbs', 'grabs'), ('newer', 'renew'), ('coats', 'coast'), ('coats', 'tosca'), ('coats', 'ascot'), ('coats', 'tacos'), (\"bed's\", \"deb's\"), ('corks', 'rocks'), ('taper', 'petra'), ('taper', 'prate'), ('taper', 'apter'), (\"sag's\", \"gas's\"), ('scone', 'cones'), ('sluts', 'lusts'), ('roves', 'servo'), ('yanks', 'snaky'), ('lifts', 'flits'), ('based', 'beads'), ('doors', 'odors'), ('doors', 'roods'), ('roost', 'roots'), ('roost', 'torso'), ('sited', 'edits'), ('sited', 'diets'), ('sited', 'tides'), ('blued', 'lubed'), ('beast', 'baste'), ('beast', 'beats'), ('beast', 'abets'), ('pawns', 'spawn'), ('teals', 'tesla'), ('teals', 'stale'), ('teals', 'tales'), ('teals', 'steal'), ('teals', 'stael'), ('teals', 'slate'), ('burma', 'rumba'), ('orate', 'erato'), ('heads', 'ashed'), ('heads', 'hades'), ('heads', 'shade'), ('lewis', 'wiles'), ('roger', 'regor'), ('roger', 'reorg'), ('darby', 'brady'), ('mabel', 'amble'), ('mabel', 'melba'), ('mabel', 'blame'), ('sorta', 'taros'), ('sorta', 'astor'), ('sorta', 'roast'), ('sorta', 'sarto'), ('dance', 'caned'), ('aspic', 'spica'), ('lycra', 'carly'), ('adept', 'taped'), ('sharp', 'harps'), ('doing', 'dingo'), ('hared', 'heard'), ('flair', 'frail'), ('hires', 'shire'), ('hires', 'sheri'), ('hires', 'heirs'), (\"nit's\", \"isn't\"), ('gapes', 'pages'), ('alert', 'later'), ('wrote', 'tower'), ('rebut', 'brute'), ('rebut', 'tuber'), ('hangs', 'gnash'), (\"era's\", \"rae's\"), (\"era's\", \"ear's\"), (\"era's\", \"are's\"), ('wraps', 'warps'), ('romps', 'proms'), (\"pei's\", \"pie's\"), ('kiwis', 'wikis'), ('camus', 'sumac'), (\"nod's\", \"don's\"), ('shore', 'horse'), ('shore', 'heros'), ('anted', 'dante'), ('danes', 'andes'), ('danes', 'sedan'), ('danes', 'deans'), ('danes', 'snead'), ('danes', 'sedna'), ('fired', 'fried'), ('dales', 'lades'), ('dales', 'deals'), ('dales', 'leads'), ('found', 'fondu'), ('owned', 'endow'), ('devil', 'lived'), ('never', 'nerve'), ('slits', 'lists'), ('slits', 'silts'), ('braid', 'rabid'), ('braid', 'baird'), ('weeds', 'sewed'), ('weeds', 'swede'), ('lasts', 'salts'), ('lasts', 'slats'), ('taros', 'astor'), ('taros', 'roast'), ('taros', 'sarto'), ('sager', 'rages'), ('sager', 'gears'), ('hills', 'shill'), ('flied', 'filed'), ('flied', 'fidel'), ('parse', 'pears'), ('parse', 'spare'), ('parse', 'spear'), ('parse', 'reaps'), ('parse', 'pares'), ('tatar', 'attar'), ('marco', 'carom'), ('marco', 'macro'), ('dawes', 'wades'), ('rifts', 'first'), ('shear', 'rheas'), ('shear', 'hares'), ('shear', 'share'), ('irate', 'artie'), ('salsa', 'salas'), ('salsa', 'lassa'), ('thous', 'south'), ('thous', 'shout'), ('throw', 'wroth'), ('throw', 'worth'), ('lorre', 'errol'), (\"pot's\", \"top's\"), ('stain', 'saint'), ('stain', 'antis'), ('relax', 'laxer'), ('traps', 'tarps'), ('traps', 'strap'), ('traps', 'sprat'), ('traps', 'parts'), ('perms', 'sperm'), ('equip', 'pique'), ('dread', 'dared'), ('dread', 'adder'), ('lucre', 'cruel'), ('lucre', 'ulcer'), ('maine', 'anime'), ('tonne', 'tenon'), ('goals', 'lagos'), (\"nsa's\", \"san's\"), ('posse', 'poses'), ('posse', 'pesos'), ('trees', 'ester'), ('trees', 'reset'), ('trees', 'steer'), ('trees', 'terse'), ('regor', 'reorg'), ('curbs', 'scrub'), ('sings', 'signs'), ('reich', 'cheri'), ('reich', 'erich'), ('curst', 'crust'), ('gloss', 'slogs'), ('lemon', 'melon'), ('touts', 'stout'), ('sidle', 'idles'), ('sidle', 'slide'), ('sidle', 'delis'), ('mores', 'morse'), ('mores', 'romes'), ('shock', 'hocks'), ('manna', 'annam'), ('suing', 'using'), ('suing', 'ginsu'), ('moods', 'sodom'), ('moods', 'dooms'), ('swore', 'sower'), ('swore', 'worse'), ('edens', 'dense'), ('edens', 'needs'), ('verdi', 'drive'), ('verdi', 'diver'), ('bosom', 'booms'), ('advil', 'vidal'), (\"orb's\", \"rob's\"), ('lager', 'alger'), ('lager', 'large'), ('lager', 'glare'), ('lager', 'elgar'), ('liven', 'elvin'), ('haber', 'rehab'), ('haber', 'brahe'), ('crews', 'screw'), ('shula', 'hulas'), ('shula', 'hauls'), (\"rap's\", \"apr's\"), (\"rap's\", \"par's\"), ('ramos', 'roams'), ('inane', 'annie'), ('still', 'lilts'), ('seats', 'asset'), ('seats', 'easts'), ('torus', 'tours'), ('torus', 'routs'), ('ryder', 'dryer'), ('tesla', 'stale'), ('tesla', 'tales'), ('tesla', 'steal'), ('tesla', 'stael'), ('tesla', 'slate'), ('gusty', 'gutsy'), ('pulse', 'lepus'), ('corey', 'coyer'), ('corey', 'royce'), ('timer', 'miter'), ('timer', 'merit'), ('ruble', 'bluer'), ('thaws', 'swath'), ('thaws', 'whats'), ('genre', 'green'), ('meade', 'edema'), ('meade', 'medea'), ('pelts', 'spelt'), ('sting', 'tings'), ('wiser', 'wires'), ('wiser', 'weirs'), ('gimpy', 'pigmy'), ('jamie', 'mejia'), ('jamie', 'jaime'), ('crepe', 'creep'), ('argus', 'sugar'), ('tucks', 'stuck'), ('malls', 'small'), ('ester', 'reset'), ('ester', 'steer'), ('ester', 'terse'), ('carbs', 'crabs'), ('shook', 'hooks'), ('louts', 'lotus'), ('hoard', 'rhoda'), ('yacht', 'cathy'), ('means', 'manes'), ('means', 'manse'), ('cuter', 'cruet'), ('splay', 'palsy'), ('splay', 'plays'), (\"gal's\", \"lag's\"), ('gorse', 'gores'), ('gorse', 'ogres'), ('edams', 'dames'), ('keens', 'knees'), ('emits', 'times'), ('emits', 'mites'), ('spunk', 'punks'), ('chain', 'china'), ('chain', 'icahn'), ('stink', 'knits'), ('dolly', 'lloyd'), ('aside', 'aides'), ('aside', 'sadie'), ('aside', 'ideas'), ('feuds', 'fused'), ('smote', 'motes'), ('moors', 'rooms'), ('stars', 'tsars'), ('lacey', 'alyce'), ('lades', 'deals'), ('lades', 'leads'), ('poxes', 'expos'), ('galen', 'glean'), ('galen', 'angel'), ('galen', 'angle'), ('skate', 'takes'), ('skate', 'keats'), ('skate', 'stake'), ('skate', 'steak'), ('latex', 'exalt'), ('peels', 'sleep'), ('sakai', 'kasai'), ('avila', 'avail'), ('miens', 'mines'), ('veils', 'evils'), ('veils', 'elvis'), ('veils', 'lives'), ('roots', 'torso'), ('flies', 'files'), ('avers', 'saver'), ('avers', 'raves'), ('stone', 'onset'), ('stone', 'tones'), ('stone', 'seton'), ('stone', 'notes'), ('patel', 'plate'), ('patel', 'petal'), ('patel', 'pleat'), ('crass', 'scars'), ('morse', 'romes'), ('wands', 'dawns'), ('sprig', 'prigs'), ('sprig', 'grips'), ('trade', 'rated'), ('trade', 'tared'), ('trade', 'tread'), ('tiber', 'tribe'), ('henri', 'rhine'), ('views', 'wives'), ('sahel', 'leash'), ('sahel', 'heals'), ('sahel', 'hales'), ('inter', 'inert'), ('inter', 'niter'), ('peaks', 'speak'), ('peaks', 'spake'), ('deify', 'edify'), (\"low's\", \"owl's\"), ('stubs', 'busts'), ('hurst', 'hurts'), ('paves', 'vapes'), ('smile', 'slime'), ('smile', 'selim'), ('smile', 'miles'), ('smile', 'limes'), ('sails', 'silas'), ('sails', 'sisal'), ('spree', 'speer'), ('crave', 'carve'), ('duels', 'slued'), ('north', 'thorn'), ('wider', 'wired'), ('wider', 'weird'), ('poems', 'epsom'), ('poems', 'mopes'), ('fowls', 'wolfs'), ('fowls', 'flows'), ('knead', 'naked'), ('scalp', 'claps'), ('sigma', 'agism'), ('snaps', 'spans'), ('mbini', 'nimbi'), ('stint', 'tints'), ('alien', 'aline'), ('board', 'broad'), ('canny', 'nancy'), ('taser', 'aster'), ('taser', 'stare'), ('taser', 'rates'), ('taser', 'tares'), ('taser', 'tears'), ('shaka', 'sakha'), ('olden', 'eldon'), ('stalk', 'talks'), ('freer', 'refer'), ('nosed', 'nodes'), ('mocks', 'smock'), ('spate', 'tapes'), ('spate', 'pates'), ('spate', 'septa'), ('spate', 'paste'), ('jinan', 'ninja'), ('wiley', 'wylie'), (\"gob's\", \"bog's\"), ('naive', 'nivea'), ('haste', 'heats'), ('haste', 'hates'), ('hotel', 'helot'), (\"gab's\", \"bag's\"), ('spoke', 'pokes'), ('atoms', 'moats'), ('bassi', 'basis'), ('lists', 'silts'), ('klein', 'liken'), ('klein', 'kline'), ('quads', 'squad'), ('amend', 'named'), ('amend', 'admen'), ('amend', 'medan'), ('rafts', 'frats'), ('rafts', 'farts'), ('moore', 'romeo'), ('wares', 'wears'), ('wares', 'swear'), ('speak', 'spake'), ('lucas', 'claus'), ('thins', 'hints'), ('decaf', 'faced'), ('sweat', 'waste'), ('inert', 'niter'), ('miser', 'rimes'), ('miser', 'emirs'), ('miser', 'mires'), ('adler', 'alder'), ('paled', 'pedal'), ('paled', 'plead'), ('velma', 'melva'), ('allot', 'atoll'), ('moran', 'manor'), ('moran', 'ramon'), ('moran', 'norma'), ('tarts', 'start'), ('organ', 'groan'), ('organ', 'argon'), (\"cot's\", \"oct's\"), ('heaps', 'phase'), ('gulps', 'plugs'), ('carom', 'macro'), ('loges', 'ogles'), ('troys', 'story'), ('risen', 'resin'), ('risen', 'siren'), ('risen', 'reins'), ('risen', 'rinse'), ('halts', 'shalt'), ('halts', 'laths'), ('trots', 'torts'), ('lenny', 'lynne'), ('maori', 'moira'), ('ayers', 'years'), ('cruel', 'ulcer'), ('eager', 'agree'), ('yards', 'drays'), ('drano', 'radon'), ('drano', 'adorn'), ('drano', 'ronda'), ('drano', 'norad'), (\"arm's\", \"mar's\"), (\"arm's\", \"ram's\"), ('drove', 'roved'), ('drove', 'dover'), ('charm', 'march'), ('loops', 'spool'), ('loops', 'sloop'), ('loops', 'pools'), ('ethos', 'those'), ('mange', 'megan'), ('mange', 'amgen'), ('hulas', 'hauls'), ('tiers', 'tries'), ('tiers', 'rites'), ('throb', 'broth'), ('fairs', 'farsi'), ('abler', 'blare'), ('morns', 'norms'), ('elbow', 'below'), (\"hob's\", \"hbo's\"), ('noble', 'nobel'), ('aches', 'chase'), ('adobe', 'abode'), ('salve', 'vales'), ('salve', 'slave'), ('teats', 'state'), ('teats', 'taste'), ('coast', 'tosca'), ('coast', 'ascot'), ('coast', 'tacos'), (\"cod's\", \"doc's\"), ('sewed', 'swede'), (\"geo's\", \"ego's\"), ('dubai', 'baidu'), ('stein', 'nites'), ('stein', 'inset'), ('stein', 'stine'), ('today', 'toady'), ('idles', 'slide'), ('idles', 'delis'), ('seoul', 'louse'), ('rowdy', 'wordy'), ('rowdy', 'dowry'), ('nevis', 'vines'), ('urine', 'inure'), ('tosca', 'ascot'), ('tosca', 'tacos'), ('reyna', 'yearn'), ('spool', 'sloop'), ('spool', 'pools'), ('halve', 'havel'), ('links', 'slink'), ('links', 'kilns'), ('corps', 'crops'), ('robed', 'bored'), ('mango', 'among'), ('olive', 'voile'), ('delta', 'dealt'), ('named', 'admen'), ('named', 'medan'), ('trash', 'harts'), ('silas', 'sisal'), (\"yak's\", \"kay's\"), ('cored', 'credo'), ('cored', 'decor'), (\"nib's\", \"bin's\"), ('genoa', 'onega'), ('liars', 'rails'), ('liars', 'liras'), ('liars', 'lairs'), ('silva', 'vials'), ('unbar', 'urban'), (\"bus's\", \"sub's\"), (\"bus's\", \"ubs's\"), ('celia', 'alice'), ('sepoy', 'poesy'), ('nites', 'inset'), ('nites', 'stine'), ('tisha', 'thais'), ('tisha', 'saith'), ('shire', 'sheri'), ('shire', 'heirs'), ('ogled', 'lodge'), ('races', 'acres'), ('races', 'cares'), ('races', 'scare'), ('peals', 'sepal'), ('peals', 'pleas'), ('peals', 'pales'), ('peals', 'leaps'), ('peals', 'lapse'), ('aster', 'stare'), ('aster', 'rates'), ('aster', 'tares'), ('aster', 'tears'), (\"arc's\", \"car's\"), (\"arc's\", \"rca's\"), ('tames', 'teams'), ('tames', 'mates'), ('tames', 'meats'), ('crony', 'corny'), ('nader', 'arden'), ('nader', 'andre'), ('nader', 'daren'), ('heron', 'horne'), ('heron', 'rhone'), ('yeahs', 'hayes'), ('tarps', 'strap'), ('tarps', 'sprat'), ('tarps', 'parts'), ('drive', 'diver'), ('goren', 'goner'), ('goren', 'negro'), (\"mel's\", \"elm's\"), ('rends', 'nerds'), ('inapt', 'paint'), ('alger', 'large'), ('alger', 'glare'), ('alger', 'elgar'), (\"pea's\", \"ape's\"), ('marsh', 'harms'), ('metes', 'teems'), ('metes', 'meets'), ('plied', 'piled'), ('roles', 'loser'), ('scowl', 'cowls'), ('shake', 'hakes'), ('ashed', 'hades'), ('ashed', 'shade'), ('teams', 'mates'), ('teams', 'meats'), ('decal', 'laced'), ('cores', 'score'), ('sties', 'sites'), ('tapes', 'pates'), ('tapes', 'septa'), ('tapes', 'paste'), ('costs', 'scots'), ('flogs', 'golfs'), ('solve', 'voles'), ('solve', 'loves'), ('sepal', 'pleas'), ('sepal', 'pales'), ('sepal', 'leaps'), ('sepal', 'lapse'), ('prods', 'drops'), ('diana', 'nadia'), ('diana', 'naiad'), ('cadre', 'cedar'), ('cadre', 'raced'), ('cadre', 'cared'), ('cadre', 'arced'), ('amble', 'melba'), ('amble', 'blame'), ('gable', 'bagel'), ('incas', 'cains'), ('pears', 'spare'), ('pears', 'spear'), ('pears', 'reaps'), ('pears', 'pares'), ('edgar', 'raged'), ('edgar', 'grade'), ('dowse', 'sowed'), ('dikes', 'skied'), ('poles', 'lopes'), ('poles', 'slope'), ('borne', 'boner'), ('sedge', 'edges'), ('gores', 'ogres'), ('cause', 'sauce'), ('brads', 'drabs'), ('brads', 'bards'), ('slain', 'nails'), ('slain', 'snail'), ('lopes', 'slope'), ('carol', 'coral'), ('carol', 'carlo'), ('wells', 'swell'), ('cigar', 'craig'), ('amaru', 'maura'), ('raise', 'aries'), ('raise', 'arise'), ('raise', 'aires'), ('onset', 'tones'), ('onset', 'seton'), ('onset', 'notes'), ('fared', 'freda'), ('pates', 'septa'), ('pates', 'paste'), ('owlet', 'towel'), ('creon', 'crone'), ('daley', 'delay'), ('ladle', 'della'), ('bails', 'basil'), ('shams', 'smash'), ('bytes', 'betsy'), ('spray', 'prays'), ('spray', 'raspy'), ('reset', 'steer'), ('reset', 'terse'), ('nails', 'snail'), ('hosed', 'shoed'), ('corns', 'scorn'), ('dewar', 'wader'), ('dives', 'vised'), (\"run's\", \"urn's\"), ('imams', 'maims'), ('state', 'taste'), ('anglo', 'golan'), ('anglo', 'along'), ('anglo', 'logan'), ('morin', 'minor'), ('kites', 'tikes'), ('teems', 'meets'), ('curse', 'sucre'), ('poses', 'pesos'), ('hoses', 'shoes'), ('aides', 'sadie'), ('aides', 'ideas'), ('harks', 'shark'), ('straw', 'warts'), (\"bad's\", \"dab's\"), (\"cat's\", \"act's\"), ('wroth', 'worth'), ('hacks', 'shack'), ('dykes', 'skyed'), ('napes', 'aspen'), ('napes', 'panes'), ('lurch', 'churl'), ('rabid', 'baird'), ('thees', 'these'), ('pecos', 'scope'), ('pecos', 'copes'), ('spock', 'pocks'), (\"sap's\", \"asp's\"), (\"sap's\", \"spa's\"), ('aural', 'laura'), ('reefs', 'frees'), ('dried', 'redid'), ('atria', 'tiara'), ('bread', 'beard'), ('bread', 'debra'), ('bread', 'bared'), ('miter', 'merit'), ('pearl', 'paler'), ('manor', 'ramon'), ('manor', 'norma'), ('debit', 'bidet'), ('fryer', 'ferry'), ('stile', 'tiles'), ('stile', 'islet'), ('glean', 'angel'), ('glean', 'angle'), ('paula', 'palau'), (\"dis's\", \"sid's\"), ('raged', 'grade'), ('boats', 'boast'), ('vales', 'slave'), ('peeks', 'keeps'), ('dares', 'dears'), ('dares', 'reads'), (\"asp's\", \"spa's\"), ('sower', 'worse'), ('fined', 'fiend'), ('aries', 'arise'), ('aries', 'aires'), ('gaped', 'paged'), ('synod', 'dyson'), ('layla', 'allay'), (\"dog's\", \"god's\"), (\"tim's\", \"mit's\"), ('edger', 'greed'), (\"kin's\", \"ink's\"), (\"car's\", \"rca's\"), ('jaunt', 'junta'), ('lanes', 'leans'), ('speck', 'pecks'), ('cohan', 'nacho'), ('using', 'ginsu'), ('study', 'dusty'), ('wesak', 'wakes'), ('chars', 'crash'), ('nahum', 'human'), ('colts', 'clots'), (\"use's\", \"sue's\"), ('trams', 'smart'), ('wrist', 'writs'), ('rebel', 'berle'), ('manes', 'manse'), ('tries', 'rites'), ('anzac', 'nazca'), ('robes', 'bores'), ('robes', 'sober'), ('robes', 'boers'), ('crisp', 'scrip'), ('girts', 'grist'), ('girts', 'grits'), ('basin', 'sabin'), ('edema', 'medea'), (\"who's\", \"how's\"), ('pleas', 'pales'), ('pleas', 'leaps'), ('pleas', 'lapse'), ('wards', 'sward'), ('wards', 'draws'), ('studs', 'dusts'), (\"rae's\", \"ear's\"), (\"rae's\", \"are's\"), ('snoop', 'spoon'), ('silly', 'slily'), ('minsk', 'minks'), ('ropes', 'prose'), ('ropes', 'poser'), ('ropes', 'spore'), ('ropes', 'pores'), ('satan', 'santa'), ('haydn', 'handy'), ('carpi', 'capri'), (\"now's\", \"won's\"), ('globs', 'blogs'), ('alarm', 'marla'), ('alarm', 'lamar'), (\"rim's\", \"mir's\"), ('sneak', 'snake'), ('lyric', 'cyril'), ('alums', 'mauls'), ('teens', 'tense'), ('crane', 'nacre'), ('codes', 'coeds'), (\"aye's\", \"yea's\"), ('blows', 'bowls'), ('typos', 'topsy'), ('inonu', 'union'), ('caper', 'crape'), ('caper', 'recap'), ('death', 'hated'), ('flues', 'fuels'), ('radon', 'adorn'), ('radon', 'ronda'), ('radon', 'norad'), ('nadia', 'naiad'), ('scion', 'icons'), ('scion', 'sonic'), ('scion', 'coins'), ('pairs', 'parsi'), ('ebert', 'beret'), ('lines', 'liens'), ('snore', 'norse'), ('takes', 'keats'), ('takes', 'stake'), ('takes', 'steak'), ('sores', 'roses'), ('shoal', 'halos'), ('rings', 'grins'), ('shawl', 'walsh'), ('wires', 'weirs'), ('steer', 'terse'), (\"oar's\", \"ora's\"), ('susie', 'issue'), ('forge', 'gofer'), ('rangy', 'angry'), ('asset', 'easts'), ('maxes', 'exams'), ('large', 'glare'), ('large', 'elgar'), ('prigs', 'grips'), ('argue', 'auger'), (\"mai's\", \"aim's\"), (\"mai's\", \"mia's\"), ('glare', 'elgar'), ('toast', 'stoat'), ('maris', 'amirs'), ('aspen', 'panes'), ('crams', 'scram'), ('sybil', 'sibyl'), ('gates', 'stage'), ('goner', 'negro'), ('seals', 'sales'), ('timon', 'minot'), ('zoned', 'dozen'), (\"may's\", \"amy's\"), (\"may's\", \"yam's\"), ('denim', 'mined'), ('sloes', 'loses'), ('semen', 'menes'), ('hades', 'shade'), ('torte', 'otter'), (\"ale's\", \"lea's\"), ('tiled', 'tilde'), ('liken', 'kline'), ('slime', 'selim'), ('slime', 'miles'), ('slime', 'limes'), ('gases', 'sages'), ('ocean', 'canoe'), ('wordy', 'dowry'), ('camry', 'marcy'), ('simon', 'minos'), (\"nan's\", \"ann's\"), ('nelda', 'laden'), ('dines', 'denis'), ('dines', 'snide'), ('angst', 'tangs'), ('wendi', 'widen'), ('wendi', 'wined'), ('wendi', 'edwin'), ('yates', 'yeats'), ('yates', 'yeast'), ('basra', 'arabs'), ('abeam', 'ameba'), ('wolfs', 'flows'), ('actor', 'croat'), ('spare', 'spear'), ('spare', 'reaps'), ('spare', 'pares'), ('leash', 'heals'), ('leash', 'hales'), ('bores', 'sober'), ('bores', 'boers'), ('spear', 'reaps'), ('spear', 'pares'), ('strap', 'sprat'), ('strap', 'parts'), (\"tug's\", \"gut's\"), ('carps', 'craps'), ('carps', 'scrap'), ('salas', 'lassa'), ('sheri', 'heirs'), ('baste', 'beats'), ('baste', 'abets'), ('inset', 'stine'), (\"amy's\", \"yam's\"), ('media', 'aimed'), ('demos', 'modes'), ('demos', 'domes'), ('reaps', 'pares'), ('quito', 'quoit'), ('arneb', 'abner'), ('acres', 'cares'), ('acres', 'scare'), ('lamer', 'realm'), ('beets', 'beset'), ('tilts', 'stilt'), ('mates', 'meats'), ('frier', 'rifer'), ('allie', 'lelia'), ('allie', 'leila'), ('astor', 'roast'), ('astor', 'sarto'), ('spike', 'pikes'), ('marta', 'tamra'), ('marta', 'marat'), ('seams', 'mesas'), ('seams', 'sames'), ('foals', 'loafs'), ('lidia', 'iliad'), ('laban', 'banal'), ('roved', 'dover'), ('vases', 'saves'), ('septa', 'paste'), ('colas', 'coals'), ('prays', 'raspy'), (\"map's\", \"pam's\"), (\"map's\", \"amp's\"), ('shorn', 'horns'), ('scoop', 'coops'), ('saint', 'antis'), ('essex', 'sexes'), ('gamer', 'marge'), ('begin', 'binge'), ('begin', 'being'), ('rated', 'tared'), ('rated', 'tread'), ('rabin', 'brain'), ('rabin', 'brian'), (\"nil's\", \"lin's\"), ('stamp', 'tamps'), (\"rub's\", \"bur's\"), ('there', 'ether'), ('there', 'three'), ('sober', 'boers'), ('spine', 'penis'), ('spine', 'snipe'), ('spine', 'pines'), ('riven', 'ervin'), ('weeps', 'sweep'), ('pedal', 'plead'), ('fares', 'fears'), ('fares', 'safer'), ('tunes', 'unset'), ('pored', 'roped'), ('pored', 'pedro'), ('alias', 'alisa'), ('dvina', 'viand'), ('titus', 'tutsi'), ('dream', 'armed'), ('papal', 'appal'), ('brunt', 'burnt'), ('usurp', 'purus'), ('tiles', 'islet'), ('leroy', 'elroy'), ('ports', 'strop'), ('ports', 'sport'), ('lumps', 'slump'), ('lumps', 'plums'), (\"lab's\", \"alb's\"), ('megan', 'amgen'), ('gatun', 'gaunt'), ('evict', 'civet'), ('loons', 'olson'), ('loons', 'solon'), ('adore', 'oared'), ('trios', 'riots'), ('madge', 'gamed'), ('inlet', 'intel'), ('resin', 'siren'), ('resin', 'reins'), ('resin', 'rinse'), ('cheri', 'erich'), ('bella', 'label'), ('dairy', 'diary'), ('bryon', 'robyn'), ('ethel', 'lethe'), (\"pus's\", \"sup's\"), (\"pus's\", \"ups's\"), ('wired', 'weird'), ('viral', 'rival'), ('dunes', 'nudes'), ('flier', 'lifer'), ('tours', 'routs'), ('cheap', 'peach'), ('ikons', 'oinks'), ('shalt', 'laths'), ('olsen', 'noels'), ('leona', 'alone'), ('leona', 'oneal'), ('hikes', 'sheik'), ('swing', 'wings'), ('shrub', 'brush'), ('epsom', 'mopes'), ('stiff', 'tiffs'), ('feral', 'flare'), ('usual', 'luaus'), ('moral', 'molar'), ('cadge', 'caged'), ('dazes', 'adzes'), ('odets', 'dotes'), ('lobes', 'boles'), ('beats', 'abets'), ('echos', 'chose'), ('thing', 'night'), (\"law's\", \"awl's\"), (\"oat's\", \"tao's\"), (\"ira's\", \"air's\"), ('salts', 'slats'), ('plate', 'petal'), ('plate', 'pleat'), ('icons', 'sonic'), ('icons', 'coins'), ('terns', 'rents'), ('terns', 'ernst'), ('arden', 'andre'), ('arden', 'daren'), ('vader', 'raved'), ('china', 'icahn'), ('loans', 'sloan'), ('loans', 'salon'), ('siren', 'reins'), ('siren', 'rinse'), ('weans', 'wanes'), (\"sim's\", \"ism's\"), ('merak', 'maker'), ('edits', 'diets'), ('edits', 'tides'), ('dears', 'reads'), ('snafu', 'fauns'), ('rimes', 'emirs'), ('rimes', 'mires'), ('yeats', 'yeast'), ('lorie', 'loire'), ('prose', 'poser'), ('prose', 'spore'), ('prose', 'pores'), (\"tab's\", \"bat's\"), ('fears', 'safer'), ('heals', 'hales'), ('shlep', 'helps'), (\"bar's\", \"bra's\"), ('omits', 'moist'), ('cadet', 'acted'), ('modes', 'domes'), ('lelia', 'leila'), ('limbo', 'mobil'), (\"one's\", \"noe's\"), (\"one's\", \"eon's\"), (\"nam's\", \"man's\"), ('hones', 'shone'), ('roped', 'pedro'), ('comet', 'comte'), ('glide', 'gelid'), ('rails', 'liras'), ('rails', 'lairs'), ('eaton', 'atone'), ('eaton', 'oaten'), ('macho', 'mocha'), ('colds', 'scold'), ('colds', 'clods'), ('narks', 'ranks'), ('radio', 'dario'), ('girds', 'grids'), ('runts', 'turns'), ('coots', 'scoot'), ('tubas', 'abuts'), ('tubas', 'tabus'), ('tones', 'seton'), ('tones', 'notes'), ('aloft', 'float'), ('rehab', 'brahe'), ('kieth', 'keith'), ('rowel', 'lower'), (\"ant's\", \"tan's\"), ('slide', 'delis'), ('silos', 'solis'), ('silos', 'soils'), ('ascot', 'tacos'), ('chore', 'roche'), ('chore', 'ochre'), (\"rot's\", \"tor's\"), ('keats', 'stake'), ('keats', 'steak'), ('leary', 'early'), ('leary', 'layer'), ('leary', 'relay'), ('gruel', 'luger'), (\"yaw's\", \"way's\"), ('ringo', 'groin'), ('camps', 'scamp'), ('shaft', 'hafts'), ('bears', 'saber'), ('bears', 'bares'), (\"new's\", \"wen's\"), ('penis', 'snipe'), ('penis', 'pines'), ('reals', 'laser'), ('reals', 'earls'), (\"gel's\", \"leg's\"), ('treed', 'deter'), ('adorn', 'ronda'), ('adorn', 'norad'), ('peary', 'payer'), ('peary', 'repay'), ('piles', 'plies'), ('piles', 'spiel'), ('lefts', 'felts'), (\"ear's\", \"are's\"), ('mares', 'reams'), ('erect', 'crete'), ('hides', 'shied'), ('oldie', 'oiled'), ('abuse', 'beaus'), ('clear', 'clare'), ('payer', 'repay'), ('halls', 'shall'), ('linen', 'lenin'), ('milfs', 'films'), ('sweet', 'weest'), ('dowel', 'lowed'), ('beard', 'debra'), ('beard', 'bared'), ('futon', 'fount'), ('scope', 'copes'), ('recta', 'react'), ('recta', 'caret'), ('recta', 'crate'), ('recta', 'cater'), ('recta', 'trace'), ('elias', 'elisa'), (\"tam's\", \"mat's\"), ('stool', 'loots'), ('stool', 'tools'), ('shuck', 'kusch'), ('emirs', 'mires'), (\"ode's\", \"doe's\"), ('ample', 'maple'), ('teach', 'cheat'), ('fires', 'fries'), ('feast', 'fates'), ('feast', 'feats'), ('reins', 'rinse'), ('balsa', 'basal'), ('fleas', 'false'), ('fleas', 'leafs'), ('tired', 'tried'), ('saber', 'bares'), ('drabs', 'bards'), ('panel', 'plane'), ('panel', 'penal'), ('snips', 'spins'), ('rheas', 'hares'), ('rheas', 'share'), ('egret', 'greet'), ('goats', 'togas'), ('trial', 'trail'), ('south', 'shout'), ('alloy', 'loyal'), ('stale', 'tales'), ('stale', 'steal'), ('stale', 'stael'), ('stale', 'slate'), ('wasps', 'swaps'), ('ronda', 'norad'), ('dirac', 'acrid'), ('boost', 'boots'), ('andes', 'sedan'), ('andes', 'deans'), ('andes', 'snead'), ('andes', 'sedna'), ('enrol', 'loren'), ('enrol', 'loner'), ('seton', 'notes'), ('sated', 'stead'), ('times', 'mites'), ('salem', 'meals'), ('salem', 'males'), ('rupee', 'puree'), ('lynda', 'dylan'), ('ideal', 'ailed'), ('ideal', 'delia'), ('naomi', 'amino'), (\"ina's\", \"ian's\"), ('skill', 'kills'), ('bruin', 'rubin'), ('petra', 'prate'), ('petra', 'apter'), ('olson', 'solon'), ('lodes', 'soled'), ('lodes', 'doles'), ('plies', 'spiel'), ('cedar', 'raced'), ('cedar', 'cared'), ('cedar', 'arced'), ('osaka', 'asoka'), (\"pay's\", \"yap's\"), ('evils', 'elvis'), ('evils', 'lives'), ('serum', 'remus'), ('amour', 'mauro'), ('venal', 'navel'), ('poser', 'spore'), ('poser', 'pores'), ('fiefs', 'fifes'), ('flees', 'feels'), ('epson', 'pones'), ('epson', 'peons'), ('epson', 'opens'), ('auden', 'duane'), ('lures', 'rules'), ('roans', 'arson'), ('tacit', 'attic'), ('debra', 'bared'), ('pales', 'leaps'), ('pales', 'lapse'), ('raven', 'verna'), (\"noe's\", \"eon's\"), ('waist', 'waits'), ('spore', 'pores'), ('wipes', 'swipe'), (\"sub's\", \"ubs's\"), ('fates', 'feats'), ('astir', 'stair'), ('astir', 'sitar'), ('medal', 'lamed'), ('early', 'layer'), ('early', 'relay'), ('ochoa', 'achoo'), ('coral', 'carlo'), ('selim', 'miles'), ('selim', 'limes'), ('raced', 'cared'), ('raced', 'arced'), ('elsie', 'elise'), ('rimed', 'mired'), ('rimed', 'dimer'), ('andre', 'daren'), ('lease', 'easel'), ('burks', 'brusk'), ('scold', 'clods'), ('satyr', 'stray'), ('satyr', 'trays'), ('depot', 'opted'), ('vesta', 'stave'), ('wrest', 'strew'), ('urges', 'surge'), ('maces', 'emacs'), ('brute', 'tuber'), (\"pal's\", \"lap's\"), (\"ios's\", \"iso's\"), ('hares', 'share'), ('budge', 'debug'), ('miles', 'limes'), ('harte', 'hater'), ('harte', 'earth'), ('capes', 'space'), ('patch', 'chapt'), ('dared', 'adder'), ('rests', 'tress'), ('slick', 'licks'), ('swath', 'whats'), (\"ned's\", \"end's\"), (\"ned's\", \"den's\"), ('basel', 'bales'), (\"nut's\", \"tun's\"), ('heady', 'hayed'), ('stick', 'ticks'), ('alone', 'oneal'), ('coyer', 'royce'), (\"amd's\", \"dam's\"), (\"amd's\", \"mad's\"), ('slump', 'plums'), ('spill', 'pills'), ('evans', 'naves'), ('wheal', 'whale'), ('bleat', 'table'), ('dobro', 'brood'), ('arise', 'aires'), ('roast', 'sarto'), ('wiled', 'wilde'), ('wiled', 'wield'), ('beady', 'bayed'), ('scrod', 'cords'), ('rears', 'serra'), ('sifts', 'fists'), ('sodom', 'dooms'), (\"pam's\", \"amp's\"), ('munro', 'mourn'), ('liras', 'lairs'), ('slier', 'riles'), (\"end's\", \"den's\"), ('wilde', 'wield'), ('lured', 'ruled'), ('soled', 'doles'), ('grape', 'pager'), ('blake', 'bleak'), ('wears', 'swear'), ('smuts', 'musts'), ('diets', 'tides'), ('sheba', 'hbase'), ('neigh', 'hinge'), ('voles', 'loves'), ('dogie', 'diego'), ('heats', 'hates'), ('mason', 'osman'), ('mason', 'moans'), ('horde', 'herod'), ('nexis', 'nixes'), ('spilt', 'split'), ('snare', 'saner'), ('snare', 'earns'), ('snare', 'nears'), (\"saw's\", \"aws's\"), ('essen', 'sense'), ('sired', 'redis'), ('sired', 'dries'), ('sired', 'rides'), ('rages', 'gears'), ('staph', 'paths'), ('stake', 'steak'), ('plane', 'penal'), ('russo', 'sours'), ('whits', 'whist'), ('stair', 'sitar'), ('shane', 'ashen'), ('serve', 'veers'), ('serve', 'sever'), ('serve', 'verse'), ('addie', 'aided'), ('ailed', 'delia'), ('denis', 'snide'), ('binge', 'being'), (\"ewe's\", \"wee's\"), ('mejia', 'jaime'), ('rusts', 'truss'), ('patsy', 'pasty'), ('stare', 'rates'), ('stare', 'tares'), ('stare', 'tears'), ('sward', 'draws'), (\"ila's\", \"ali's\"), ('widen', 'wined'), ('widen', 'edwin'), ('vaped', 'paved'), ('lakes', 'leaks'), ('skids', 'disks'), (\"net's\", \"ten's\"), ('greta', 'grate'), ('greta', 'great'), ('palms', 'psalm'), ('palms', 'lamps'), ('sloth', 'holst'), ('weals', 'wales'), ('noyes', 'nosey'), ('trina', 'train'), ('carla', 'clara'), ('grate', 'great'), ('cants', 'scant'), ('sedan', 'deans'), ('sedan', 'snead'), ('sedan', 'sedna'), ('cared', 'arced'), ('graze', 'gazer'), ('skype', 'pesky'), ('sinew', 'swine'), ('sinew', 'wines'), ('sprat', 'parts'), ('slink', 'kilns'), ('niger', 'reign'), ('horse', 'heros'), ('micra', 'marci'), ('credo', 'decor'), ('overt', 'voter'), ('laity', 'italy'), ('grubs', 'burgs'), ('tenor', 'toner'), ('slack', 'lacks'), ('palsy', 'plays'), ('dewey', 'weedy'), ('tamed', 'mated'), ('viler', 'liver'), ('daily', 'lydia'), ('deals', 'leads'), ('spark', 'parks'), ('luisa', 'laius'), ('daubs', 'bauds'), ('leeds', 'edsel'), ('rents', 'ernst'), ('tends', 'dents'), ('sloan', 'salon'), ('osman', 'moans'), ('laser', 'earls'), ('stack', 'tacks'), ('purse', 'super'), ('recur', 'curer'), ('rates', 'tares'), ('rates', 'tears'), ('wined', 'edwin'), ('quids', 'squid'), ('other', 'throe'), (\"aim's\", \"mia's\"), ('tansy', 'nasty'), ('saner', 'earns'), ('saner', 'nears'), ('monet', 'monte'), ('strop', 'sport'), ('trout', 'tutor'), ('cured', 'crude'), ('saver', 'raves'), ('lambs', 'balms'), ('pride', 'pried'), (\"moe's\", \"emo's\"), ('admen', 'medan'), ('roach', 'rocha'), ('stony', 'tyson'), (\"eel's\", \"lee's\"), ('ypres', 'preys'), ('odors', 'roods'), ('veers', 'sever'), ('veers', 'verse'), ('kyoto', 'tokyo'), ('horne', 'rhone'), ('horus', 'hours'), ('angel', 'angle'), ('loots', 'tools'), ('letha', 'lathe'), ('elvis', 'lives'), ('spend', 'pends'), ('sonic', 'coins'), ('rosin', 'irons'), (\"lei's\", \"eli's\"), (\"lei's\", \"lie's\"), ('could', 'cloud'), (\"nub's\", \"bun's\"), ('rices', 'cries'), ('snipe', 'pines'), ('react', 'caret'), ('react', 'crate'), ('react', 'cater'), ('react', 'trace'), ('shelf', 'flesh'), ('groan', 'argon'), ('assam', 'amass'), ('piers', 'pries'), ('piers', 'spire'), ('piton', 'point'), ('meals', 'males'), ('sever', 'verse'), ('atone', 'oaten'), ('grist', 'grits'), ('layer', 'relay'), ('smelt', 'melts'), ('roche', 'ochre'), ('titan', 'taint'), ('stray', 'trays'), ('frats', 'farts'), ('where', 'hewer'), ('pries', 'spire'), ('solis', 'soils'), ('keels', 'sleek'), ('redis', 'dries'), ('redis', 'rides'), ('hanks', 'ankhs'), ('hanks', 'khans'), ('caret', 'crate'), ('caret', 'cater'), ('caret', 'trace'), ('melba', 'blame'), ('tents', 'stent'), ('shred', 'herds'), ('tares', 'tears'), ('words', 'sword'), ('psalm', 'lamps'), ('alton', 'tonal'), ('alton', 'talon'), ('pared', 'drape'), ('pared', 'padre'), ('pared', 'raped'), ('prate', 'apter'), (\"mar's\", \"ram's\"), ('sloop', 'pools'), (\"apr's\", \"par's\"), ('stove', 'votes'), ('mesas', 'sames'), (\"dam's\", \"mad's\"), ('rouse', 'euros'), ('revel', 'lever'), ('forth', 'froth'), ('index', 'nixed'), ('ridge', 'dirge'), ('riced', 'cried'), ('holes', 'sheol'), ('hater', 'earth'), (\"pit's\", \"tip's\"), (\"sup's\", \"ups's\"), (\"tod's\", \"dot's\"), ('ramon', 'norma'), ('crate', 'cater'), ('crate', 'trace'), ('ankhs', 'khans'), ('pones', 'peons'), ('pones', 'opens'), ('leaps', 'lapse'), ('hydra', 'hardy'), ('nurse', 'runes'), ('tango', 'tonga'), ('dying', 'dingy'), ('evens', 'seven'), ('beans', 'banes'), ('techs', 'chest'), ('dries', 'rides'), ('stoke', 'tokes'), ('darin', 'indra'), ('darin', 'randi'), ('darin', 'drain'), ('mayor', 'moray'), ('drape', 'padre'), ('drape', 'raped'), ('golan', 'along'), ('golan', 'logan'), ('retry', 'terry'), ('swine', 'wines'), ('crape', 'recap'), ('tales', 'steal'), ('tales', 'stael'), ('tales', 'slate'), ('hoots', 'sooth'), ('hoots', 'shoot'), (\"eli's\", \"lie's\"), ('yemen', 'enemy'), ('earns', 'nears'), ('brain', 'brian'), ('petal', 'pleat'), ('marla', 'lamar'), ('manly', 'lyman'), ('dense', 'needs'), ('thais', 'saith'), ('sooth', 'shoot'), ('hyena', 'haney'), ('mired', 'dimer'), ('abuts', 'tabus'), ('strip', 'trips'), ('loren', 'loner'), ('steal', 'stael'), ('steal', 'slate'), ('stael', 'slate'), ('tonal', 'talon'), ('cater', 'trace'), ('sonja', 'jonas'), ('pipes', 'pepsi'), ('indra', 'randi'), ('indra', 'drain'), ('filed', 'fidel'), ('tared', 'tread'), ('wests', 'stews'), ('spots', 'posts'), ('sadie', 'ideas'), (\"pin's\", \"nip's\"), ('hunts', 'shunt'), ('laces', 'scale'), ('deans', 'snead'), ('deans', 'sedna'), ('luann', 'annul'), ('manet', 'meant'), ('freed', 'defer'), ('randi', 'drain'), ('along', 'logan'), ('peons', 'opens'), ('false', 'leafs'), ('tamra', 'marat'), ('tunis', 'units'), ('padre', 'raped'), ('snead', 'sedna'), (\"gin's\", \"ing's\"), ('craps', 'scrap'), ('ether', 'three'), ('cares', 'scare')]\n"
     ]
    }
   ],
   "source": [
    "#pairs = all_anagram_pairs(word_list)\n",
    "#print(pairs)\n",
    "\n",
    "#runs for more than 45 minutes\n",
    "\n",
    "#reduced the word list - only words with 5 letters\n",
    "word_list_5 = [word for word in word_list if len(word) == 5]\n",
    "len(word_list_5)\n",
    "\n",
    "pairs = all_anagram_pairs(word_list_5)\n",
    "print(pairs)\n",
    "\n",
    "#runtime is 18.7s"
   ]
  },
  {
   "cell_type": "markdown",
   "metadata": {},
   "source": [
    "**Exercise 5:** While that's running, let's estimate how long it's going to take."
   ]
  },
  {
   "cell_type": "markdown",
   "metadata": {},
   "source": []
  },
  {
   "cell_type": "code",
   "execution_count": null,
   "metadata": {},
   "outputs": [],
   "source": []
  },
  {
   "cell_type": "markdown",
   "metadata": {},
   "source": [
    "## A better algorithm\n",
    "\n",
    "**Exercise 6:** Write a better algorithm! Hint: make a dictionary. How much faster is your algorithm?"
   ]
  },
  {
   "cell_type": "code",
   "execution_count": 20,
   "metadata": {},
   "outputs": [],
   "source": [
    "def all_anagram_lists(word_list):\n",
    "    \"\"\"Finds all anagrams in a list of words.\n",
    "\n",
    "    word_list: sequence of strings\n",
    "    \"\"\"\n",
    "    return {}"
   ]
  },
  {
   "cell_type": "code",
   "execution_count": 21,
   "metadata": {},
   "outputs": [],
   "source": [
    "#rewrite the function to return a dictionary with the keys as the sorted words and the values as the list of words that\n",
    "# are anagrams of the key\n",
    "\n",
    "# \"\".join to concatenate list ['a', 'b', 'c', 'd', 'e', 'f'] into a string 'abcdef'\n",
    "def all_anagram_lists(word_list):\n",
    "    word_dict = {}\n",
    "    for word in word_list:\n",
    "        key = ''.join(sorted(word))\n",
    "        word_dict.setdefault(key, []).append(word)\n",
    "    return word_dict\n"
   ]
  },
  {
   "cell_type": "code",
   "execution_count": 22,
   "metadata": {},
   "outputs": [
    {
     "ename": "SyntaxError",
     "evalue": "invalid syntax (4253251940.py, line 1)",
     "output_type": "error",
     "traceback": [
      "\u001b[0;36m  Cell \u001b[0;32mIn[22], line 1\u001b[0;36m\u001b[0m\n\u001b[0;31m    explaining the code:  word_dict.setdefault(key, []).append(word)\u001b[0m\n\u001b[0m               ^\u001b[0m\n\u001b[0;31mSyntaxError\u001b[0m\u001b[0;31m:\u001b[0m invalid syntax\n"
     ]
    }
   ],
   "source": [
    "explaining the code:  word_dict.setdefault(key, []).append(word)\n",
    "#word_dict.setdefault(key, []) creates a new key with an empty list as the value\n",
    "#word_dict.setdefault(key, []).append(word) appends the word to the list\n",
    "\n",
    "pairs = all_anagram_lists(word_list_5)\n",
    "print(pairs)"
   ]
  },
  {
   "cell_type": "code",
   "execution_count": null,
   "metadata": {},
   "outputs": [
    {
     "name": "stdout",
     "output_type": "stream",
     "text": [
      "abcdef\n",
      "['a', 'b', 'c', 'd', 'e', 'f']\n"
     ]
    },
    {
     "data": {
      "text/plain": [
       "list"
      ]
     },
     "execution_count": 31,
     "metadata": {},
     "output_type": "execute_result"
    }
   ],
   "source": [
    "word =\"fedcba\"\n",
    "key = ''.join(sorted(word))\n",
    "print(key)\n",
    "\n",
    "key2 = sorted(word)\n",
    "print(key2)\n",
    "\n",
    "type(key2)"
   ]
  },
  {
   "cell_type": "code",
   "execution_count": null,
   "metadata": {},
   "outputs": [
    {
     "ename": "TypeError",
     "evalue": "unhashable type: 'list'",
     "output_type": "error",
     "traceback": [
      "\u001b[0;31m---------------------------------------------------------------------------\u001b[0m",
      "\u001b[0;31mTypeError\u001b[0m                                 Traceback (most recent call last)",
      "Cell \u001b[0;32mIn[28], line 3\u001b[0m\n\u001b[1;32m      1\u001b[0m \u001b[39m#explain all_anagram_lists\u001b[39;00m\n\u001b[0;32m----> 3\u001b[0m all_anagram_lists1(word_list_5)\n",
      "Cell \u001b[0;32mIn[27], line 5\u001b[0m, in \u001b[0;36mall_anagram_lists1\u001b[0;34m(word_list)\u001b[0m\n\u001b[1;32m      3\u001b[0m \u001b[39mfor\u001b[39;00m word \u001b[39min\u001b[39;00m word_list:\n\u001b[1;32m      4\u001b[0m     key \u001b[39m=\u001b[39m \u001b[39msorted\u001b[39m(word)\n\u001b[0;32m----> 5\u001b[0m     word_dict\u001b[39m.\u001b[39;49msetdefault(key, [])\u001b[39m.\u001b[39mappend(word)\n\u001b[1;32m      6\u001b[0m \u001b[39mreturn\u001b[39;00m word_dict\n",
      "\u001b[0;31mTypeError\u001b[0m: unhashable type: 'list'"
     ]
    }
   ],
   "source": [
    "#explain all_anagram_lists\n",
    "\n",
    "all_anagram_lists1(word_list_5)"
   ]
  },
  {
   "cell_type": "code",
   "execution_count": null,
   "metadata": {},
   "outputs": [
    {
     "name": "stdout",
     "output_type": "stream",
     "text": [
      "CPU times: user 6 µs, sys: 0 ns, total: 6 µs\n",
      "Wall time: 11.9 µs\n"
     ]
    }
   ],
   "source": [
    "%time anagram_map = all_anagram_lists(word_list)"
   ]
  },
  {
   "cell_type": "code",
   "execution_count": null,
   "metadata": {},
   "outputs": [
    {
     "data": {
      "text/plain": [
       "0"
      ]
     },
     "execution_count": 23,
     "metadata": {},
     "output_type": "execute_result"
    }
   ],
   "source": [
    "len(anagram_map)"
   ]
  },
  {
   "cell_type": "code",
   "execution_count": null,
   "metadata": {},
   "outputs": [],
   "source": []
  },
  {
   "cell_type": "markdown",
   "metadata": {},
   "source": [
    "## Summary\n",
    "\n",
    "What is the point of the examples in this notebook?\n",
    "\n",
    "* The different versions of `is_anagram` show that, when inputs are small, it is hard to say which algorithm will be the fastest. It often depends on details of the implementation. Anyway, the differences tend to be small, so it might not matter much in practice.\n",
    "\n",
    "* The different algorithms we used to search for anagram pairs show that, when inputs are large, we can often tell which algorithm will be fastest. And the difference between a fast algorithm and a slow one can be huge!"
   ]
  },
  {
   "cell_type": "markdown",
   "metadata": {},
   "source": [
    "## Exercises\n",
    "\n",
    "Before you work on these exercises, you might want to read the Python [Sorting How-To](https://docs.python.org/3/howto/sorting.html). It uses `lambda` to define an anonymous function, which [you can read about here](https://www.w3schools.com/python/python_lambda.asp).\n",
    "\n",
    "**Exercise 7:**\n",
    "Make a dictionary like `anagram_map` that contains only keys that map to a list with more than one element. You can use a `for` loop to make a new dictionary, or a [dictionary comprehension](https://www.freecodecamp.org/news/dictionary-comprehension-in-python-explained-with-examples/)."
   ]
  },
  {
   "cell_type": "code",
   "execution_count": null,
   "metadata": {},
   "outputs": [],
   "source": []
  },
  {
   "cell_type": "markdown",
   "metadata": {},
   "source": [
    "**Exercise 8:**\n",
    "Find the longest word with at least one anagram. Suggestion: use the `key` argument of `sort` or `sorted` ([see here](https://stackoverflow.com/questions/8966538/syntax-behind-sortedkey-lambda))."
   ]
  },
  {
   "cell_type": "code",
   "execution_count": null,
   "metadata": {},
   "outputs": [],
   "source": []
  },
  {
   "cell_type": "markdown",
   "metadata": {},
   "source": [
    "**Exercise 9:**\n",
    "Find the largest list of words that are anagrams of each other."
   ]
  },
  {
   "cell_type": "code",
   "execution_count": null,
   "metadata": {},
   "outputs": [],
   "source": []
  },
  {
   "cell_type": "markdown",
   "metadata": {},
   "source": [
    "**Exercise 10:**\n",
    "Write a function that takes an integer `word_length` and finds the longest list of words with the given length that are anagrams of each other."
   ]
  },
  {
   "cell_type": "code",
   "execution_count": null,
   "metadata": {},
   "outputs": [],
   "source": []
  },
  {
   "cell_type": "code",
   "execution_count": null,
   "metadata": {},
   "outputs": [],
   "source": []
  },
  {
   "cell_type": "markdown",
   "metadata": {},
   "source": [
    "**Exercise 11:**\n",
    "At this point we have a data structure that contains lists of words that are anagrams, but we have not actually enumerated all pairs.\n",
    "Write a function that takes `anagram_map` and returns a list of all anagram pairs.\n",
    "How many are there?"
   ]
  },
  {
   "cell_type": "code",
   "execution_count": null,
   "metadata": {},
   "outputs": [],
   "source": []
  },
  {
   "cell_type": "code",
   "execution_count": null,
   "metadata": {},
   "outputs": [],
   "source": []
  },
  {
   "cell_type": "code",
   "execution_count": null,
   "metadata": {},
   "outputs": [],
   "source": []
  },
  {
   "cell_type": "code",
   "execution_count": null,
   "metadata": {},
   "outputs": [],
   "source": []
  },
  {
   "cell_type": "markdown",
   "metadata": {},
   "source": [
    "*Data Structures and Information Retrieval in Python*\n",
    "\n",
    "Copyright 2021 Allen Downey\n",
    "\n",
    "License: [Creative Commons Attribution-NonCommercial-ShareAlike 4.0 International](https://creativecommons.org/licenses/by-nc-sa/4.0/)"
   ]
  }
 ],
 "metadata": {
  "kernelspec": {
   "display_name": "Python 3 (ipykernel)",
   "language": "python",
   "name": "python3"
  },
  "language_info": {
   "codemirror_mode": {
    "name": "ipython",
    "version": 3
   },
   "file_extension": ".py",
   "mimetype": "text/x-python",
   "name": "python",
   "nbconvert_exporter": "python",
   "pygments_lexer": "ipython3",
   "version": "3.10.4"
  }
 },
 "nbformat": 4,
 "nbformat_minor": 4
}
