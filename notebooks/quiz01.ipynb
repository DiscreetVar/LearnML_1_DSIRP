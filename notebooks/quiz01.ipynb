{
 "cells": [
  {
   "cell_type": "markdown",
   "metadata": {},
   "source": [
    "# Quiz 1\n",
    "\n",
    "BEFORE YOU START THIS QUIZ:\n",
    "\n",
    "1. Click on \"Copy to Drive\" to make a copy of the quiz,\n",
    "\n",
    "2. Click on \"Share\",\n",
    "    \n",
    "3. Click on \"Change\" and select \"Anyone with this link can edit\"\n",
    "    \n",
    "4. Click \"Copy link\" and\n",
    "\n",
    "5. Paste the link into [this Canvas assignment](https://canvas.olin.edu/courses/313/assignments/4866). \n",
    "\n",
    "Copyright 2021 Allen Downey, [MIT License](http://opensource.org/licenses/MIT)"
   ]
  },
  {
   "cell_type": "markdown",
   "metadata": {},
   "source": [
    "## Setup"
   ]
  },
  {
   "cell_type": "markdown",
   "metadata": {},
   "source": [
    "The following cells download a file that contains a list of words, reads the words, and stores them in a `set`."
   ]
  },
  {
   "cell_type": "code",
   "execution_count": 25,
   "metadata": {},
   "outputs": [],
   "source": [
    "from os.path import basename, exists\n",
    "\n",
    "def download(url):\n",
    "    filename = basename(url)\n",
    "    if not exists(filename):\n",
    "        from urllib.request import urlretrieve\n",
    "        local, _ = urlretrieve(url, filename)\n",
    "        print('Downloaded ' + local)\n",
    "    \n",
    "download('https://github.com/AllenDowney/DSIRP/raw/main/american-english')"
   ]
  },
  {
   "cell_type": "code",
   "execution_count": 26,
   "metadata": {},
   "outputs": [],
   "source": [
    "def read_words(filename):\n",
    "    \"\"\"Read lines from a file and split them into words.\"\"\"\n",
    "    res = set()\n",
    "    for line in open(filename):\n",
    "        for word in line.split():\n",
    "            res.add(word.strip().lower())\n",
    "    return res"
   ]
  },
  {
   "cell_type": "code",
   "execution_count": 27,
   "metadata": {},
   "outputs": [
    {
     "data": {
      "text/plain": [
       "100781"
      ]
     },
     "execution_count": 27,
     "metadata": {},
     "output_type": "execute_result"
    }
   ],
   "source": [
    "word_list = read_words('american-english')\n",
    "len(word_list)"
   ]
  },
  {
   "cell_type": "markdown",
   "metadata": {},
   "source": [
    "## Question 1\n",
    "\n",
    "The following function takes a string and returns `True` if the letters in the string appear in alphabetical order."
   ]
  },
  {
   "cell_type": "code",
   "execution_count": 28,
   "metadata": {},
   "outputs": [],
   "source": [
    "def is_alphabetical(word):\n",
    "    return list(word) == sorted(word)"
   ]
  },
  {
   "cell_type": "code",
   "execution_count": 29,
   "metadata": {},
   "outputs": [
    {
     "data": {
      "text/plain": [
       "True"
      ]
     },
     "execution_count": 29,
     "metadata": {},
     "output_type": "execute_result"
    }
   ],
   "source": [
    "is_alphabetical('almost') # True"
   ]
  },
  {
   "cell_type": "code",
   "execution_count": 30,
   "metadata": {},
   "outputs": [
    {
     "data": {
      "text/plain": [
       "False"
      ]
     },
     "execution_count": 30,
     "metadata": {},
     "output_type": "execute_result"
    }
   ],
   "source": [
    "is_alphabetical('alphabetical') # False"
   ]
  },
  {
   "cell_type": "markdown",
   "metadata": {},
   "source": [
    "Make a new list called `alpha_words` that contains only the words in `word_list` that are alphabetical, and display the length of the list."
   ]
  },
  {
   "cell_type": "code",
   "execution_count": 31,
   "metadata": {},
   "outputs": [
    {
     "name": "stdout",
     "output_type": "stream",
     "text": [
      "['sty', 'airy', 'hops', 'flops', 'blot', 'lops', 'allot', 'amy', 'finn', 'ally']\n"
     ]
    }
   ],
   "source": [
    "len(word_list)\n",
    "\n",
    "alpha_words = [word for word in word_list if is_alphabetical(word)]\n",
    "\n",
    "len(alpha_words)\n",
    "#502 words\n",
    "\n",
    "print(alpha_words[:10])\n"
   ]
  },
  {
   "cell_type": "code",
   "execution_count": null,
   "metadata": {},
   "outputs": [],
   "source": []
  },
  {
   "cell_type": "markdown",
   "metadata": {},
   "source": [
    "## Question 2\n",
    "\n",
    "Find and display the longest word in `alpha_words`.\n",
    "If there is more than one word with the maximal length, you can display any one of them (but only one).\n",
    "\n",
    "NOTE: You can write code for this question even if your answer to the previous question doesn't work. I'll grade the code, not the output."
   ]
  },
  {
   "cell_type": "code",
   "execution_count": 32,
   "metadata": {},
   "outputs": [
    {
     "data": {
      "text/plain": [
       "'billowy'"
      ]
     },
     "execution_count": 32,
     "metadata": {},
     "output_type": "execute_result"
    }
   ],
   "source": [
    "longest_word = max(alpha_words, key=len)\n",
    "longest_word\n",
    "\n",
    "\n",
    "    "
   ]
  },
  {
   "cell_type": "code",
   "execution_count": 33,
   "metadata": {},
   "outputs": [
    {
     "data": {
      "text/plain": [
       "'billowy'"
      ]
     },
     "execution_count": 33,
     "metadata": {},
     "output_type": "execute_result"
    }
   ],
   "source": [
    "#alternative solution\n",
    "longest = \"\"\n",
    "for word in alpha_words:\n",
    "    if len(word) > len(longest):\n",
    "        longest = word\n",
    "\n",
    "longest\n"
   ]
  },
  {
   "cell_type": "markdown",
   "metadata": {},
   "source": [
    "## Question 3\n",
    "\n",
    "Write a function called `encompasses` that takes two words and returns `True` if the first word contains the second word, but not at the beginning or the end (and `False` otherwise). For example, `hippopotomus` encompasses the word `pot`.\n",
    "\n",
    "HINT: You might find the string method `find` useful. "
   ]
  },
  {
   "cell_type": "code",
   "execution_count": 34,
   "metadata": {},
   "outputs": [
    {
     "data": {
      "text/plain": [
       "5"
      ]
     },
     "execution_count": 34,
     "metadata": {},
     "output_type": "execute_result"
    }
   ],
   "source": [
    "'hippopotomus'.find('pot')\n",
    "#returns index of first occuring, here: 5"
   ]
  },
  {
   "cell_type": "code",
   "execution_count": 35,
   "metadata": {},
   "outputs": [
    {
     "data": {
      "text/plain": [
       "-1"
      ]
     },
     "execution_count": 35,
     "metadata": {},
     "output_type": "execute_result"
    }
   ],
   "source": [
    "'hippopotomus'.find('potato')\n",
    "# does not exist, returns -1"
   ]
  },
  {
   "cell_type": "code",
   "execution_count": 36,
   "metadata": {},
   "outputs": [
    {
     "data": {
      "text/plain": [
       "0"
      ]
     },
     "execution_count": 36,
     "metadata": {},
     "output_type": "execute_result"
    }
   ],
   "source": [
    "'hippopotomus'.find('hip')\n",
    "# if word 2 is at the beginning, returns 0 \n",
    "# this has to be ruled out"
   ]
  },
  {
   "cell_type": "code",
   "execution_count": 37,
   "metadata": {},
   "outputs": [
    {
     "data": {
      "text/plain": [
       "8"
      ]
     },
     "execution_count": 37,
     "metadata": {},
     "output_type": "execute_result"
    }
   ],
   "source": [
    "'hippopotomus'.find('omus')\n",
    "# word 2 is at the end, returns 8\n",
    "\n",
    "#rule out that word 2 ends with word 1\n",
    "len('hippopotomus') - len('omus')\n"
   ]
  },
  {
   "cell_type": "code",
   "execution_count": 38,
   "metadata": {},
   "outputs": [],
   "source": [
    "# WRITE YOUR FUNCTION HERE\n",
    "def encompasses(word1, word2):\n",
    "    \"\"\"Checks if word1 contains word2\"\"\"\n",
    "    # create a list of conditions to check\n",
    "    check = [-1, 0, len(word1) - len(word2)]\n",
    "\n",
    "    if word1.find(word2) not in check:\n",
    "        return True\n",
    "    else:\n",
    "        return False\n",
    "    "
   ]
  },
  {
   "cell_type": "code",
   "execution_count": 39,
   "metadata": {},
   "outputs": [
    {
     "data": {
      "text/plain": [
       "False"
      ]
     },
     "execution_count": 39,
     "metadata": {},
     "output_type": "execute_result"
    }
   ],
   "source": [
    "#some tests\n",
    "\n",
    "#x in y may be useful\n",
    "\n",
    "\n",
    "y= [\"a\", \"b\", \"c\", \"d\"]\n",
    "\"a\" in y\n",
    "#returns True\n",
    "\"e\" in y\n",
    "#returns False\n"
   ]
  },
  {
   "cell_type": "code",
   "execution_count": null,
   "metadata": {},
   "outputs": [],
   "source": []
  },
  {
   "cell_type": "code",
   "execution_count": 40,
   "metadata": {},
   "outputs": [
    {
     "data": {
      "text/plain": [
       "False"
      ]
     },
     "execution_count": 40,
     "metadata": {},
     "output_type": "execute_result"
    }
   ],
   "source": [
    "encompasses('hippopotomus', 'hip')"
   ]
  },
  {
   "cell_type": "markdown",
   "metadata": {},
   "source": [
    "You can use the following examples to test your function."
   ]
  },
  {
   "cell_type": "code",
   "execution_count": 41,
   "metadata": {},
   "outputs": [],
   "source": [
    "word1 = 'hippopotamus'\n",
    "word2 = 'pot'\n",
    "word3 = 'hippo'\n",
    "word4 = 'mus'\n",
    "word5 = 'potato'"
   ]
  },
  {
   "cell_type": "code",
   "execution_count": 42,
   "metadata": {},
   "outputs": [
    {
     "data": {
      "text/plain": [
       "True"
      ]
     },
     "execution_count": 42,
     "metadata": {},
     "output_type": "execute_result"
    }
   ],
   "source": [
    "encompasses(word1, word2) # True"
   ]
  },
  {
   "cell_type": "code",
   "execution_count": 43,
   "metadata": {},
   "outputs": [
    {
     "data": {
      "text/plain": [
       "False"
      ]
     },
     "execution_count": 43,
     "metadata": {},
     "output_type": "execute_result"
    }
   ],
   "source": [
    "encompasses(word1, word3) # False because word3 is at the beginning"
   ]
  },
  {
   "cell_type": "code",
   "execution_count": 44,
   "metadata": {},
   "outputs": [
    {
     "data": {
      "text/plain": [
       "False"
      ]
     },
     "execution_count": 44,
     "metadata": {},
     "output_type": "execute_result"
    }
   ],
   "source": [
    "encompasses(word1, word4) # False because word4 is at the end"
   ]
  },
  {
   "cell_type": "code",
   "execution_count": 45,
   "metadata": {},
   "outputs": [
    {
     "data": {
      "text/plain": [
       "False"
      ]
     },
     "execution_count": 45,
     "metadata": {},
     "output_type": "execute_result"
    }
   ],
   "source": [
    "encompasses(word1, word5) # False because word5 is not in word1"
   ]
  },
  {
   "cell_type": "markdown",
   "metadata": {},
   "source": [
    "## Question 4\n",
    "\n",
    "Two words make a \"reverse pair\" if one of them is the reverse of the other. For example, `pots` and `stop` are a reverse pair.\n",
    "\n",
    "The words in a reverse pair must be different, so `gag` and `gag` are not a reverse pair.\n",
    "\n",
    "\n",
    "Make a list of all reverse pairs in `word_list`. Each pair of words should appear only once, so if `('tons', 'snot')` is in the list, `('snot', 'tons')` should not be.\n"
   ]
  },
  {
   "cell_type": "code",
   "execution_count": 50,
   "metadata": {},
   "outputs": [
    {
     "data": {
      "text/plain": [
       "[('lucien', 'nuclei'),\n",
       " ('rationalize', 'realization'),\n",
       " ('shrive', 'shiver'),\n",
       " ('putin', 'input'),\n",
       " ('carla', 'clara'),\n",
       " ('dreamer', 'rearmed'),\n",
       " ('vedas', 'saved'),\n",
       " ('hyenas', 'haynes'),\n",
       " ('relatives', 'versatile'),\n",
       " ('laden', 'alden')]"
      ]
     },
     "execution_count": 50,
     "metadata": {},
     "output_type": "execute_result"
    }
   ],
   "source": [
    "# start with anagram dictionary, reduced to keys with at least two values (words)\n",
    "\n",
    "#anagram function, modified from previous notebook\n",
    "\n",
    "def anagram_dict(word_list):\n",
    "    word_dict = {}\n",
    "    for word in word_list:\n",
    "        key = ''.join(sorted(word))\n",
    "        word_dict.setdefault(key, []).append(word)\n",
    "    #remove keys with only one value\n",
    "    for key in list(word_dict.keys()):\n",
    "        if len(word_dict[key]) == 1:\n",
    "            del word_dict[key]\n",
    "    return word_dict\n",
    "\n",
    "dict_word = anagram_dict(word_list)\n",
    "\n",
    "#get all anagram pairs in a list\n",
    "\n",
    "def anagram_pairs_list(dict):\n",
    "    # initialize an empty list to hold the anagram pairs\n",
    "    anagram_pairs = []\n",
    "    #get list of anagrams for each key\n",
    "    for key in dict:\n",
    "        word_list = dict[key]\n",
    "        #build pairs of each word with each other word in the list\n",
    "        for index, word1 in enumerate(word_list):\n",
    "            for word2 in word_list[index+1:]:\n",
    "                #append the pair to the list\n",
    "                anagram_pairs.append((word1, word2))\n",
    "\n",
    "    return anagram_pairs\n",
    "\n",
    "word_pairs = anagram_pairs_list(dict_word)\n",
    "\n",
    "word_pairs[:10]\n"
   ]
  },
  {
   "cell_type": "code",
   "execution_count": 54,
   "metadata": {},
   "outputs": [
    {
     "name": "stdout",
     "output_type": "stream",
     "text": [
      "abcdefg\n",
      "gfedcba\n",
      "[('pets', 'step'), ('slop', 'pols'), ('leg', 'gel'), ('nuts', 'stun'), ('manna', 'annam'), ('gnaw', 'wang'), ('speed', 'deeps'), ('nap', 'pan'), ('yam', 'may'), ('gab', 'bag'), ('tim', 'mit'), ('dine', 'enid'), ('denier', 'reined'), ('time', 'emit'), ('sprat', 'tarps'), ('parts', 'strap'), ('eris', 'sire'), ('keels', 'sleek'), ('bed', 'deb'), ('emir', 'rime'), ('ani', 'ina'), ('spins', 'snips'), ('flow', 'wolf'), ('part', 'trap'), ('anal', 'lana'), ('mar', 'ram'), ('drab', 'bard'), ('an', 'na'), ('seep', 'pees'), ('aver', 'reva'), ('pas', 'sap'), ('stool', 'loots'), ('ailed', 'delia'), ('saps', 'spas'), ('suez', 'zeus'), ('it', 'ti'), ('ate', 'eta'), ('spin', 'nips'), ('snip', 'pins'), ('spar', 'raps'), ('paws', 'swap'), ('pis', 'sip'), ('rebut', 'tuber'), ('trams', 'smart'), ('burg', 'grub'), ('don', 'nod'), ('dog', 'god'), ('mils', 'slim'), ('mad', 'dam'), ('tog', 'got'), ('mia', 'aim'), ('liar', 'rail'), ('slap', 'pals'), ('trig', 'girt'), ('eire', 'erie'), ('sway', 'yaws'), ('tan', 'nat'), ('fer', 'ref'), ('pal', 'lap'), ('yaps', 'spay'), ('keel', 'leek'), ('um', 'mu'), ('bur', 'rub'), ('pans', 'snap'), ('naps', 'span'), ('nor', 'ron'), ('faced', 'decaf'), ('smut', 'tums'), ('lived', 'devil'), ('stop', 'pots'), ('spot', 'tops'), ('no', 'on'), ('naive', 'evian'), ('ex', 'xe'), ('new', 'wen'), ('rood', 'door'), ('ward', 'draw'), ('sedna', 'andes'), ('elba', 'able'), ('ila', 'ali'), ('remark', 'kramer'), ('sol', 'los'), ('reviled', 'deliver'), ('marc', 'cram'), ('errol', 'lorre'), ('lime', 'emil'), ('diaper', 'repaid'), ('dial', 'laid'), ('redo', 'oder'), ('reward', 'drawer'), ('warder', 'redraw'), ('las', 'sal'), ('live', 'evil'), ('meet', 'teem'), ('neil', 'lien'), ('draws', 'sward'), ('keep', 'peek'), ('spans', 'snaps'), ('agar', 'raga'), ('hoop', 'pooh'), ('now', 'won'), ('sumac', 'camus'), ('gum', 'mug'), ('gem', 'meg'), ('revel', 'lever'), ('pit', 'tip'), ('made', 'edam'), ('nip', 'pin'), ('meh', 'hem'), ('ma', 'am'), ('abut', 'tuba'), ('mart', 'tram'), ('snub', 'buns'), ('maps', 'spam'), ('sod', 'dos'), ('remit', 'timer'), ('steels', 'sleets'), ('pam', 'map'), ('ante', 'etna'), ('lara', 'aral'), ('tow', 'wot'), ('tub', 'but'), ('tide', 'edit'), ('tod', 'dot'), ('tar', 'rat'), ('tips', 'spit'), ('aron', 'nora'), ('bin', 'nib'), ('sub', 'bus'), ('bad', 'dab'), ('bat', 'tab'), ('was', 'saw'), ('loop', 'pool'), ('mir', 'rim'), ('regor', 'roger'), ('avid', 'diva'), ('yak', 'kay'), ('tort', 'trot'), ('nut', 'tun'), ('eros', 'sore'), ('nub', 'bun'), ('raw', 'war'), ('tin', 'nit'), ('lager', 'regal'), ('tang', 'gnat'), ('doom', 'mood'), ('garb', 'brag'), ('wed', 'dew'), ('nam', 'man'), ('dub', 'bud'), ('rot', 'tor'), ('strop', 'ports'), ('dis', 'sid'), ('top', 'pot'), ('decal', 'laced'), ('smug', 'gums'), ('ajar', 'raja'), ('eon', 'noe'), ('note', 'eton'), ('star', 'rats'), ('stub', 'buts'), ('asset', 'tessa'), ('ah', 'ha'), ('leer', 'reel'), ('sag', 'gas'), ('sloop', 'pools'), ('loops', 'spool'), ('gut', 'tug'), ('relive', 'eviler'), ('fine', 'enif'), ('leon', 'noel'), ('sup', 'pus'), ('tubed', 'debut'), ('taps', 'spat'), ('mat', 'tam'), ('gob', 'bog'), ('nave', 'evan'), ('saab', 'baas'), ('dual', 'laud'), ('tool', 'loot'), ('guns', 'snug'), ('sung', 'gnus'), ('di', 'id'), ('damon', 'nomad'), ('sinned', 'dennis'), ('swam', 'maws'), ('delbert', 'trebled'), ('es', 'se'), ('era', 'are'), ('rae', 'ear'), ('slag', 'gals'), ('tins', 'snit'), ('lop', 'pol'), ('knits', 'stink'), ('sports', 'strops'), ('ned', 'den'), ('plug', 'gulp'), ('dim', 'mid'), ('sera', 'ares'), ('em', 'me'), ('ergo', 'ogre'), ('sloops', 'spools'), ('rap', 'par'), ('deer', 'reed'), ('ages', 'sega'), ('golf', 'flog'), ('spots', 'stops'), ('cork', 'kroc'), ('ton', 'not'), ('siva', 'avis'), ('he', 'eh'), ('pat', 'tap'), ('in', 'ni'), ('yard', 'dray'), ('oh', 'ho'), ('solis', 'silos'), ('denim', 'mined'), ('selim', 'miles'), ('stew', 'wets'), ('peed', 'deep'), ('male', 'elam'), ('ten', 'net'), ('elbert', 'treble'), ('bats', 'stab'), ('snoops', 'spoons'), ('is', 'si'), ('notes', 'seton'), ('pay', 'yap'), ('ac', 'ca'), ('some', 'emos'), ('per', 'rep'), ('snot', 'tons'), ('stressed', 'desserts'), ('pb', 'bp'), ('os', 'so'), ('retool', 'looter'), ('peels', 'sleep'), ('nab', 'ban'), ('nil', 'lin'), ('room', 'moor'), ('al', 'la'), ('tao', 'oat'), ('doc', 'cod'), ('straw', 'warts'), ('leper', 'repel'), ('eel', 'lee'), ('anon', 'nona'), ('nova', 'avon'), ('way', 'yaw'), ('gal', 'lag'), ('pu', 'up')]\n"
     ]
    }
   ],
   "source": [
    "# check how to reverse a string\n",
    "\n",
    "print(\"abcdefg\")\n",
    "print(\"abcdefg\"[::-1])\n",
    "\n",
    "\n",
    "#use wordpairs to find reverse pairs\n",
    "reverse_pairs = []\n",
    "\n",
    "for pair in word_pairs:\n",
    "    if pair[0] == pair[1][::-1]:\n",
    "        reverse_pairs.append(pair)\n",
    "print(reverse_pairs)"
   ]
  },
  {
   "cell_type": "markdown",
   "metadata": {},
   "source": [
    "BONUS QUESTION JUST FOR FUN: What is the longest reverse pair in this word list?"
   ]
  },
  {
   "cell_type": "code",
   "execution_count": 55,
   "metadata": {},
   "outputs": [
    {
     "data": {
      "text/plain": [
       "('stressed', 'desserts')"
      ]
     },
     "execution_count": 55,
     "metadata": {},
     "output_type": "execute_result"
    }
   ],
   "source": [
    "#find the longest reverse pair\n",
    "#len(pair[0])\n",
    "\n",
    "longest_reverse_pair = max(reverse_pairs, key=lambda pair: len(pair[0]))\n",
    "\n",
    "longest_reverse_pair\n",
    "\n",
    "#('stressed', 'desserts')"
   ]
  },
  {
   "cell_type": "code",
   "execution_count": null,
   "metadata": {},
   "outputs": [],
   "source": []
  }
 ],
 "metadata": {
  "kernelspec": {
   "display_name": "Python 3",
   "language": "python",
   "name": "python3"
  },
  "language_info": {
   "codemirror_mode": {
    "name": "ipython",
    "version": 3
   },
   "file_extension": ".py",
   "mimetype": "text/x-python",
   "name": "python",
   "nbconvert_exporter": "python",
   "pygments_lexer": "ipython3",
   "version": "3.10.4"
  },
  "vscode": {
   "interpreter": {
    "hash": "3ad933181bd8a04b432d3370b9dc3b0662ad032c4dfaa4e4f1596c548f763858"
   }
  }
 },
 "nbformat": 4,
 "nbformat_minor": 1
}
